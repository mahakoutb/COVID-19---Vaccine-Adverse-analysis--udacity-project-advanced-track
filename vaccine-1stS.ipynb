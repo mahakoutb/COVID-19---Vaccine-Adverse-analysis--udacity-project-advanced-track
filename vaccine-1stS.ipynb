{
 "cells": [
  {
   "cell_type": "markdown",
   "id": "91fea176",
   "metadata": {},
   "source": [
    "First of all ,  i am glade to reachout the final stage in this great journey with udacity \"data advanced track\" , it was a fantasitc journey ,i have got a lot of concepts , learnt a lot of data skills that i wanted to be shown here in my final project ...\n",
    "\n",
    "i searched a lot and finally decided to select this importnat topic ###\"COVID-19 World Vaccine Adverse Reactions\"###.... dataset by The Vaccine Adverse Event Reporting System (VAERS) .\n",
    "\n",
    "VAERS was created by the Food and Drug Administration (FDA) and Centers for Disease Control and Prevention (CDC) to receive reports about adverse events that may be associated with vaccines\n",
    "all references will be attached later in the last cells \n"
   ]
  },
  {
   "cell_type": "markdown",
   "id": "40df9efb",
   "metadata": {},
   "source": [
    "# COVID-19 World Vaccine Adverse Reactions"
   ]
  },
  {
   "cell_type": "markdown",
   "id": "9fb9b135",
   "metadata": {},
   "source": [
    "\n",
    "\n",
    "# Table of Content\n",
    "\n",
    "<ul>\n",
    "<li><a href=\"#Int\"> Introduction </a></li>    \n",
    "<li><a href=\"#disc\">Discover & Clean data</a></li>\n",
    "<li><a href=\"#Uni\">Univariate Exploration</a></li>    \n",
    "<li><a href=\"#Bi\">Bivariate Exploration</a></li>  \n",
    "<li><a href=\"#MU\">Multivariate Exploration</a></li>     \n",
    "<li><a href=\"#cr\">Conclusion & Recommendation </a></li>    \n",
    "<li><a href=\"#re\">References </a></li>  "
   ]
  },
  {
   "cell_type": "code",
   "execution_count": 1,
   "id": "c83f8229",
   "metadata": {},
   "outputs": [],
   "source": [
    "import pandas as pd\n",
    "import numpy as np\n",
    "import seaborn as sb\n",
    "import matplotlib.pyplot as plt\n",
    "%matplotlib inline"
   ]
  },
  {
   "cell_type": "markdown",
   "id": "79d006d4",
   "metadata": {},
   "source": [
    "<a id='Int'></a>\n",
    "\n",
    "# Introduction \n",
    "\n",
    "* I have selected the following topic to be investigated \"COVID-19 World Vaccine Adverse Reactions\"... \n",
    "* Dataset by The Vaccine Adverse Event Reporting System (VAERS) . Downloaded from kaggle.com , (link will be inserted in the references last cell )\n",
    "\n",
    "* VAERS was created by the Food and Drug Administration (FDA) and Centers for Disease Control and Prevention (CDC) to receive reports about adverse events that may be associated with vaccines all references will be attached later in the last cells\n",
    "\n",
    "* I will work on 2 CSV files "
   ]
  },
  {
   "cell_type": "markdown",
   "id": "4879b956",
   "metadata": {},
   "source": [
    "\n",
    "\n",
    "## Read & Merge CSV Files"
   ]
  },
  {
   "cell_type": "code",
   "execution_count": 2,
   "id": "a1bc3a53",
   "metadata": {},
   "outputs": [],
   "source": [
    "#read data ... i will use two data csv files \n",
    "\n",
    "A = pd.read_csv(\"2021VAERSDATA.csv\", encoding = 'unicode_escape', engine ='python')\n",
    "\n",
    "#used this code  \"encoding = 'unicode_escape', engine ='python'\"  to solve reading error that happened \n",
    "\n",
    "B = pd.read_csv(\"2021VAERSVAX.csv\")\n",
    "\n"
   ]
  },
  {
   "cell_type": "code",
   "execution_count": 3,
   "id": "cecf3d13",
   "metadata": {},
   "outputs": [
    {
     "data": {
      "text/html": [
       "<div>\n",
       "<style scoped>\n",
       "    .dataframe tbody tr th:only-of-type {\n",
       "        vertical-align: middle;\n",
       "    }\n",
       "\n",
       "    .dataframe tbody tr th {\n",
       "        vertical-align: top;\n",
       "    }\n",
       "\n",
       "    .dataframe thead th {\n",
       "        text-align: right;\n",
       "    }\n",
       "</style>\n",
       "<table border=\"1\" class=\"dataframe\">\n",
       "  <thead>\n",
       "    <tr style=\"text-align: right;\">\n",
       "      <th></th>\n",
       "      <th>VAERS_ID</th>\n",
       "      <th>RECVDATE</th>\n",
       "      <th>STATE</th>\n",
       "      <th>AGE_YRS</th>\n",
       "      <th>CAGE_YR</th>\n",
       "      <th>CAGE_MO</th>\n",
       "      <th>SEX</th>\n",
       "      <th>RPT_DATE</th>\n",
       "      <th>SYMPTOM_TEXT</th>\n",
       "      <th>DIED</th>\n",
       "      <th>...</th>\n",
       "      <th>CUR_ILL</th>\n",
       "      <th>HISTORY</th>\n",
       "      <th>PRIOR_VAX</th>\n",
       "      <th>SPLTTYPE</th>\n",
       "      <th>FORM_VERS</th>\n",
       "      <th>TODAYS_DATE</th>\n",
       "      <th>BIRTH_DEFECT</th>\n",
       "      <th>OFC_VISIT</th>\n",
       "      <th>ER_ED_VISIT</th>\n",
       "      <th>ALLERGIES</th>\n",
       "    </tr>\n",
       "  </thead>\n",
       "  <tbody>\n",
       "    <tr>\n",
       "      <th>0</th>\n",
       "      <td>916600</td>\n",
       "      <td>01/01/2021</td>\n",
       "      <td>TX</td>\n",
       "      <td>33.0</td>\n",
       "      <td>33.0</td>\n",
       "      <td>NaN</td>\n",
       "      <td>F</td>\n",
       "      <td>NaN</td>\n",
       "      <td>Right side of epiglottis swelled up and hinder...</td>\n",
       "      <td>NaN</td>\n",
       "      <td>...</td>\n",
       "      <td>None</td>\n",
       "      <td>None</td>\n",
       "      <td>NaN</td>\n",
       "      <td>NaN</td>\n",
       "      <td>2</td>\n",
       "      <td>01/01/2021</td>\n",
       "      <td>NaN</td>\n",
       "      <td>Y</td>\n",
       "      <td>NaN</td>\n",
       "      <td>Pcn and bee venom</td>\n",
       "    </tr>\n",
       "    <tr>\n",
       "      <th>1</th>\n",
       "      <td>916601</td>\n",
       "      <td>01/01/2021</td>\n",
       "      <td>CA</td>\n",
       "      <td>73.0</td>\n",
       "      <td>73.0</td>\n",
       "      <td>NaN</td>\n",
       "      <td>F</td>\n",
       "      <td>NaN</td>\n",
       "      <td>Approximately 30 min post vaccination administ...</td>\n",
       "      <td>NaN</td>\n",
       "      <td>...</td>\n",
       "      <td>Patient residing at nursing facility. See pati...</td>\n",
       "      <td>Patient residing at nursing facility. See pati...</td>\n",
       "      <td>NaN</td>\n",
       "      <td>NaN</td>\n",
       "      <td>2</td>\n",
       "      <td>01/01/2021</td>\n",
       "      <td>NaN</td>\n",
       "      <td>Y</td>\n",
       "      <td>NaN</td>\n",
       "      <td>\"Dairy\"</td>\n",
       "    </tr>\n",
       "    <tr>\n",
       "      <th>2</th>\n",
       "      <td>916602</td>\n",
       "      <td>01/01/2021</td>\n",
       "      <td>WA</td>\n",
       "      <td>23.0</td>\n",
       "      <td>23.0</td>\n",
       "      <td>NaN</td>\n",
       "      <td>F</td>\n",
       "      <td>NaN</td>\n",
       "      <td>About 15 minutes after receiving the vaccine, ...</td>\n",
       "      <td>NaN</td>\n",
       "      <td>...</td>\n",
       "      <td>None</td>\n",
       "      <td>None</td>\n",
       "      <td>NaN</td>\n",
       "      <td>NaN</td>\n",
       "      <td>2</td>\n",
       "      <td>01/01/2021</td>\n",
       "      <td>NaN</td>\n",
       "      <td>NaN</td>\n",
       "      <td>Y</td>\n",
       "      <td>Shellfish</td>\n",
       "    </tr>\n",
       "    <tr>\n",
       "      <th>3</th>\n",
       "      <td>916603</td>\n",
       "      <td>01/01/2021</td>\n",
       "      <td>WA</td>\n",
       "      <td>58.0</td>\n",
       "      <td>58.0</td>\n",
       "      <td>NaN</td>\n",
       "      <td>F</td>\n",
       "      <td>NaN</td>\n",
       "      <td>extreme fatigue, dizziness,. could not lift my...</td>\n",
       "      <td>NaN</td>\n",
       "      <td>...</td>\n",
       "      <td>kidney infection</td>\n",
       "      <td>diverticulitis, mitral valve prolapse, osteoar...</td>\n",
       "      <td>got measles from measel shot, mums from mumps ...</td>\n",
       "      <td>NaN</td>\n",
       "      <td>2</td>\n",
       "      <td>01/01/2021</td>\n",
       "      <td>NaN</td>\n",
       "      <td>NaN</td>\n",
       "      <td>NaN</td>\n",
       "      <td>Diclofenac, novacaine, lidocaine, pickles, tom...</td>\n",
       "    </tr>\n",
       "    <tr>\n",
       "      <th>4</th>\n",
       "      <td>916604</td>\n",
       "      <td>01/01/2021</td>\n",
       "      <td>TX</td>\n",
       "      <td>47.0</td>\n",
       "      <td>47.0</td>\n",
       "      <td>NaN</td>\n",
       "      <td>F</td>\n",
       "      <td>NaN</td>\n",
       "      <td>Injection site swelling, redness, warm to the ...</td>\n",
       "      <td>NaN</td>\n",
       "      <td>...</td>\n",
       "      <td>Na</td>\n",
       "      <td>NaN</td>\n",
       "      <td>NaN</td>\n",
       "      <td>NaN</td>\n",
       "      <td>2</td>\n",
       "      <td>01/01/2021</td>\n",
       "      <td>NaN</td>\n",
       "      <td>NaN</td>\n",
       "      <td>NaN</td>\n",
       "      <td>Na</td>\n",
       "    </tr>\n",
       "  </tbody>\n",
       "</table>\n",
       "<p>5 rows × 35 columns</p>\n",
       "</div>"
      ],
      "text/plain": [
       "   VAERS_ID    RECVDATE STATE  AGE_YRS  CAGE_YR  CAGE_MO SEX RPT_DATE  \\\n",
       "0    916600  01/01/2021    TX     33.0     33.0      NaN   F      NaN   \n",
       "1    916601  01/01/2021    CA     73.0     73.0      NaN   F      NaN   \n",
       "2    916602  01/01/2021    WA     23.0     23.0      NaN   F      NaN   \n",
       "3    916603  01/01/2021    WA     58.0     58.0      NaN   F      NaN   \n",
       "4    916604  01/01/2021    TX     47.0     47.0      NaN   F      NaN   \n",
       "\n",
       "                                        SYMPTOM_TEXT DIED  ...  \\\n",
       "0  Right side of epiglottis swelled up and hinder...  NaN  ...   \n",
       "1  Approximately 30 min post vaccination administ...  NaN  ...   \n",
       "2  About 15 minutes after receiving the vaccine, ...  NaN  ...   \n",
       "3  extreme fatigue, dizziness,. could not lift my...  NaN  ...   \n",
       "4  Injection site swelling, redness, warm to the ...  NaN  ...   \n",
       "\n",
       "                                             CUR_ILL  \\\n",
       "0                                               None   \n",
       "1  Patient residing at nursing facility. See pati...   \n",
       "2                                               None   \n",
       "3                                   kidney infection   \n",
       "4                                                 Na   \n",
       "\n",
       "                                             HISTORY  \\\n",
       "0                                               None   \n",
       "1  Patient residing at nursing facility. See pati...   \n",
       "2                                               None   \n",
       "3  diverticulitis, mitral valve prolapse, osteoar...   \n",
       "4                                                NaN   \n",
       "\n",
       "                                           PRIOR_VAX SPLTTYPE  FORM_VERS  \\\n",
       "0                                                NaN      NaN          2   \n",
       "1                                                NaN      NaN          2   \n",
       "2                                                NaN      NaN          2   \n",
       "3  got measles from measel shot, mums from mumps ...      NaN          2   \n",
       "4                                                NaN      NaN          2   \n",
       "\n",
       "  TODAYS_DATE BIRTH_DEFECT OFC_VISIT ER_ED_VISIT  \\\n",
       "0  01/01/2021          NaN         Y         NaN   \n",
       "1  01/01/2021          NaN         Y         NaN   \n",
       "2  01/01/2021          NaN       NaN           Y   \n",
       "3  01/01/2021          NaN       NaN         NaN   \n",
       "4  01/01/2021          NaN       NaN         NaN   \n",
       "\n",
       "                                           ALLERGIES  \n",
       "0                                  Pcn and bee venom  \n",
       "1                                            \"Dairy\"  \n",
       "2                                          Shellfish  \n",
       "3  Diclofenac, novacaine, lidocaine, pickles, tom...  \n",
       "4                                                 Na  \n",
       "\n",
       "[5 rows x 35 columns]"
      ]
     },
     "execution_count": 3,
     "metadata": {},
     "output_type": "execute_result"
    }
   ],
   "source": [
    "#overview look on data A\n",
    "\n",
    "A.head()"
   ]
  },
  {
   "cell_type": "code",
   "execution_count": 4,
   "id": "f2f7f166",
   "metadata": {},
   "outputs": [
    {
     "data": {
      "text/html": [
       "<div>\n",
       "<style scoped>\n",
       "    .dataframe tbody tr th:only-of-type {\n",
       "        vertical-align: middle;\n",
       "    }\n",
       "\n",
       "    .dataframe tbody tr th {\n",
       "        vertical-align: top;\n",
       "    }\n",
       "\n",
       "    .dataframe thead th {\n",
       "        text-align: right;\n",
       "    }\n",
       "</style>\n",
       "<table border=\"1\" class=\"dataframe\">\n",
       "  <thead>\n",
       "    <tr style=\"text-align: right;\">\n",
       "      <th></th>\n",
       "      <th>VAERS_ID</th>\n",
       "      <th>RECVDATE</th>\n",
       "      <th>STATE</th>\n",
       "      <th>AGE_YRS</th>\n",
       "      <th>CAGE_YR</th>\n",
       "      <th>CAGE_MO</th>\n",
       "      <th>SEX</th>\n",
       "      <th>RPT_DATE</th>\n",
       "      <th>SYMPTOM_TEXT</th>\n",
       "      <th>DIED</th>\n",
       "      <th>...</th>\n",
       "      <th>CUR_ILL</th>\n",
       "      <th>HISTORY</th>\n",
       "      <th>PRIOR_VAX</th>\n",
       "      <th>SPLTTYPE</th>\n",
       "      <th>FORM_VERS</th>\n",
       "      <th>TODAYS_DATE</th>\n",
       "      <th>BIRTH_DEFECT</th>\n",
       "      <th>OFC_VISIT</th>\n",
       "      <th>ER_ED_VISIT</th>\n",
       "      <th>ALLERGIES</th>\n",
       "    </tr>\n",
       "  </thead>\n",
       "  <tbody>\n",
       "    <tr>\n",
       "      <th>34116</th>\n",
       "      <td>1113917</td>\n",
       "      <td>03/19/2021</td>\n",
       "      <td>FL</td>\n",
       "      <td>88.0</td>\n",
       "      <td>87.0</td>\n",
       "      <td>NaN</td>\n",
       "      <td>F</td>\n",
       "      <td>NaN</td>\n",
       "      <td>throat closure three weeks after second dose; ...</td>\n",
       "      <td>NaN</td>\n",
       "      <td>...</td>\n",
       "      <td>NaN</td>\n",
       "      <td>Medical History/Concurrent Conditions: Aortic ...</td>\n",
       "      <td>NaN</td>\n",
       "      <td>USMODERNATX, INC.MOD20210</td>\n",
       "      <td>2</td>\n",
       "      <td>03/12/2021</td>\n",
       "      <td>NaN</td>\n",
       "      <td>NaN</td>\n",
       "      <td>Y</td>\n",
       "      <td>NaN</td>\n",
       "    </tr>\n",
       "    <tr>\n",
       "      <th>34117</th>\n",
       "      <td>1113920</td>\n",
       "      <td>03/19/2021</td>\n",
       "      <td>PA</td>\n",
       "      <td>83.0</td>\n",
       "      <td>NaN</td>\n",
       "      <td>NaN</td>\n",
       "      <td>F</td>\n",
       "      <td>NaN</td>\n",
       "      <td>positive COVID-19 test with no symptoms; Asymp...</td>\n",
       "      <td>NaN</td>\n",
       "      <td>...</td>\n",
       "      <td>NaN</td>\n",
       "      <td>Medical History/Concurrent Conditions: Atrial ...</td>\n",
       "      <td>NaN</td>\n",
       "      <td>USPFIZER INC2021231682</td>\n",
       "      <td>2</td>\n",
       "      <td>03/16/2021</td>\n",
       "      <td>NaN</td>\n",
       "      <td>Y</td>\n",
       "      <td>NaN</td>\n",
       "      <td>NaN</td>\n",
       "    </tr>\n",
       "    <tr>\n",
       "      <th>34118</th>\n",
       "      <td>1113963</td>\n",
       "      <td>03/19/2021</td>\n",
       "      <td>MS</td>\n",
       "      <td>59.0</td>\n",
       "      <td>NaN</td>\n",
       "      <td>NaN</td>\n",
       "      <td>F</td>\n",
       "      <td>NaN</td>\n",
       "      <td>HLH (hemophagocyticlymphohistiocytosis); This ...</td>\n",
       "      <td>Y</td>\n",
       "      <td>...</td>\n",
       "      <td>NaN</td>\n",
       "      <td>Medical History/Concurrent Conditions: Type II...</td>\n",
       "      <td>NaN</td>\n",
       "      <td>USPFIZER INC2021257356</td>\n",
       "      <td>2</td>\n",
       "      <td>03/12/2021</td>\n",
       "      <td>NaN</td>\n",
       "      <td>NaN</td>\n",
       "      <td>NaN</td>\n",
       "      <td>NaN</td>\n",
       "    </tr>\n",
       "    <tr>\n",
       "      <th>34119</th>\n",
       "      <td>1115045</td>\n",
       "      <td>03/19/2021</td>\n",
       "      <td>AZ</td>\n",
       "      <td>57.0</td>\n",
       "      <td>NaN</td>\n",
       "      <td>NaN</td>\n",
       "      <td>M</td>\n",
       "      <td>NaN</td>\n",
       "      <td>Death; A spontaneous report was received from ...</td>\n",
       "      <td>Y</td>\n",
       "      <td>...</td>\n",
       "      <td>NaN</td>\n",
       "      <td>Medical History/Concurrent Conditions: No adve...</td>\n",
       "      <td>NaN</td>\n",
       "      <td>USMODERNATX, INC.MOD20210</td>\n",
       "      <td>2</td>\n",
       "      <td>03/15/2021</td>\n",
       "      <td>NaN</td>\n",
       "      <td>NaN</td>\n",
       "      <td>NaN</td>\n",
       "      <td>NaN</td>\n",
       "    </tr>\n",
       "    <tr>\n",
       "      <th>34120</th>\n",
       "      <td>1115348</td>\n",
       "      <td>03/19/2021</td>\n",
       "      <td>NC</td>\n",
       "      <td>NaN</td>\n",
       "      <td>85.0</td>\n",
       "      <td>NaN</td>\n",
       "      <td>F</td>\n",
       "      <td>NaN</td>\n",
       "      <td>death; A spontaneous report was received from ...</td>\n",
       "      <td>Y</td>\n",
       "      <td>...</td>\n",
       "      <td>NaN</td>\n",
       "      <td>Comments: List of non-encoded Patient Relevant...</td>\n",
       "      <td>NaN</td>\n",
       "      <td>USMODERNATX, INC.MOD20210</td>\n",
       "      <td>2</td>\n",
       "      <td>03/12/2021</td>\n",
       "      <td>NaN</td>\n",
       "      <td>NaN</td>\n",
       "      <td>NaN</td>\n",
       "      <td>NaN</td>\n",
       "    </tr>\n",
       "  </tbody>\n",
       "</table>\n",
       "<p>5 rows × 35 columns</p>\n",
       "</div>"
      ],
      "text/plain": [
       "       VAERS_ID    RECVDATE STATE  AGE_YRS  CAGE_YR  CAGE_MO SEX RPT_DATE  \\\n",
       "34116   1113917  03/19/2021    FL     88.0     87.0      NaN   F      NaN   \n",
       "34117   1113920  03/19/2021    PA     83.0      NaN      NaN   F      NaN   \n",
       "34118   1113963  03/19/2021    MS     59.0      NaN      NaN   F      NaN   \n",
       "34119   1115045  03/19/2021    AZ     57.0      NaN      NaN   M      NaN   \n",
       "34120   1115348  03/19/2021    NC      NaN     85.0      NaN   F      NaN   \n",
       "\n",
       "                                            SYMPTOM_TEXT DIED  ... CUR_ILL  \\\n",
       "34116  throat closure three weeks after second dose; ...  NaN  ...     NaN   \n",
       "34117  positive COVID-19 test with no symptoms; Asymp...  NaN  ...     NaN   \n",
       "34118  HLH (hemophagocyticlymphohistiocytosis); This ...    Y  ...     NaN   \n",
       "34119  Death; A spontaneous report was received from ...    Y  ...     NaN   \n",
       "34120  death; A spontaneous report was received from ...    Y  ...     NaN   \n",
       "\n",
       "                                                 HISTORY PRIOR_VAX  \\\n",
       "34116  Medical History/Concurrent Conditions: Aortic ...       NaN   \n",
       "34117  Medical History/Concurrent Conditions: Atrial ...       NaN   \n",
       "34118  Medical History/Concurrent Conditions: Type II...       NaN   \n",
       "34119  Medical History/Concurrent Conditions: No adve...       NaN   \n",
       "34120  Comments: List of non-encoded Patient Relevant...       NaN   \n",
       "\n",
       "                        SPLTTYPE  FORM_VERS TODAYS_DATE BIRTH_DEFECT  \\\n",
       "34116  USMODERNATX, INC.MOD20210          2  03/12/2021          NaN   \n",
       "34117     USPFIZER INC2021231682          2  03/16/2021          NaN   \n",
       "34118     USPFIZER INC2021257356          2  03/12/2021          NaN   \n",
       "34119  USMODERNATX, INC.MOD20210          2  03/15/2021          NaN   \n",
       "34120  USMODERNATX, INC.MOD20210          2  03/12/2021          NaN   \n",
       "\n",
       "      OFC_VISIT ER_ED_VISIT ALLERGIES  \n",
       "34116       NaN           Y       NaN  \n",
       "34117         Y         NaN       NaN  \n",
       "34118       NaN         NaN       NaN  \n",
       "34119       NaN         NaN       NaN  \n",
       "34120       NaN         NaN       NaN  \n",
       "\n",
       "[5 rows x 35 columns]"
      ]
     },
     "execution_count": 4,
     "metadata": {},
     "output_type": "execute_result"
    }
   ],
   "source": [
    "A.tail()"
   ]
  },
  {
   "cell_type": "code",
   "execution_count": 5,
   "id": "f5a94746",
   "metadata": {},
   "outputs": [
    {
     "data": {
      "text/plain": [
       "(34121, 35)"
      ]
     },
     "execution_count": 5,
     "metadata": {},
     "output_type": "execute_result"
    }
   ],
   "source": [
    "#DATA SIZE\n",
    "\n",
    "A.shape"
   ]
  },
  {
   "cell_type": "code",
   "execution_count": 6,
   "id": "f3b3eb0e",
   "metadata": {},
   "outputs": [
    {
     "data": {
      "text/html": [
       "<div>\n",
       "<style scoped>\n",
       "    .dataframe tbody tr th:only-of-type {\n",
       "        vertical-align: middle;\n",
       "    }\n",
       "\n",
       "    .dataframe tbody tr th {\n",
       "        vertical-align: top;\n",
       "    }\n",
       "\n",
       "    .dataframe thead th {\n",
       "        text-align: right;\n",
       "    }\n",
       "</style>\n",
       "<table border=\"1\" class=\"dataframe\">\n",
       "  <thead>\n",
       "    <tr style=\"text-align: right;\">\n",
       "      <th></th>\n",
       "      <th>VAERS_ID</th>\n",
       "      <th>VAX_TYPE</th>\n",
       "      <th>VAX_MANU</th>\n",
       "      <th>VAX_LOT</th>\n",
       "      <th>VAX_DOSE_SERIES</th>\n",
       "      <th>VAX_ROUTE</th>\n",
       "      <th>VAX_SITE</th>\n",
       "      <th>VAX_NAME</th>\n",
       "    </tr>\n",
       "  </thead>\n",
       "  <tbody>\n",
       "    <tr>\n",
       "      <th>0</th>\n",
       "      <td>916600</td>\n",
       "      <td>COVID19</td>\n",
       "      <td>MODERNA</td>\n",
       "      <td>037K20A</td>\n",
       "      <td>1</td>\n",
       "      <td>IM</td>\n",
       "      <td>LA</td>\n",
       "      <td>COVID19 (COVID19 (MODERNA))</td>\n",
       "    </tr>\n",
       "    <tr>\n",
       "      <th>1</th>\n",
       "      <td>916601</td>\n",
       "      <td>COVID19</td>\n",
       "      <td>MODERNA</td>\n",
       "      <td>025L20A</td>\n",
       "      <td>1</td>\n",
       "      <td>IM</td>\n",
       "      <td>RA</td>\n",
       "      <td>COVID19 (COVID19 (MODERNA))</td>\n",
       "    </tr>\n",
       "    <tr>\n",
       "      <th>2</th>\n",
       "      <td>916602</td>\n",
       "      <td>COVID19</td>\n",
       "      <td>PFIZER\\BIONTECH</td>\n",
       "      <td>EL1284</td>\n",
       "      <td>1</td>\n",
       "      <td>IM</td>\n",
       "      <td>LA</td>\n",
       "      <td>COVID19 (COVID19 (PFIZER-BIONTECH))</td>\n",
       "    </tr>\n",
       "    <tr>\n",
       "      <th>3</th>\n",
       "      <td>916603</td>\n",
       "      <td>COVID19</td>\n",
       "      <td>MODERNA</td>\n",
       "      <td>unknown</td>\n",
       "      <td>UNK</td>\n",
       "      <td>NaN</td>\n",
       "      <td>NaN</td>\n",
       "      <td>COVID19 (COVID19 (MODERNA))</td>\n",
       "    </tr>\n",
       "    <tr>\n",
       "      <th>4</th>\n",
       "      <td>916604</td>\n",
       "      <td>COVID19</td>\n",
       "      <td>MODERNA</td>\n",
       "      <td>NaN</td>\n",
       "      <td>1</td>\n",
       "      <td>IM</td>\n",
       "      <td>LA</td>\n",
       "      <td>COVID19 (COVID19 (MODERNA))</td>\n",
       "    </tr>\n",
       "  </tbody>\n",
       "</table>\n",
       "</div>"
      ],
      "text/plain": [
       "   VAERS_ID VAX_TYPE         VAX_MANU  VAX_LOT VAX_DOSE_SERIES VAX_ROUTE  \\\n",
       "0    916600  COVID19          MODERNA  037K20A               1        IM   \n",
       "1    916601  COVID19          MODERNA  025L20A               1        IM   \n",
       "2    916602  COVID19  PFIZER\\BIONTECH   EL1284               1        IM   \n",
       "3    916603  COVID19          MODERNA  unknown             UNK       NaN   \n",
       "4    916604  COVID19          MODERNA      NaN               1        IM   \n",
       "\n",
       "  VAX_SITE                             VAX_NAME  \n",
       "0       LA          COVID19 (COVID19 (MODERNA))  \n",
       "1       RA          COVID19 (COVID19 (MODERNA))  \n",
       "2       LA  COVID19 (COVID19 (PFIZER-BIONTECH))  \n",
       "3      NaN          COVID19 (COVID19 (MODERNA))  \n",
       "4       LA          COVID19 (COVID19 (MODERNA))  "
      ]
     },
     "execution_count": 6,
     "metadata": {},
     "output_type": "execute_result"
    }
   ],
   "source": [
    "#over view look on B data\n",
    "\n",
    "B.head()"
   ]
  },
  {
   "cell_type": "code",
   "execution_count": 7,
   "id": "a8a75b26",
   "metadata": {},
   "outputs": [
    {
     "data": {
      "text/html": [
       "<div>\n",
       "<style scoped>\n",
       "    .dataframe tbody tr th:only-of-type {\n",
       "        vertical-align: middle;\n",
       "    }\n",
       "\n",
       "    .dataframe tbody tr th {\n",
       "        vertical-align: top;\n",
       "    }\n",
       "\n",
       "    .dataframe thead th {\n",
       "        text-align: right;\n",
       "    }\n",
       "</style>\n",
       "<table border=\"1\" class=\"dataframe\">\n",
       "  <thead>\n",
       "    <tr style=\"text-align: right;\">\n",
       "      <th></th>\n",
       "      <th>VAERS_ID</th>\n",
       "      <th>VAX_TYPE</th>\n",
       "      <th>VAX_MANU</th>\n",
       "      <th>VAX_LOT</th>\n",
       "      <th>VAX_DOSE_SERIES</th>\n",
       "      <th>VAX_ROUTE</th>\n",
       "      <th>VAX_SITE</th>\n",
       "      <th>VAX_NAME</th>\n",
       "    </tr>\n",
       "  </thead>\n",
       "  <tbody>\n",
       "    <tr>\n",
       "      <th>34625</th>\n",
       "      <td>1113917</td>\n",
       "      <td>COVID19</td>\n",
       "      <td>MODERNA</td>\n",
       "      <td>01120A</td>\n",
       "      <td>1</td>\n",
       "      <td>OT</td>\n",
       "      <td>NaN</td>\n",
       "      <td>COVID19 (COVID19 (MODERNA))</td>\n",
       "    </tr>\n",
       "    <tr>\n",
       "      <th>34626</th>\n",
       "      <td>1113920</td>\n",
       "      <td>COVID19</td>\n",
       "      <td>PFIZER\\BIONTECH</td>\n",
       "      <td>Unknown</td>\n",
       "      <td>1</td>\n",
       "      <td>NaN</td>\n",
       "      <td>NaN</td>\n",
       "      <td>COVID19 (COVID19 (PFIZER-BIONTECH))</td>\n",
       "    </tr>\n",
       "    <tr>\n",
       "      <th>34627</th>\n",
       "      <td>1113963</td>\n",
       "      <td>COVID19</td>\n",
       "      <td>PFIZER\\BIONTECH</td>\n",
       "      <td>EL9264</td>\n",
       "      <td>2</td>\n",
       "      <td>NaN</td>\n",
       "      <td>NaN</td>\n",
       "      <td>COVID19 (COVID19 (PFIZER-BIONTECH))</td>\n",
       "    </tr>\n",
       "    <tr>\n",
       "      <th>34628</th>\n",
       "      <td>1115045</td>\n",
       "      <td>COVID19</td>\n",
       "      <td>MODERNA</td>\n",
       "      <td>NaN</td>\n",
       "      <td>2</td>\n",
       "      <td>OT</td>\n",
       "      <td>NaN</td>\n",
       "      <td>COVID19 (COVID19 (MODERNA))</td>\n",
       "    </tr>\n",
       "    <tr>\n",
       "      <th>34629</th>\n",
       "      <td>1115348</td>\n",
       "      <td>COVID19</td>\n",
       "      <td>MODERNA</td>\n",
       "      <td>026A21A</td>\n",
       "      <td>1</td>\n",
       "      <td>OT</td>\n",
       "      <td>LA</td>\n",
       "      <td>COVID19 (COVID19 (MODERNA))</td>\n",
       "    </tr>\n",
       "  </tbody>\n",
       "</table>\n",
       "</div>"
      ],
      "text/plain": [
       "       VAERS_ID VAX_TYPE         VAX_MANU  VAX_LOT VAX_DOSE_SERIES VAX_ROUTE  \\\n",
       "34625   1113917  COVID19          MODERNA   01120A               1        OT   \n",
       "34626   1113920  COVID19  PFIZER\\BIONTECH  Unknown               1       NaN   \n",
       "34627   1113963  COVID19  PFIZER\\BIONTECH   EL9264               2       NaN   \n",
       "34628   1115045  COVID19          MODERNA      NaN               2        OT   \n",
       "34629   1115348  COVID19          MODERNA  026A21A               1        OT   \n",
       "\n",
       "      VAX_SITE                             VAX_NAME  \n",
       "34625      NaN          COVID19 (COVID19 (MODERNA))  \n",
       "34626      NaN  COVID19 (COVID19 (PFIZER-BIONTECH))  \n",
       "34627      NaN  COVID19 (COVID19 (PFIZER-BIONTECH))  \n",
       "34628      NaN          COVID19 (COVID19 (MODERNA))  \n",
       "34629       LA          COVID19 (COVID19 (MODERNA))  "
      ]
     },
     "execution_count": 7,
     "metadata": {},
     "output_type": "execute_result"
    }
   ],
   "source": [
    "B.tail()"
   ]
  },
  {
   "cell_type": "code",
   "execution_count": 8,
   "id": "e8c1088a",
   "metadata": {},
   "outputs": [
    {
     "data": {
      "text/plain": [
       "(34630, 8)"
      ]
     },
     "execution_count": 8,
     "metadata": {},
     "output_type": "execute_result"
    }
   ],
   "source": [
    "#data size\n",
    "\n",
    "B.shape"
   ]
  },
  {
   "cell_type": "code",
   "execution_count": 9,
   "id": "82825ccd",
   "metadata": {},
   "outputs": [
    {
     "data": {
      "text/html": [
       "<div>\n",
       "<style scoped>\n",
       "    .dataframe tbody tr th:only-of-type {\n",
       "        vertical-align: middle;\n",
       "    }\n",
       "\n",
       "    .dataframe tbody tr th {\n",
       "        vertical-align: top;\n",
       "    }\n",
       "\n",
       "    .dataframe thead th {\n",
       "        text-align: right;\n",
       "    }\n",
       "</style>\n",
       "<table border=\"1\" class=\"dataframe\">\n",
       "  <thead>\n",
       "    <tr style=\"text-align: right;\">\n",
       "      <th></th>\n",
       "      <th>VAERS_ID</th>\n",
       "      <th>RECVDATE</th>\n",
       "      <th>STATE</th>\n",
       "      <th>AGE_YRS</th>\n",
       "      <th>CAGE_YR</th>\n",
       "      <th>CAGE_MO</th>\n",
       "      <th>SEX</th>\n",
       "      <th>RPT_DATE</th>\n",
       "      <th>SYMPTOM_TEXT</th>\n",
       "      <th>DIED</th>\n",
       "      <th>...</th>\n",
       "      <th>OFC_VISIT</th>\n",
       "      <th>ER_ED_VISIT</th>\n",
       "      <th>ALLERGIES</th>\n",
       "      <th>VAX_TYPE</th>\n",
       "      <th>VAX_MANU</th>\n",
       "      <th>VAX_LOT</th>\n",
       "      <th>VAX_DOSE_SERIES</th>\n",
       "      <th>VAX_ROUTE</th>\n",
       "      <th>VAX_SITE</th>\n",
       "      <th>VAX_NAME</th>\n",
       "    </tr>\n",
       "  </thead>\n",
       "  <tbody>\n",
       "    <tr>\n",
       "      <th>0</th>\n",
       "      <td>916600</td>\n",
       "      <td>01/01/2021</td>\n",
       "      <td>TX</td>\n",
       "      <td>33.0</td>\n",
       "      <td>33.0</td>\n",
       "      <td>NaN</td>\n",
       "      <td>F</td>\n",
       "      <td>NaN</td>\n",
       "      <td>Right side of epiglottis swelled up and hinder...</td>\n",
       "      <td>NaN</td>\n",
       "      <td>...</td>\n",
       "      <td>Y</td>\n",
       "      <td>NaN</td>\n",
       "      <td>Pcn and bee venom</td>\n",
       "      <td>COVID19</td>\n",
       "      <td>MODERNA</td>\n",
       "      <td>037K20A</td>\n",
       "      <td>1</td>\n",
       "      <td>IM</td>\n",
       "      <td>LA</td>\n",
       "      <td>COVID19 (COVID19 (MODERNA))</td>\n",
       "    </tr>\n",
       "    <tr>\n",
       "      <th>1</th>\n",
       "      <td>916601</td>\n",
       "      <td>01/01/2021</td>\n",
       "      <td>CA</td>\n",
       "      <td>73.0</td>\n",
       "      <td>73.0</td>\n",
       "      <td>NaN</td>\n",
       "      <td>F</td>\n",
       "      <td>NaN</td>\n",
       "      <td>Approximately 30 min post vaccination administ...</td>\n",
       "      <td>NaN</td>\n",
       "      <td>...</td>\n",
       "      <td>Y</td>\n",
       "      <td>NaN</td>\n",
       "      <td>\"Dairy\"</td>\n",
       "      <td>COVID19</td>\n",
       "      <td>MODERNA</td>\n",
       "      <td>025L20A</td>\n",
       "      <td>1</td>\n",
       "      <td>IM</td>\n",
       "      <td>RA</td>\n",
       "      <td>COVID19 (COVID19 (MODERNA))</td>\n",
       "    </tr>\n",
       "    <tr>\n",
       "      <th>2</th>\n",
       "      <td>916602</td>\n",
       "      <td>01/01/2021</td>\n",
       "      <td>WA</td>\n",
       "      <td>23.0</td>\n",
       "      <td>23.0</td>\n",
       "      <td>NaN</td>\n",
       "      <td>F</td>\n",
       "      <td>NaN</td>\n",
       "      <td>About 15 minutes after receiving the vaccine, ...</td>\n",
       "      <td>NaN</td>\n",
       "      <td>...</td>\n",
       "      <td>NaN</td>\n",
       "      <td>Y</td>\n",
       "      <td>Shellfish</td>\n",
       "      <td>COVID19</td>\n",
       "      <td>PFIZER\\BIONTECH</td>\n",
       "      <td>EL1284</td>\n",
       "      <td>1</td>\n",
       "      <td>IM</td>\n",
       "      <td>LA</td>\n",
       "      <td>COVID19 (COVID19 (PFIZER-BIONTECH))</td>\n",
       "    </tr>\n",
       "    <tr>\n",
       "      <th>3</th>\n",
       "      <td>916603</td>\n",
       "      <td>01/01/2021</td>\n",
       "      <td>WA</td>\n",
       "      <td>58.0</td>\n",
       "      <td>58.0</td>\n",
       "      <td>NaN</td>\n",
       "      <td>F</td>\n",
       "      <td>NaN</td>\n",
       "      <td>extreme fatigue, dizziness,. could not lift my...</td>\n",
       "      <td>NaN</td>\n",
       "      <td>...</td>\n",
       "      <td>NaN</td>\n",
       "      <td>NaN</td>\n",
       "      <td>Diclofenac, novacaine, lidocaine, pickles, tom...</td>\n",
       "      <td>COVID19</td>\n",
       "      <td>MODERNA</td>\n",
       "      <td>unknown</td>\n",
       "      <td>UNK</td>\n",
       "      <td>NaN</td>\n",
       "      <td>NaN</td>\n",
       "      <td>COVID19 (COVID19 (MODERNA))</td>\n",
       "    </tr>\n",
       "    <tr>\n",
       "      <th>4</th>\n",
       "      <td>916604</td>\n",
       "      <td>01/01/2021</td>\n",
       "      <td>TX</td>\n",
       "      <td>47.0</td>\n",
       "      <td>47.0</td>\n",
       "      <td>NaN</td>\n",
       "      <td>F</td>\n",
       "      <td>NaN</td>\n",
       "      <td>Injection site swelling, redness, warm to the ...</td>\n",
       "      <td>NaN</td>\n",
       "      <td>...</td>\n",
       "      <td>NaN</td>\n",
       "      <td>NaN</td>\n",
       "      <td>Na</td>\n",
       "      <td>COVID19</td>\n",
       "      <td>MODERNA</td>\n",
       "      <td>NaN</td>\n",
       "      <td>1</td>\n",
       "      <td>IM</td>\n",
       "      <td>LA</td>\n",
       "      <td>COVID19 (COVID19 (MODERNA))</td>\n",
       "    </tr>\n",
       "  </tbody>\n",
       "</table>\n",
       "<p>5 rows × 42 columns</p>\n",
       "</div>"
      ],
      "text/plain": [
       "   VAERS_ID    RECVDATE STATE  AGE_YRS  CAGE_YR  CAGE_MO SEX RPT_DATE  \\\n",
       "0    916600  01/01/2021    TX     33.0     33.0      NaN   F      NaN   \n",
       "1    916601  01/01/2021    CA     73.0     73.0      NaN   F      NaN   \n",
       "2    916602  01/01/2021    WA     23.0     23.0      NaN   F      NaN   \n",
       "3    916603  01/01/2021    WA     58.0     58.0      NaN   F      NaN   \n",
       "4    916604  01/01/2021    TX     47.0     47.0      NaN   F      NaN   \n",
       "\n",
       "                                        SYMPTOM_TEXT DIED  ... OFC_VISIT  \\\n",
       "0  Right side of epiglottis swelled up and hinder...  NaN  ...         Y   \n",
       "1  Approximately 30 min post vaccination administ...  NaN  ...         Y   \n",
       "2  About 15 minutes after receiving the vaccine, ...  NaN  ...       NaN   \n",
       "3  extreme fatigue, dizziness,. could not lift my...  NaN  ...       NaN   \n",
       "4  Injection site swelling, redness, warm to the ...  NaN  ...       NaN   \n",
       "\n",
       "  ER_ED_VISIT                                          ALLERGIES VAX_TYPE  \\\n",
       "0         NaN                                  Pcn and bee venom  COVID19   \n",
       "1         NaN                                            \"Dairy\"  COVID19   \n",
       "2           Y                                          Shellfish  COVID19   \n",
       "3         NaN  Diclofenac, novacaine, lidocaine, pickles, tom...  COVID19   \n",
       "4         NaN                                                 Na  COVID19   \n",
       "\n",
       "          VAX_MANU  VAX_LOT VAX_DOSE_SERIES VAX_ROUTE VAX_SITE  \\\n",
       "0          MODERNA  037K20A               1        IM       LA   \n",
       "1          MODERNA  025L20A               1        IM       RA   \n",
       "2  PFIZER\\BIONTECH   EL1284               1        IM       LA   \n",
       "3          MODERNA  unknown             UNK       NaN      NaN   \n",
       "4          MODERNA      NaN               1        IM       LA   \n",
       "\n",
       "                              VAX_NAME  \n",
       "0          COVID19 (COVID19 (MODERNA))  \n",
       "1          COVID19 (COVID19 (MODERNA))  \n",
       "2  COVID19 (COVID19 (PFIZER-BIONTECH))  \n",
       "3          COVID19 (COVID19 (MODERNA))  \n",
       "4          COVID19 (COVID19 (MODERNA))  \n",
       "\n",
       "[5 rows x 42 columns]"
      ]
     },
     "execution_count": 9,
     "metadata": {},
     "output_type": "execute_result"
    }
   ],
   "source": [
    "# merge A & B\n",
    "\n",
    "VAX = A.merge(B , on= 'VAERS_ID' , how= 'left')\n",
    "VAX.head()"
   ]
  },
  {
   "cell_type": "code",
   "execution_count": 10,
   "id": "ad95640e",
   "metadata": {},
   "outputs": [
    {
     "data": {
      "text/plain": [
       "(34630, 42)"
      ]
     },
     "execution_count": 10,
     "metadata": {},
     "output_type": "execute_result"
    }
   ],
   "source": [
    "# data size after merge\n",
    "\n",
    "VAX.shape"
   ]
  },
  {
   "cell_type": "markdown",
   "id": "7eaec56a",
   "metadata": {},
   "source": [
    "<a id='disc'></a>\n",
    "\n",
    "## Discover & Clean Data\n",
    "\n",
    "In the following cells i am going to discover ,  and understand the whole dataset "
   ]
  },
  {
   "cell_type": "code",
   "execution_count": 11,
   "id": "f7c7014a",
   "metadata": {},
   "outputs": [
    {
     "data": {
      "text/plain": [
       "0"
      ]
     },
     "execution_count": 11,
     "metadata": {},
     "output_type": "execute_result"
    }
   ],
   "source": [
    "#check nan values  in ID columns\n",
    "\n",
    "VAX['VAERS_ID'].isnull().sum()\n"
   ]
  },
  {
   "cell_type": "code",
   "execution_count": 12,
   "id": "a459c795",
   "metadata": {},
   "outputs": [
    {
     "data": {
      "text/plain": [
       "34121"
      ]
     },
     "execution_count": 12,
     "metadata": {},
     "output_type": "execute_result"
    }
   ],
   "source": [
    "#check unique ID\n",
    "\n",
    "VAX['VAERS_ID'].nunique()"
   ]
  },
  {
   "cell_type": "code",
   "execution_count": 13,
   "id": "9a849aad",
   "metadata": {},
   "outputs": [
    {
     "data": {
      "text/plain": [
       "509"
      ]
     },
     "execution_count": 13,
     "metadata": {},
     "output_type": "execute_result"
    }
   ],
   "source": [
    "#check duplicates in ID\n",
    "\n",
    "VAX['VAERS_ID'].duplicated().sum()\n"
   ]
  },
  {
   "cell_type": "code",
   "execution_count": 14,
   "id": "74237858",
   "metadata": {},
   "outputs": [
    {
     "data": {
      "text/html": [
       "<div>\n",
       "<style scoped>\n",
       "    .dataframe tbody tr th:only-of-type {\n",
       "        vertical-align: middle;\n",
       "    }\n",
       "\n",
       "    .dataframe tbody tr th {\n",
       "        vertical-align: top;\n",
       "    }\n",
       "\n",
       "    .dataframe thead th {\n",
       "        text-align: right;\n",
       "    }\n",
       "</style>\n",
       "<table border=\"1\" class=\"dataframe\">\n",
       "  <thead>\n",
       "    <tr style=\"text-align: right;\">\n",
       "      <th></th>\n",
       "      <th>VAERS_ID</th>\n",
       "      <th>RECVDATE</th>\n",
       "      <th>STATE</th>\n",
       "      <th>AGE_YRS</th>\n",
       "      <th>CAGE_YR</th>\n",
       "      <th>CAGE_MO</th>\n",
       "      <th>SEX</th>\n",
       "      <th>RPT_DATE</th>\n",
       "      <th>SYMPTOM_TEXT</th>\n",
       "      <th>DIED</th>\n",
       "      <th>...</th>\n",
       "      <th>OFC_VISIT</th>\n",
       "      <th>ER_ED_VISIT</th>\n",
       "      <th>ALLERGIES</th>\n",
       "      <th>VAX_TYPE</th>\n",
       "      <th>VAX_MANU</th>\n",
       "      <th>VAX_LOT</th>\n",
       "      <th>VAX_DOSE_SERIES</th>\n",
       "      <th>VAX_ROUTE</th>\n",
       "      <th>VAX_SITE</th>\n",
       "      <th>VAX_NAME</th>\n",
       "    </tr>\n",
       "  </thead>\n",
       "  <tbody>\n",
       "    <tr>\n",
       "      <th>287</th>\n",
       "      <td>916918</td>\n",
       "      <td>01/01/2021</td>\n",
       "      <td>WI</td>\n",
       "      <td>0.33</td>\n",
       "      <td>0.0</td>\n",
       "      <td>0.4</td>\n",
       "      <td>M</td>\n",
       "      <td>NaN</td>\n",
       "      <td>Slight fever the day of the injections. The ne...</td>\n",
       "      <td>NaN</td>\n",
       "      <td>...</td>\n",
       "      <td>NaN</td>\n",
       "      <td>Y</td>\n",
       "      <td>None</td>\n",
       "      <td>HIBV</td>\n",
       "      <td>SANOFI PASTEUR</td>\n",
       "      <td>NaN</td>\n",
       "      <td>2</td>\n",
       "      <td>NaN</td>\n",
       "      <td>LG</td>\n",
       "      <td>HIB (ACTHIB)</td>\n",
       "    </tr>\n",
       "    <tr>\n",
       "      <th>288</th>\n",
       "      <td>916918</td>\n",
       "      <td>01/01/2021</td>\n",
       "      <td>WI</td>\n",
       "      <td>0.33</td>\n",
       "      <td>0.0</td>\n",
       "      <td>0.4</td>\n",
       "      <td>M</td>\n",
       "      <td>NaN</td>\n",
       "      <td>Slight fever the day of the injections. The ne...</td>\n",
       "      <td>NaN</td>\n",
       "      <td>...</td>\n",
       "      <td>NaN</td>\n",
       "      <td>Y</td>\n",
       "      <td>None</td>\n",
       "      <td>RV1</td>\n",
       "      <td>GLAXOSMITHKLINE BIOLOGICALS</td>\n",
       "      <td>NaN</td>\n",
       "      <td>2</td>\n",
       "      <td>NaN</td>\n",
       "      <td>LG</td>\n",
       "      <td>ROTAVIRUS (ROTARIX)</td>\n",
       "    </tr>\n",
       "    <tr>\n",
       "      <th>289</th>\n",
       "      <td>916918</td>\n",
       "      <td>01/01/2021</td>\n",
       "      <td>WI</td>\n",
       "      <td>0.33</td>\n",
       "      <td>0.0</td>\n",
       "      <td>0.4</td>\n",
       "      <td>M</td>\n",
       "      <td>NaN</td>\n",
       "      <td>Slight fever the day of the injections. The ne...</td>\n",
       "      <td>NaN</td>\n",
       "      <td>...</td>\n",
       "      <td>NaN</td>\n",
       "      <td>Y</td>\n",
       "      <td>None</td>\n",
       "      <td>UNK</td>\n",
       "      <td>UNKNOWN MANUFACTURER</td>\n",
       "      <td>NaN</td>\n",
       "      <td>2</td>\n",
       "      <td>NaN</td>\n",
       "      <td>LG</td>\n",
       "      <td>VACCINE NOT SPECIFIED (OTHER)</td>\n",
       "    </tr>\n",
       "    <tr>\n",
       "      <th>446</th>\n",
       "      <td>917087</td>\n",
       "      <td>01/01/2021</td>\n",
       "      <td>NC</td>\n",
       "      <td>47.00</td>\n",
       "      <td>47.0</td>\n",
       "      <td>NaN</td>\n",
       "      <td>F</td>\n",
       "      <td>NaN</td>\n",
       "      <td>Significant fatigue 24 hours after injection. ...</td>\n",
       "      <td>NaN</td>\n",
       "      <td>...</td>\n",
       "      <td>NaN</td>\n",
       "      <td>NaN</td>\n",
       "      <td>None</td>\n",
       "      <td>COVID19</td>\n",
       "      <td>PFIZER\\BIONTECH</td>\n",
       "      <td>NaN</td>\n",
       "      <td>UNK</td>\n",
       "      <td>IM</td>\n",
       "      <td>LA</td>\n",
       "      <td>COVID19 (COVID19 (PFIZER-BIONTECH))</td>\n",
       "    </tr>\n",
       "    <tr>\n",
       "      <th>970</th>\n",
       "      <td>921210</td>\n",
       "      <td>01/02/2021</td>\n",
       "      <td>TX</td>\n",
       "      <td>65.00</td>\n",
       "      <td>NaN</td>\n",
       "      <td>NaN</td>\n",
       "      <td>F</td>\n",
       "      <td>NaN</td>\n",
       "      <td>Had my first Shingrix vaccination on Oct 29 20...</td>\n",
       "      <td>NaN</td>\n",
       "      <td>...</td>\n",
       "      <td>NaN</td>\n",
       "      <td>NaN</td>\n",
       "      <td>demerol ..pine trees</td>\n",
       "      <td>VARZOS</td>\n",
       "      <td>GLAXOSMITHKLINE BIOLOGICALS</td>\n",
       "      <td>3099</td>\n",
       "      <td>1</td>\n",
       "      <td>IM</td>\n",
       "      <td>NaN</td>\n",
       "      <td>ZOSTER (SHINGRIX)</td>\n",
       "    </tr>\n",
       "    <tr>\n",
       "      <th>1418</th>\n",
       "      <td>918140</td>\n",
       "      <td>01/04/2021</td>\n",
       "      <td>NaN</td>\n",
       "      <td>NaN</td>\n",
       "      <td>NaN</td>\n",
       "      <td>NaN</td>\n",
       "      <td>M</td>\n",
       "      <td>NaN</td>\n",
       "      <td>Has Bells Palsy as a result; Side of the body ...</td>\n",
       "      <td>NaN</td>\n",
       "      <td>...</td>\n",
       "      <td>NaN</td>\n",
       "      <td>NaN</td>\n",
       "      <td>NaN</td>\n",
       "      <td>VARZOS</td>\n",
       "      <td>GLAXOSMITHKLINE BIOLOGICALS</td>\n",
       "      <td>UNK</td>\n",
       "      <td>2</td>\n",
       "      <td>NaN</td>\n",
       "      <td>NaN</td>\n",
       "      <td>ZOSTER (SHINGRIX)</td>\n",
       "    </tr>\n",
       "    <tr>\n",
       "      <th>2484</th>\n",
       "      <td>919453</td>\n",
       "      <td>01/04/2021</td>\n",
       "      <td>CA</td>\n",
       "      <td>49.00</td>\n",
       "      <td>49.0</td>\n",
       "      <td>NaN</td>\n",
       "      <td>F</td>\n",
       "      <td>NaN</td>\n",
       "      <td>Right wrist rash, 4cm x 2.5cm, with vesicles t...</td>\n",
       "      <td>NaN</td>\n",
       "      <td>...</td>\n",
       "      <td>NaN</td>\n",
       "      <td>NaN</td>\n",
       "      <td>NKDA/EA/FA</td>\n",
       "      <td>COVID19</td>\n",
       "      <td>PFIZER\\BIONTECH</td>\n",
       "      <td>EL1284</td>\n",
       "      <td>1</td>\n",
       "      <td>IM</td>\n",
       "      <td>LA</td>\n",
       "      <td>COVID19 (COVID19 (PFIZER-BIONTECH))</td>\n",
       "    </tr>\n",
       "    <tr>\n",
       "      <th>2636</th>\n",
       "      <td>919620</td>\n",
       "      <td>01/04/2021</td>\n",
       "      <td>WA</td>\n",
       "      <td>81.00</td>\n",
       "      <td>81.0</td>\n",
       "      <td>NaN</td>\n",
       "      <td>M</td>\n",
       "      <td>NaN</td>\n",
       "      <td>Decompensation and temp 103.6.</td>\n",
       "      <td>NaN</td>\n",
       "      <td>...</td>\n",
       "      <td>NaN</td>\n",
       "      <td>NaN</td>\n",
       "      <td>No</td>\n",
       "      <td>UNK</td>\n",
       "      <td>UNKNOWN MANUFACTURER</td>\n",
       "      <td>EL0140</td>\n",
       "      <td>1</td>\n",
       "      <td>NaN</td>\n",
       "      <td>UN</td>\n",
       "      <td>VACCINE NOT SPECIFIED (NO BRAND NAME)</td>\n",
       "    </tr>\n",
       "    <tr>\n",
       "      <th>3225</th>\n",
       "      <td>920270</td>\n",
       "      <td>01/05/2021</td>\n",
       "      <td>NaN</td>\n",
       "      <td>NaN</td>\n",
       "      <td>NaN</td>\n",
       "      <td>NaN</td>\n",
       "      <td>F</td>\n",
       "      <td>NaN</td>\n",
       "      <td>weakness; This is a spontaneous report from a ...</td>\n",
       "      <td>NaN</td>\n",
       "      <td>...</td>\n",
       "      <td>NaN</td>\n",
       "      <td>NaN</td>\n",
       "      <td>NaN</td>\n",
       "      <td>UNK</td>\n",
       "      <td>UNKNOWN MANUFACTURER</td>\n",
       "      <td>NaN</td>\n",
       "      <td>UNK</td>\n",
       "      <td>NaN</td>\n",
       "      <td>NaN</td>\n",
       "      <td>VACCINE NOT SPECIFIED (NO BRAND NAME)</td>\n",
       "    </tr>\n",
       "    <tr>\n",
       "      <th>3229</th>\n",
       "      <td>920275</td>\n",
       "      <td>01/05/2021</td>\n",
       "      <td>NaN</td>\n",
       "      <td>24.00</td>\n",
       "      <td>NaN</td>\n",
       "      <td>NaN</td>\n",
       "      <td>F</td>\n",
       "      <td>NaN</td>\n",
       "      <td>seizure; high fever; Initial information was r...</td>\n",
       "      <td>NaN</td>\n",
       "      <td>...</td>\n",
       "      <td>NaN</td>\n",
       "      <td>NaN</td>\n",
       "      <td>NaN</td>\n",
       "      <td>DT</td>\n",
       "      <td>UNKNOWN MANUFACTURER</td>\n",
       "      <td>NaN</td>\n",
       "      <td>UNK</td>\n",
       "      <td>OT</td>\n",
       "      <td>NaN</td>\n",
       "      <td>DT ADSORBED (NO BRAND NAME)</td>\n",
       "    </tr>\n",
       "  </tbody>\n",
       "</table>\n",
       "<p>10 rows × 42 columns</p>\n",
       "</div>"
      ],
      "text/plain": [
       "      VAERS_ID    RECVDATE STATE  AGE_YRS  CAGE_YR  CAGE_MO SEX RPT_DATE  \\\n",
       "287     916918  01/01/2021    WI     0.33      0.0      0.4   M      NaN   \n",
       "288     916918  01/01/2021    WI     0.33      0.0      0.4   M      NaN   \n",
       "289     916918  01/01/2021    WI     0.33      0.0      0.4   M      NaN   \n",
       "446     917087  01/01/2021    NC    47.00     47.0      NaN   F      NaN   \n",
       "970     921210  01/02/2021    TX    65.00      NaN      NaN   F      NaN   \n",
       "1418    918140  01/04/2021   NaN      NaN      NaN      NaN   M      NaN   \n",
       "2484    919453  01/04/2021    CA    49.00     49.0      NaN   F      NaN   \n",
       "2636    919620  01/04/2021    WA    81.00     81.0      NaN   M      NaN   \n",
       "3225    920270  01/05/2021   NaN      NaN      NaN      NaN   F      NaN   \n",
       "3229    920275  01/05/2021   NaN    24.00      NaN      NaN   F      NaN   \n",
       "\n",
       "                                           SYMPTOM_TEXT DIED  ... OFC_VISIT  \\\n",
       "287   Slight fever the day of the injections. The ne...  NaN  ...       NaN   \n",
       "288   Slight fever the day of the injections. The ne...  NaN  ...       NaN   \n",
       "289   Slight fever the day of the injections. The ne...  NaN  ...       NaN   \n",
       "446   Significant fatigue 24 hours after injection. ...  NaN  ...       NaN   \n",
       "970   Had my first Shingrix vaccination on Oct 29 20...  NaN  ...       NaN   \n",
       "1418  Has Bells Palsy as a result; Side of the body ...  NaN  ...       NaN   \n",
       "2484  Right wrist rash, 4cm x 2.5cm, with vesicles t...  NaN  ...       NaN   \n",
       "2636                     Decompensation and temp 103.6.  NaN  ...       NaN   \n",
       "3225  weakness; This is a spontaneous report from a ...  NaN  ...       NaN   \n",
       "3229  seizure; high fever; Initial information was r...  NaN  ...       NaN   \n",
       "\n",
       "     ER_ED_VISIT             ALLERGIES VAX_TYPE                     VAX_MANU  \\\n",
       "287            Y                  None     HIBV               SANOFI PASTEUR   \n",
       "288            Y                  None      RV1  GLAXOSMITHKLINE BIOLOGICALS   \n",
       "289            Y                  None      UNK         UNKNOWN MANUFACTURER   \n",
       "446          NaN                  None  COVID19              PFIZER\\BIONTECH   \n",
       "970          NaN  demerol ..pine trees   VARZOS  GLAXOSMITHKLINE BIOLOGICALS   \n",
       "1418         NaN                   NaN   VARZOS  GLAXOSMITHKLINE BIOLOGICALS   \n",
       "2484         NaN            NKDA/EA/FA  COVID19              PFIZER\\BIONTECH   \n",
       "2636         NaN                    No      UNK         UNKNOWN MANUFACTURER   \n",
       "3225         NaN                   NaN      UNK         UNKNOWN MANUFACTURER   \n",
       "3229         NaN                   NaN       DT         UNKNOWN MANUFACTURER   \n",
       "\n",
       "     VAX_LOT VAX_DOSE_SERIES VAX_ROUTE VAX_SITE  \\\n",
       "287      NaN               2       NaN       LG   \n",
       "288      NaN               2       NaN       LG   \n",
       "289      NaN               2       NaN       LG   \n",
       "446      NaN             UNK        IM       LA   \n",
       "970     3099               1        IM      NaN   \n",
       "1418     UNK               2       NaN      NaN   \n",
       "2484  EL1284               1        IM       LA   \n",
       "2636  EL0140               1       NaN       UN   \n",
       "3225     NaN             UNK       NaN      NaN   \n",
       "3229     NaN             UNK        OT      NaN   \n",
       "\n",
       "                                   VAX_NAME  \n",
       "287                            HIB (ACTHIB)  \n",
       "288                     ROTAVIRUS (ROTARIX)  \n",
       "289           VACCINE NOT SPECIFIED (OTHER)  \n",
       "446     COVID19 (COVID19 (PFIZER-BIONTECH))  \n",
       "970                       ZOSTER (SHINGRIX)  \n",
       "1418                      ZOSTER (SHINGRIX)  \n",
       "2484    COVID19 (COVID19 (PFIZER-BIONTECH))  \n",
       "2636  VACCINE NOT SPECIFIED (NO BRAND NAME)  \n",
       "3225  VACCINE NOT SPECIFIED (NO BRAND NAME)  \n",
       "3229            DT ADSORBED (NO BRAND NAME)  \n",
       "\n",
       "[10 rows x 42 columns]"
      ]
     },
     "execution_count": 14,
     "metadata": {},
     "output_type": "execute_result"
    }
   ],
   "source": [
    "#Display some duplicated rows\n",
    "\n",
    "VAX[VAX['VAERS_ID'].duplicated()].head(10)"
   ]
  },
  {
   "cell_type": "code",
   "execution_count": 15,
   "id": "4b598f73",
   "metadata": {},
   "outputs": [],
   "source": [
    "#remove duplicated ID\n",
    "\n",
    "VAX.drop_duplicates(subset = 'VAERS_ID' , keep = 'first' , inplace = True)\n"
   ]
  },
  {
   "cell_type": "code",
   "execution_count": 16,
   "id": "a355746c",
   "metadata": {},
   "outputs": [
    {
     "data": {
      "text/plain": [
       "(34121, 42)"
      ]
     },
     "execution_count": 16,
     "metadata": {},
     "output_type": "execute_result"
    }
   ],
   "source": [
    "#size after cleaning\n",
    "\n",
    "VAX.shape"
   ]
  },
  {
   "cell_type": "code",
   "execution_count": 17,
   "id": "987b5d62",
   "metadata": {},
   "outputs": [
    {
     "name": "stdout",
     "output_type": "stream",
     "text": [
      "VAERS_ID             int64\n",
      "RECVDATE            object\n",
      "STATE               object\n",
      "AGE_YRS            float64\n",
      "CAGE_YR            float64\n",
      "CAGE_MO            float64\n",
      "SEX                 object\n",
      "RPT_DATE            object\n",
      "SYMPTOM_TEXT        object\n",
      "DIED                object\n",
      "DATEDIED            object\n",
      "L_THREAT            object\n",
      "ER_VISIT            object\n",
      "HOSPITAL            object\n",
      "HOSPDAYS           float64\n",
      "X_STAY              object\n",
      "DISABLE             object\n",
      "RECOVD              object\n",
      "VAX_DATE            object\n",
      "ONSET_DATE          object\n",
      "NUMDAYS            float64\n",
      "LAB_DATA            object\n",
      "V_ADMINBY           object\n",
      "V_FUNDBY            object\n",
      "OTHER_MEDS          object\n",
      "CUR_ILL             object\n",
      "HISTORY             object\n",
      "PRIOR_VAX           object\n",
      "SPLTTYPE            object\n",
      "FORM_VERS            int64\n",
      "TODAYS_DATE         object\n",
      "BIRTH_DEFECT        object\n",
      "OFC_VISIT           object\n",
      "ER_ED_VISIT         object\n",
      "ALLERGIES           object\n",
      "VAX_TYPE            object\n",
      "VAX_MANU            object\n",
      "VAX_LOT             object\n",
      "VAX_DOSE_SERIES     object\n",
      "VAX_ROUTE           object\n",
      "VAX_SITE            object\n",
      "VAX_NAME            object\n",
      "dtype: object\n"
     ]
    }
   ],
   "source": [
    "# overview of data shape and composition\n",
    "\n",
    "print(VAX.dtypes)\n"
   ]
  },
  {
   "cell_type": "code",
   "execution_count": 18,
   "id": "52e2f738",
   "metadata": {},
   "outputs": [
    {
     "data": {
      "text/html": [
       "<div>\n",
       "<style scoped>\n",
       "    .dataframe tbody tr th:only-of-type {\n",
       "        vertical-align: middle;\n",
       "    }\n",
       "\n",
       "    .dataframe tbody tr th {\n",
       "        vertical-align: top;\n",
       "    }\n",
       "\n",
       "    .dataframe thead th {\n",
       "        text-align: right;\n",
       "    }\n",
       "</style>\n",
       "<table border=\"1\" class=\"dataframe\">\n",
       "  <thead>\n",
       "    <tr style=\"text-align: right;\">\n",
       "      <th></th>\n",
       "      <th>VAERS_ID</th>\n",
       "      <th>AGE_YRS</th>\n",
       "      <th>CAGE_YR</th>\n",
       "      <th>CAGE_MO</th>\n",
       "      <th>HOSPDAYS</th>\n",
       "      <th>NUMDAYS</th>\n",
       "      <th>FORM_VERS</th>\n",
       "    </tr>\n",
       "  </thead>\n",
       "  <tbody>\n",
       "    <tr>\n",
       "      <th>count</th>\n",
       "      <td>3.412100e+04</td>\n",
       "      <td>30933.000000</td>\n",
       "      <td>26791.000000</td>\n",
       "      <td>83.000000</td>\n",
       "      <td>2857.000000</td>\n",
       "      <td>31194.000000</td>\n",
       "      <td>34121.000000</td>\n",
       "    </tr>\n",
       "    <tr>\n",
       "      <th>mean</th>\n",
       "      <td>9.813066e+05</td>\n",
       "      <td>51.471923</td>\n",
       "      <td>51.135381</td>\n",
       "      <td>0.084337</td>\n",
       "      <td>3.752888</td>\n",
       "      <td>21.077066</td>\n",
       "      <td>1.998124</td>\n",
       "    </tr>\n",
       "    <tr>\n",
       "      <th>std</th>\n",
       "      <td>6.204535e+04</td>\n",
       "      <td>18.521742</td>\n",
       "      <td>18.633316</td>\n",
       "      <td>0.178395</td>\n",
       "      <td>3.878654</td>\n",
       "      <td>644.834400</td>\n",
       "      <td>0.043269</td>\n",
       "    </tr>\n",
       "    <tr>\n",
       "      <th>min</th>\n",
       "      <td>9.166000e+05</td>\n",
       "      <td>0.080000</td>\n",
       "      <td>0.000000</td>\n",
       "      <td>0.000000</td>\n",
       "      <td>1.000000</td>\n",
       "      <td>0.000000</td>\n",
       "      <td>1.000000</td>\n",
       "    </tr>\n",
       "    <tr>\n",
       "      <th>25%</th>\n",
       "      <td>9.264640e+05</td>\n",
       "      <td>37.000000</td>\n",
       "      <td>36.000000</td>\n",
       "      <td>0.000000</td>\n",
       "      <td>1.000000</td>\n",
       "      <td>0.000000</td>\n",
       "      <td>2.000000</td>\n",
       "    </tr>\n",
       "    <tr>\n",
       "      <th>50%</th>\n",
       "      <td>9.468370e+05</td>\n",
       "      <td>50.000000</td>\n",
       "      <td>49.000000</td>\n",
       "      <td>0.000000</td>\n",
       "      <td>3.000000</td>\n",
       "      <td>1.000000</td>\n",
       "      <td>2.000000</td>\n",
       "    </tr>\n",
       "    <tr>\n",
       "      <th>75%</th>\n",
       "      <td>1.047069e+06</td>\n",
       "      <td>65.000000</td>\n",
       "      <td>65.000000</td>\n",
       "      <td>0.000000</td>\n",
       "      <td>5.000000</td>\n",
       "      <td>3.000000</td>\n",
       "      <td>2.000000</td>\n",
       "    </tr>\n",
       "    <tr>\n",
       "      <th>max</th>\n",
       "      <td>1.115348e+06</td>\n",
       "      <td>115.000000</td>\n",
       "      <td>106.000000</td>\n",
       "      <td>0.700000</td>\n",
       "      <td>39.000000</td>\n",
       "      <td>36896.000000</td>\n",
       "      <td>2.000000</td>\n",
       "    </tr>\n",
       "  </tbody>\n",
       "</table>\n",
       "</div>"
      ],
      "text/plain": [
       "           VAERS_ID       AGE_YRS       CAGE_YR    CAGE_MO     HOSPDAYS  \\\n",
       "count  3.412100e+04  30933.000000  26791.000000  83.000000  2857.000000   \n",
       "mean   9.813066e+05     51.471923     51.135381   0.084337     3.752888   \n",
       "std    6.204535e+04     18.521742     18.633316   0.178395     3.878654   \n",
       "min    9.166000e+05      0.080000      0.000000   0.000000     1.000000   \n",
       "25%    9.264640e+05     37.000000     36.000000   0.000000     1.000000   \n",
       "50%    9.468370e+05     50.000000     49.000000   0.000000     3.000000   \n",
       "75%    1.047069e+06     65.000000     65.000000   0.000000     5.000000   \n",
       "max    1.115348e+06    115.000000    106.000000   0.700000    39.000000   \n",
       "\n",
       "            NUMDAYS     FORM_VERS  \n",
       "count  31194.000000  34121.000000  \n",
       "mean      21.077066      1.998124  \n",
       "std      644.834400      0.043269  \n",
       "min        0.000000      1.000000  \n",
       "25%        0.000000      2.000000  \n",
       "50%        1.000000      2.000000  \n",
       "75%        3.000000      2.000000  \n",
       "max    36896.000000      2.000000  "
      ]
     },
     "execution_count": 18,
     "metadata": {},
     "output_type": "execute_result"
    }
   ],
   "source": [
    "# descriptive statistics for numeric variables\n",
    "VAX.describe()"
   ]
  },
  {
   "cell_type": "markdown",
   "id": "a034edf1",
   "metadata": {},
   "source": [
    "### As we see , large amount of columns that couldn't shown all on above table , now we are going to discover the hidden columns  and determine which of them we won't need "
   ]
  },
  {
   "cell_type": "code",
   "execution_count": 19,
   "id": "bc7eef32",
   "metadata": {},
   "outputs": [
    {
     "data": {
      "text/plain": [
       "Index(['VAERS_ID', 'RECVDATE', 'STATE', 'AGE_YRS', 'CAGE_YR', 'CAGE_MO', 'SEX',\n",
       "       'RPT_DATE', 'SYMPTOM_TEXT', 'DIED', 'DATEDIED', 'L_THREAT', 'ER_VISIT',\n",
       "       'HOSPITAL', 'HOSPDAYS', 'X_STAY', 'DISABLE', 'RECOVD', 'VAX_DATE',\n",
       "       'ONSET_DATE', 'NUMDAYS', 'LAB_DATA', 'V_ADMINBY', 'V_FUNDBY',\n",
       "       'OTHER_MEDS', 'CUR_ILL', 'HISTORY', 'PRIOR_VAX', 'SPLTTYPE',\n",
       "       'FORM_VERS', 'TODAYS_DATE', 'BIRTH_DEFECT', 'OFC_VISIT', 'ER_ED_VISIT',\n",
       "       'ALLERGIES', 'VAX_TYPE', 'VAX_MANU', 'VAX_LOT', 'VAX_DOSE_SERIES',\n",
       "       'VAX_ROUTE', 'VAX_SITE', 'VAX_NAME'],\n",
       "      dtype='object')"
      ]
     },
     "execution_count": 19,
     "metadata": {},
     "output_type": "execute_result"
    }
   ],
   "source": [
    "VAX.columns"
   ]
  },
  {
   "cell_type": "markdown",
   "id": "e2dcf9d9",
   "metadata": {},
   "source": [
    "### Explain columns  ###reference: pdf will be attached later\n",
    "\n",
    "1-'VAERS_ID' = VAERS Identification Number\n",
    "\n",
    "2-'RECVDATE' = Receive Date : The date the VAERS form information was received \n",
    "to our processing center\n",
    "\n",
    "3-'STATE' =  The two-letter US Postal Service abbreviation for the home state \n",
    "of the vaccinee. Please note that all foreign reports are contained in a separate data \n",
    "file. \n",
    "\n",
    "4-'AGE_YRS' = The recorded vaccine recipient's age in years.\n",
    "\n",
    "5-'CAGE_YR' =  Age of patient in years \n",
    "\n",
    "6-'CAGE_MO' = Age of patient in months . The values for this variable range from 0 to <1. It is only calculated for \n",
    "patients age 2 years or less. \n",
    "\n",
    "7-'SEX' = Sex of the vaccine recipient (M = Male, F = Female, Unknown = Blank).\n",
    "\n",
    "8-'RPT_DATE' = Date the VAERS form was completed by the reporter as recorded on the specified field of the form. This is a VAERS 1 form field only.\n",
    "\n",
    "9-'SYMPTOM_TEXT' = This is the symptom text \n",
    "recorded in the form. MedDRA Terms are derived from this text and placed in the \n",
    "VAERSSYMPTOMS file\n",
    "\n",
    "10-'DIED' =  If the vaccine recipient died a \"Y\" is used; otherwise the field \n",
    "will be blank\n",
    "\n",
    "11-'DATEDIED' = Date of Death: If the vaccine recipient died there is space in \n",
    "this field to record the date of death; otherwise the field will be blank.\n",
    "\n",
    "12-'L_THREAT' =  Life Threatening : If the vaccine recipient had a life\u0002threatening event associated with the vaccination a \"Y\" is placed is used;\n",
    "otherwise the field will be blank\n",
    "\n",
    "\n",
    "13-'ER_VISIT' = Emergency Room (ER_VISIT): If the vaccine recipient required an \n",
    "emergency room or doctor visit a \"Y\" is placed in this field; otherwise the \n",
    "field will be blank. If this is the only option checked the report is not \n",
    "considered serious. This is a VAERS 1 form field only\n",
    "\n",
    "14-'HOSPITAL' = Hospitalized (HOSPITAL): If the vaccine recipient was hospitalized as a \n",
    "result of the vaccination a \"Y\" is used; otherwise the field will be blank.\n",
    "\n",
    "15-'HOSPDAYS' = Days Hospitalized (HOSPDAYS): If the reporter checked that the vaccine \n",
    "recipient was hospitalized a space is provided in this field to record the \n",
    "number of days hospitalized; otherwise the field will be blank.\n",
    "\n",
    "16-'X_STAY' = Prolonged Hospitalization (X_STAY): If a patient's hospitalization is \n",
    "prolonged as a result of the adverse event associated with the vaccination \n",
    "a \"Y\" will be placed in this field; otherwise the field will be blank\n",
    "\n",
    "17-'DISABLE' = Disability (DISABLE): If the vaccine recipient was disabled as a result of \n",
    "the vaccination a \"Y\" is placed in this field; otherwise the field will be \n",
    "blank\n",
    "\n",
    "18-'RECOVD' =  Recovered (RECOVD): A \"Y\" is placed in the field if the vaccine recipient \n",
    "recovered from the adverse event. \"N\" indicates that the vaccinee has not recovered \n",
    "from the adverse event. \"U\" or blank indicates that the vaccine recipient's recovery \n",
    "status is unknown\n",
    "\n",
    "19-'VAX_DATE' = Vaccination Date: The date of vaccination as recorded in the \n",
    "specified field of the form.\n",
    "\n",
    "20-'ONSET_DATE' = Onset Date (ONSET_DATE): The date of the onset of adverse event symptoms \n",
    "associated with the vaccination as recorded in the specified field of the form.\n",
    "\n",
    "21-'NUMDAYS' =  Onset Interval (NUMDAYS): The calculated interval (in days) from the \n",
    "vaccination date to the onset date\n",
    "\n",
    "22-'LAB_DATA' = Relevant Diagnostic Tests/Laboratory Data (LAB_DATA): This text field \n",
    "contains narrative about any relevant diagnostic tests or laboratory results as \n",
    "recorded on the specified field of the form\n",
    "\n",
    "\n",
    "23-'V_ADMINBY' = Vaccine Administered at (V_ADMINBY): The reporter may note on the VAERS \n",
    "form the type of facility administering the vaccine. The options are different \n",
    "depending on the form version; additional options were added on the VAERS 2\n",
    "form.\n",
    "\n",
    "24-'V_FUNDBY' = ) Vaccine Purchased with (V_FUNDBY): This is a VAERS 1 field only. The \n",
    "reporter may note in Box 16 on the VAERS form which type of funds were used to \n",
    "purchase the vaccines administered in Box 13 (PUB=Public, PVT=Private, \n",
    "MIL=Military; OTH=Other/Unknown)\n",
    "\n",
    "\n",
    "25-'OTHER_MEDS' = Other Medications (OTHER_MEDS): This text field contains narrative about \n",
    "any prescription or non-prescription drugs the vaccine recipient was taking at the \n",
    "time of vaccination as recorded on the specified field of the form.\n",
    "\n",
    "26-'CUR_ILL' = Current Illnesses (CUR_ILL): This text field contains narrative about any \n",
    "illnesses at the time of the vaccination as noted on the specified field of the form\n",
    "\n",
    "\n",
    "27-'HISTORY' = Pre-existing Conditions (HISTORY): This text field contains narrative about \n",
    "any pre-existing physician-diagnosed birth defects or medical condition that existed \n",
    "at the time of vaccination as noted on the specified field of the form. For the VAERS \n",
    "1 form, this field also includes pre-existing physician-diagnosed allergies.\n",
    "\n",
    "28-'PRIOR_VAX' = Prior Vaccination Event Information (PRIOR_VAX): This field provides prior \n",
    "vaccination event information as recorded on the specified field of the form\n",
    "\n",
    "\n",
    "29-'SPLTTYPE' = Manufacturer Number (SPLTTYPE): Manufacturer number or Immunization \n",
    "Project number as recorded on the specified field of the form\n",
    "\n",
    "30-'FORM_VERS' = VAERS form version 1 or 2\n",
    "\n",
    "31-'TODAYS_DATE' = Date Form Completed\n",
    "\n",
    "32-'BIRTH_DEFECT' = Congenital Anomaly or Birth Defect (BIRTH_DEFECT): If the vaccine \n",
    "recipient had a congenital anomaly or birth defect associated with the \n",
    "vaccination, a \"Y\" is used; otherwise the field will be blank. This is a \n",
    "VAERS 2 form field only\n",
    "\n",
    "33-'OFC_VISIT' = Doctor or other healthcare provider office/clinic visit \n",
    "\n",
    "34-'ER_ED_VISIT' = Emergency room/department or urgent care\n",
    "\n",
    "35-'ALLERGIES' = Allergies to medications, food or other products (ALLERGIES): This text \n",
    "field contains narrative about any pre-existing physician-diagnosed allergies that \n",
    "existed at the time of vaccination as noted in the specified field of the form. This is a \n",
    "VAERS 2 form field only.\n",
    "36-'VAX_TYPE'= Administered Vaccine Type\n",
    "\n",
    "37-'VAX_MANU' = Vaccine Manufacturer\n",
    "38-'VAX_LOT' = Manufacturer's Vaccine Lot\n",
    "39-'VAX_DOSE_SERIES' = Number of doses administered\n",
    "40-'VAX_ROUTE' = Vaccination Route\n",
    "41-'VAX_SITE' = Vaccination Site\n",
    "42-'VAX_NAME' = Vaccination Name\n",
    "\n",
    "\n",
    "\n",
    "\n"
   ]
  },
  {
   "cell_type": "code",
   "execution_count": 20,
   "id": "e44ba585",
   "metadata": {},
   "outputs": [
    {
     "data": {
      "text/html": [
       "<div>\n",
       "<style scoped>\n",
       "    .dataframe tbody tr th:only-of-type {\n",
       "        vertical-align: middle;\n",
       "    }\n",
       "\n",
       "    .dataframe tbody tr th {\n",
       "        vertical-align: top;\n",
       "    }\n",
       "\n",
       "    .dataframe thead th {\n",
       "        text-align: right;\n",
       "    }\n",
       "</style>\n",
       "<table border=\"1\" class=\"dataframe\">\n",
       "  <thead>\n",
       "    <tr style=\"text-align: right;\">\n",
       "      <th></th>\n",
       "      <th>VAERS_ID</th>\n",
       "      <th>RECVDATE</th>\n",
       "      <th>STATE</th>\n",
       "      <th>AGE_YRS</th>\n",
       "      <th>CAGE_YR</th>\n",
       "      <th>CAGE_MO</th>\n",
       "      <th>SEX</th>\n",
       "      <th>RPT_DATE</th>\n",
       "      <th>SYMPTOM_TEXT</th>\n",
       "      <th>DIED</th>\n",
       "      <th>DATEDIED</th>\n",
       "      <th>L_THREAT</th>\n",
       "      <th>ER_VISIT</th>\n",
       "      <th>HOSPITAL</th>\n",
       "      <th>HOSPDAYS</th>\n",
       "      <th>X_STAY</th>\n",
       "      <th>DISABLE</th>\n",
       "      <th>RECOVD</th>\n",
       "      <th>VAX_DATE</th>\n",
       "      <th>ONSET_DATE</th>\n",
       "      <th>NUMDAYS</th>\n",
       "      <th>LAB_DATA</th>\n",
       "      <th>V_ADMINBY</th>\n",
       "      <th>V_FUNDBY</th>\n",
       "      <th>OTHER_MEDS</th>\n",
       "      <th>CUR_ILL</th>\n",
       "      <th>HISTORY</th>\n",
       "      <th>PRIOR_VAX</th>\n",
       "      <th>SPLTTYPE</th>\n",
       "      <th>FORM_VERS</th>\n",
       "      <th>TODAYS_DATE</th>\n",
       "      <th>BIRTH_DEFECT</th>\n",
       "      <th>OFC_VISIT</th>\n",
       "      <th>ER_ED_VISIT</th>\n",
       "      <th>ALLERGIES</th>\n",
       "      <th>VAX_TYPE</th>\n",
       "      <th>VAX_MANU</th>\n",
       "      <th>VAX_LOT</th>\n",
       "      <th>VAX_DOSE_SERIES</th>\n",
       "      <th>VAX_ROUTE</th>\n",
       "      <th>VAX_SITE</th>\n",
       "      <th>VAX_NAME</th>\n",
       "    </tr>\n",
       "  </thead>\n",
       "  <tbody>\n",
       "    <tr>\n",
       "      <th>27438</th>\n",
       "      <td>1049498</td>\n",
       "      <td>02/23/2021</td>\n",
       "      <td>OH</td>\n",
       "      <td>41.0</td>\n",
       "      <td>41.0</td>\n",
       "      <td>NaN</td>\n",
       "      <td>M</td>\n",
       "      <td>NaN</td>\n",
       "      <td>After I went to bed, I started running a fever...</td>\n",
       "      <td>NaN</td>\n",
       "      <td>NaN</td>\n",
       "      <td>NaN</td>\n",
       "      <td>NaN</td>\n",
       "      <td>NaN</td>\n",
       "      <td>NaN</td>\n",
       "      <td>NaN</td>\n",
       "      <td>NaN</td>\n",
       "      <td>Y</td>\n",
       "      <td>02/22/2021</td>\n",
       "      <td>02/23/2021</td>\n",
       "      <td>1.0</td>\n",
       "      <td>NaN</td>\n",
       "      <td>MIL</td>\n",
       "      <td>NaN</td>\n",
       "      <td>Daily multivitamin</td>\n",
       "      <td>None</td>\n",
       "      <td>None</td>\n",
       "      <td>NaN</td>\n",
       "      <td>NaN</td>\n",
       "      <td>2</td>\n",
       "      <td>02/23/2021</td>\n",
       "      <td>NaN</td>\n",
       "      <td>NaN</td>\n",
       "      <td>NaN</td>\n",
       "      <td>None known</td>\n",
       "      <td>COVID19</td>\n",
       "      <td>PFIZER\\BIONTECH</td>\n",
       "      <td>NaN</td>\n",
       "      <td>2</td>\n",
       "      <td>SYR</td>\n",
       "      <td>LA</td>\n",
       "      <td>COVID19 (COVID19 (PFIZER-BIONTECH))</td>\n",
       "    </tr>\n",
       "    <tr>\n",
       "      <th>30391</th>\n",
       "      <td>1068028</td>\n",
       "      <td>03/03/2021</td>\n",
       "      <td>NJ</td>\n",
       "      <td>42.0</td>\n",
       "      <td>NaN</td>\n",
       "      <td>NaN</td>\n",
       "      <td>M</td>\n",
       "      <td>NaN</td>\n",
       "      <td>Nasal congestion; sore throat; This is a spont...</td>\n",
       "      <td>NaN</td>\n",
       "      <td>NaN</td>\n",
       "      <td>NaN</td>\n",
       "      <td>NaN</td>\n",
       "      <td>NaN</td>\n",
       "      <td>NaN</td>\n",
       "      <td>NaN</td>\n",
       "      <td>NaN</td>\n",
       "      <td>N</td>\n",
       "      <td>01/29/2021</td>\n",
       "      <td>01/30/2021</td>\n",
       "      <td>1.0</td>\n",
       "      <td>NaN</td>\n",
       "      <td>PUB</td>\n",
       "      <td>NaN</td>\n",
       "      <td>NaN</td>\n",
       "      <td>NaN</td>\n",
       "      <td>Medical History/Concurrent Conditions: Diabeti...</td>\n",
       "      <td>NaN</td>\n",
       "      <td>USPFIZER INC2021093318</td>\n",
       "      <td>2</td>\n",
       "      <td>03/01/2021</td>\n",
       "      <td>NaN</td>\n",
       "      <td>NaN</td>\n",
       "      <td>NaN</td>\n",
       "      <td>NaN</td>\n",
       "      <td>COVID19</td>\n",
       "      <td>PFIZER\\BIONTECH</td>\n",
       "      <td>NaN</td>\n",
       "      <td>1</td>\n",
       "      <td>NaN</td>\n",
       "      <td>LA</td>\n",
       "      <td>COVID19 (COVID19 (PFIZER-BIONTECH))</td>\n",
       "    </tr>\n",
       "    <tr>\n",
       "      <th>3584</th>\n",
       "      <td>920722</td>\n",
       "      <td>01/05/2021</td>\n",
       "      <td>MI</td>\n",
       "      <td>54.0</td>\n",
       "      <td>54.0</td>\n",
       "      <td>NaN</td>\n",
       "      <td>F</td>\n",
       "      <td>NaN</td>\n",
       "      <td>Started to feel dizzy about9 hours after the v...</td>\n",
       "      <td>NaN</td>\n",
       "      <td>NaN</td>\n",
       "      <td>NaN</td>\n",
       "      <td>NaN</td>\n",
       "      <td>NaN</td>\n",
       "      <td>NaN</td>\n",
       "      <td>NaN</td>\n",
       "      <td>NaN</td>\n",
       "      <td>N</td>\n",
       "      <td>01/04/2021</td>\n",
       "      <td>01/04/2021</td>\n",
       "      <td>0.0</td>\n",
       "      <td>NaN</td>\n",
       "      <td>WRK</td>\n",
       "      <td>NaN</td>\n",
       "      <td>Multivitamin and Vitamin D</td>\n",
       "      <td>None</td>\n",
       "      <td>Tendonosis of right elbow</td>\n",
       "      <td>NaN</td>\n",
       "      <td>NaN</td>\n",
       "      <td>2</td>\n",
       "      <td>01/05/2021</td>\n",
       "      <td>NaN</td>\n",
       "      <td>NaN</td>\n",
       "      <td>NaN</td>\n",
       "      <td>PCN</td>\n",
       "      <td>COVID19</td>\n",
       "      <td>PFIZER\\BIONTECH</td>\n",
       "      <td>EK9231</td>\n",
       "      <td>1</td>\n",
       "      <td>IM</td>\n",
       "      <td>LA</td>\n",
       "      <td>COVID19 (COVID19 (PFIZER-BIONTECH))</td>\n",
       "    </tr>\n",
       "    <tr>\n",
       "      <th>34193</th>\n",
       "      <td>1100465</td>\n",
       "      <td>03/15/2021</td>\n",
       "      <td>FL</td>\n",
       "      <td>80.0</td>\n",
       "      <td>NaN</td>\n",
       "      <td>NaN</td>\n",
       "      <td>F</td>\n",
       "      <td>NaN</td>\n",
       "      <td>Very high glucose + 300 with need for more tha...</td>\n",
       "      <td>NaN</td>\n",
       "      <td>NaN</td>\n",
       "      <td>NaN</td>\n",
       "      <td>NaN</td>\n",
       "      <td>NaN</td>\n",
       "      <td>NaN</td>\n",
       "      <td>NaN</td>\n",
       "      <td>NaN</td>\n",
       "      <td>N</td>\n",
       "      <td>02/14/2021</td>\n",
       "      <td>02/01/2021</td>\n",
       "      <td>NaN</td>\n",
       "      <td>Test Name: very high glucose + 300; Result Uns...</td>\n",
       "      <td>OTH</td>\n",
       "      <td>NaN</td>\n",
       "      <td>TOPROL XL; KCL; LASIX [FUROSEMIDE]; SPIRONOLAC...</td>\n",
       "      <td>NaN</td>\n",
       "      <td>Medical History/Concurrent Conditions: Diabete...</td>\n",
       "      <td>NaN</td>\n",
       "      <td>USPFIZER INC2021205880</td>\n",
       "      <td>2</td>\n",
       "      <td>03/09/2021</td>\n",
       "      <td>NaN</td>\n",
       "      <td>Y</td>\n",
       "      <td>NaN</td>\n",
       "      <td>NaN</td>\n",
       "      <td>COVID19</td>\n",
       "      <td>PFIZER\\BIONTECH</td>\n",
       "      <td>EM9810</td>\n",
       "      <td>1</td>\n",
       "      <td>NaN</td>\n",
       "      <td>RA</td>\n",
       "      <td>COVID19 (COVID19 (PFIZER-BIONTECH))</td>\n",
       "    </tr>\n",
       "    <tr>\n",
       "      <th>17047</th>\n",
       "      <td>933761</td>\n",
       "      <td>01/11/2021</td>\n",
       "      <td>WI</td>\n",
       "      <td>45.0</td>\n",
       "      <td>45.0</td>\n",
       "      <td>NaN</td>\n",
       "      <td>F</td>\n",
       "      <td>NaN</td>\n",
       "      <td>Woke up at 7am at 8:15am both of my eyes swell...</td>\n",
       "      <td>NaN</td>\n",
       "      <td>NaN</td>\n",
       "      <td>NaN</td>\n",
       "      <td>NaN</td>\n",
       "      <td>NaN</td>\n",
       "      <td>NaN</td>\n",
       "      <td>NaN</td>\n",
       "      <td>NaN</td>\n",
       "      <td>Y</td>\n",
       "      <td>01/08/2021</td>\n",
       "      <td>01/09/2021</td>\n",
       "      <td>1.0</td>\n",
       "      <td>None</td>\n",
       "      <td>PVT</td>\n",
       "      <td>NaN</td>\n",
       "      <td>NaN</td>\n",
       "      <td>None</td>\n",
       "      <td>Asthma Allergies Obstructive Sleep Apnea Syndr...</td>\n",
       "      <td>NaN</td>\n",
       "      <td>NaN</td>\n",
       "      <td>2</td>\n",
       "      <td>01/11/2021</td>\n",
       "      <td>NaN</td>\n",
       "      <td>NaN</td>\n",
       "      <td>Y</td>\n",
       "      <td>Sulfa Drugs Hydromorphone Hcl Acetaminophen-Co...</td>\n",
       "      <td>COVID19</td>\n",
       "      <td>PFIZER\\BIONTECH</td>\n",
       "      <td>el0142</td>\n",
       "      <td>2</td>\n",
       "      <td>IM</td>\n",
       "      <td>LA</td>\n",
       "      <td>COVID19 (COVID19 (PFIZER-BIONTECH))</td>\n",
       "    </tr>\n",
       "    <tr>\n",
       "      <th>4856</th>\n",
       "      <td>922239</td>\n",
       "      <td>01/05/2021</td>\n",
       "      <td>PA</td>\n",
       "      <td>43.0</td>\n",
       "      <td>43.0</td>\n",
       "      <td>NaN</td>\n",
       "      <td>M</td>\n",
       "      <td>NaN</td>\n",
       "      <td>Patient reported after the 15 min observation ...</td>\n",
       "      <td>NaN</td>\n",
       "      <td>NaN</td>\n",
       "      <td>NaN</td>\n",
       "      <td>NaN</td>\n",
       "      <td>NaN</td>\n",
       "      <td>NaN</td>\n",
       "      <td>NaN</td>\n",
       "      <td>NaN</td>\n",
       "      <td>Y</td>\n",
       "      <td>01/05/2021</td>\n",
       "      <td>01/05/2021</td>\n",
       "      <td>0.0</td>\n",
       "      <td>None</td>\n",
       "      <td>SEN</td>\n",
       "      <td>NaN</td>\n",
       "      <td>NaN</td>\n",
       "      <td>N/a</td>\n",
       "      <td>N/a</td>\n",
       "      <td>NaN</td>\n",
       "      <td>NaN</td>\n",
       "      <td>2</td>\n",
       "      <td>01/05/2021</td>\n",
       "      <td>NaN</td>\n",
       "      <td>Y</td>\n",
       "      <td>NaN</td>\n",
       "      <td>NaN</td>\n",
       "      <td>COVID19</td>\n",
       "      <td>PFIZER\\BIONTECH</td>\n",
       "      <td>EK9231</td>\n",
       "      <td>1</td>\n",
       "      <td>IM</td>\n",
       "      <td>LA</td>\n",
       "      <td>COVID19 (COVID19 (PFIZER-BIONTECH))</td>\n",
       "    </tr>\n",
       "    <tr>\n",
       "      <th>15330</th>\n",
       "      <td>991265</td>\n",
       "      <td>01/09/2021</td>\n",
       "      <td>NaN</td>\n",
       "      <td>45.0</td>\n",
       "      <td>44.0</td>\n",
       "      <td>NaN</td>\n",
       "      <td>F</td>\n",
       "      <td>NaN</td>\n",
       "      <td>Headache, Fever &amp; NauseaVomiting</td>\n",
       "      <td>NaN</td>\n",
       "      <td>NaN</td>\n",
       "      <td>NaN</td>\n",
       "      <td>NaN</td>\n",
       "      <td>NaN</td>\n",
       "      <td>NaN</td>\n",
       "      <td>NaN</td>\n",
       "      <td>NaN</td>\n",
       "      <td>U</td>\n",
       "      <td>12/28/2020</td>\n",
       "      <td>12/28/2020</td>\n",
       "      <td>0.0</td>\n",
       "      <td>NaN</td>\n",
       "      <td>OTH</td>\n",
       "      <td>NaN</td>\n",
       "      <td>NaN</td>\n",
       "      <td>NaN</td>\n",
       "      <td>NaN</td>\n",
       "      <td>unknown</td>\n",
       "      <td>NaN</td>\n",
       "      <td>2</td>\n",
       "      <td>01/06/2021</td>\n",
       "      <td>NaN</td>\n",
       "      <td>NaN</td>\n",
       "      <td>NaN</td>\n",
       "      <td>NaN</td>\n",
       "      <td>COVID19</td>\n",
       "      <td>PFIZER\\BIONTECH</td>\n",
       "      <td>EK9231</td>\n",
       "      <td>1</td>\n",
       "      <td>IM</td>\n",
       "      <td>LA</td>\n",
       "      <td>COVID19 (COVID19 (PFIZER-BIONTECH))</td>\n",
       "    </tr>\n",
       "    <tr>\n",
       "      <th>30830</th>\n",
       "      <td>1070583</td>\n",
       "      <td>03/03/2021</td>\n",
       "      <td>KS</td>\n",
       "      <td>66.0</td>\n",
       "      <td>66.0</td>\n",
       "      <td>NaN</td>\n",
       "      <td>M</td>\n",
       "      <td>NaN</td>\n",
       "      <td>He complained of dizziness the evening of the ...</td>\n",
       "      <td>NaN</td>\n",
       "      <td>NaN</td>\n",
       "      <td>NaN</td>\n",
       "      <td>NaN</td>\n",
       "      <td>Y</td>\n",
       "      <td>NaN</td>\n",
       "      <td>NaN</td>\n",
       "      <td>NaN</td>\n",
       "      <td>Y</td>\n",
       "      <td>02/23/2021</td>\n",
       "      <td>02/23/2021</td>\n",
       "      <td>0.0</td>\n",
       "      <td>CT Scan</td>\n",
       "      <td>PUB</td>\n",
       "      <td>NaN</td>\n",
       "      <td>NaN</td>\n",
       "      <td>NaN</td>\n",
       "      <td>NaN</td>\n",
       "      <td>NaN</td>\n",
       "      <td>NaN</td>\n",
       "      <td>2</td>\n",
       "      <td>03/03/2021</td>\n",
       "      <td>NaN</td>\n",
       "      <td>NaN</td>\n",
       "      <td>NaN</td>\n",
       "      <td>NaN</td>\n",
       "      <td>COVID19</td>\n",
       "      <td>MODERNA</td>\n",
       "      <td>030L20A</td>\n",
       "      <td>2</td>\n",
       "      <td>IM</td>\n",
       "      <td>LA</td>\n",
       "      <td>COVID19 (COVID19 (MODERNA))</td>\n",
       "    </tr>\n",
       "    <tr>\n",
       "      <th>19159</th>\n",
       "      <td>960486</td>\n",
       "      <td>01/20/2021</td>\n",
       "      <td>NaN</td>\n",
       "      <td>94.0</td>\n",
       "      <td>94.0</td>\n",
       "      <td>NaN</td>\n",
       "      <td>F</td>\n",
       "      <td>NaN</td>\n",
       "      <td>admitted to hospital 1/11/2020 with Acute resp...</td>\n",
       "      <td>NaN</td>\n",
       "      <td>NaN</td>\n",
       "      <td>NaN</td>\n",
       "      <td>NaN</td>\n",
       "      <td>Y</td>\n",
       "      <td>NaN</td>\n",
       "      <td>NaN</td>\n",
       "      <td>NaN</td>\n",
       "      <td>U</td>\n",
       "      <td>01/09/2021</td>\n",
       "      <td>01/11/2021</td>\n",
       "      <td>2.0</td>\n",
       "      <td>NaN</td>\n",
       "      <td>UNK</td>\n",
       "      <td>NaN</td>\n",
       "      <td>NaN</td>\n",
       "      <td>NaN</td>\n",
       "      <td>ANEMIA</td>\n",
       "      <td>NaN</td>\n",
       "      <td>NaN</td>\n",
       "      <td>2</td>\n",
       "      <td>01/20/2021</td>\n",
       "      <td>NaN</td>\n",
       "      <td>NaN</td>\n",
       "      <td>Y</td>\n",
       "      <td>NaN</td>\n",
       "      <td>COVID19</td>\n",
       "      <td>PFIZER\\BIONTECH</td>\n",
       "      <td>EL1283</td>\n",
       "      <td>UNK</td>\n",
       "      <td>NaN</td>\n",
       "      <td>NaN</td>\n",
       "      <td>COVID19 (COVID19 (PFIZER-BIONTECH))</td>\n",
       "    </tr>\n",
       "    <tr>\n",
       "      <th>7793</th>\n",
       "      <td>925366</td>\n",
       "      <td>01/07/2021</td>\n",
       "      <td>IN</td>\n",
       "      <td>51.0</td>\n",
       "      <td>51.0</td>\n",
       "      <td>NaN</td>\n",
       "      <td>F</td>\n",
       "      <td>NaN</td>\n",
       "      <td>Urinary Tract Infection</td>\n",
       "      <td>NaN</td>\n",
       "      <td>NaN</td>\n",
       "      <td>NaN</td>\n",
       "      <td>NaN</td>\n",
       "      <td>NaN</td>\n",
       "      <td>NaN</td>\n",
       "      <td>NaN</td>\n",
       "      <td>NaN</td>\n",
       "      <td>N</td>\n",
       "      <td>01/05/2021</td>\n",
       "      <td>01/06/2021</td>\n",
       "      <td>1.0</td>\n",
       "      <td>NaN</td>\n",
       "      <td>PVT</td>\n",
       "      <td>NaN</td>\n",
       "      <td>Advair 250/50 Tamoxifen Montelukast (singulair)</td>\n",
       "      <td>NaN</td>\n",
       "      <td>Asthma and Allergies Breast Cancer (6 years ago)</td>\n",
       "      <td>NaN</td>\n",
       "      <td>NaN</td>\n",
       "      <td>2</td>\n",
       "      <td>01/07/2021</td>\n",
       "      <td>NaN</td>\n",
       "      <td>Y</td>\n",
       "      <td>NaN</td>\n",
       "      <td>Penicillin Sulfa Nuts Milk Eggs Dust Pets</td>\n",
       "      <td>COVID19</td>\n",
       "      <td>PFIZER\\BIONTECH</td>\n",
       "      <td>EL1Z84</td>\n",
       "      <td>1</td>\n",
       "      <td>NaN</td>\n",
       "      <td>RA</td>\n",
       "      <td>COVID19 (COVID19 (PFIZER-BIONTECH))</td>\n",
       "    </tr>\n",
       "  </tbody>\n",
       "</table>\n",
       "</div>"
      ],
      "text/plain": [
       "       VAERS_ID    RECVDATE STATE  AGE_YRS  CAGE_YR  CAGE_MO SEX RPT_DATE  \\\n",
       "27438   1049498  02/23/2021    OH     41.0     41.0      NaN   M      NaN   \n",
       "30391   1068028  03/03/2021    NJ     42.0      NaN      NaN   M      NaN   \n",
       "3584     920722  01/05/2021    MI     54.0     54.0      NaN   F      NaN   \n",
       "34193   1100465  03/15/2021    FL     80.0      NaN      NaN   F      NaN   \n",
       "17047    933761  01/11/2021    WI     45.0     45.0      NaN   F      NaN   \n",
       "4856     922239  01/05/2021    PA     43.0     43.0      NaN   M      NaN   \n",
       "15330    991265  01/09/2021   NaN     45.0     44.0      NaN   F      NaN   \n",
       "30830   1070583  03/03/2021    KS     66.0     66.0      NaN   M      NaN   \n",
       "19159    960486  01/20/2021   NaN     94.0     94.0      NaN   F      NaN   \n",
       "7793     925366  01/07/2021    IN     51.0     51.0      NaN   F      NaN   \n",
       "\n",
       "                                            SYMPTOM_TEXT DIED DATEDIED  \\\n",
       "27438  After I went to bed, I started running a fever...  NaN      NaN   \n",
       "30391  Nasal congestion; sore throat; This is a spont...  NaN      NaN   \n",
       "3584   Started to feel dizzy about9 hours after the v...  NaN      NaN   \n",
       "34193  Very high glucose + 300 with need for more tha...  NaN      NaN   \n",
       "17047  Woke up at 7am at 8:15am both of my eyes swell...  NaN      NaN   \n",
       "4856   Patient reported after the 15 min observation ...  NaN      NaN   \n",
       "15330                   Headache, Fever & NauseaVomiting  NaN      NaN   \n",
       "30830  He complained of dizziness the evening of the ...  NaN      NaN   \n",
       "19159  admitted to hospital 1/11/2020 with Acute resp...  NaN      NaN   \n",
       "7793                             Urinary Tract Infection  NaN      NaN   \n",
       "\n",
       "      L_THREAT ER_VISIT HOSPITAL  HOSPDAYS X_STAY DISABLE RECOVD    VAX_DATE  \\\n",
       "27438      NaN      NaN      NaN       NaN    NaN     NaN      Y  02/22/2021   \n",
       "30391      NaN      NaN      NaN       NaN    NaN     NaN      N  01/29/2021   \n",
       "3584       NaN      NaN      NaN       NaN    NaN     NaN      N  01/04/2021   \n",
       "34193      NaN      NaN      NaN       NaN    NaN     NaN      N  02/14/2021   \n",
       "17047      NaN      NaN      NaN       NaN    NaN     NaN      Y  01/08/2021   \n",
       "4856       NaN      NaN      NaN       NaN    NaN     NaN      Y  01/05/2021   \n",
       "15330      NaN      NaN      NaN       NaN    NaN     NaN      U  12/28/2020   \n",
       "30830      NaN      NaN        Y       NaN    NaN     NaN      Y  02/23/2021   \n",
       "19159      NaN      NaN        Y       NaN    NaN     NaN      U  01/09/2021   \n",
       "7793       NaN      NaN      NaN       NaN    NaN     NaN      N  01/05/2021   \n",
       "\n",
       "       ONSET_DATE  NUMDAYS                                           LAB_DATA  \\\n",
       "27438  02/23/2021      1.0                                                NaN   \n",
       "30391  01/30/2021      1.0                                                NaN   \n",
       "3584   01/04/2021      0.0                                                NaN   \n",
       "34193  02/01/2021      NaN  Test Name: very high glucose + 300; Result Uns...   \n",
       "17047  01/09/2021      1.0                                               None   \n",
       "4856   01/05/2021      0.0                                               None   \n",
       "15330  12/28/2020      0.0                                                NaN   \n",
       "30830  02/23/2021      0.0                                            CT Scan   \n",
       "19159  01/11/2021      2.0                                                NaN   \n",
       "7793   01/06/2021      1.0                                                NaN   \n",
       "\n",
       "      V_ADMINBY V_FUNDBY                                         OTHER_MEDS  \\\n",
       "27438       MIL      NaN                                 Daily multivitamin   \n",
       "30391       PUB      NaN                                                NaN   \n",
       "3584        WRK      NaN                         Multivitamin and Vitamin D   \n",
       "34193       OTH      NaN  TOPROL XL; KCL; LASIX [FUROSEMIDE]; SPIRONOLAC...   \n",
       "17047       PVT      NaN                                                NaN   \n",
       "4856        SEN      NaN                                                NaN   \n",
       "15330       OTH      NaN                                                NaN   \n",
       "30830       PUB      NaN                                                NaN   \n",
       "19159       UNK      NaN                                                NaN   \n",
       "7793        PVT      NaN    Advair 250/50 Tamoxifen Montelukast (singulair)   \n",
       "\n",
       "      CUR_ILL                                            HISTORY PRIOR_VAX  \\\n",
       "27438    None                                               None       NaN   \n",
       "30391     NaN  Medical History/Concurrent Conditions: Diabeti...       NaN   \n",
       "3584     None                          Tendonosis of right elbow       NaN   \n",
       "34193     NaN  Medical History/Concurrent Conditions: Diabete...       NaN   \n",
       "17047    None  Asthma Allergies Obstructive Sleep Apnea Syndr...       NaN   \n",
       "4856      N/a                                                N/a       NaN   \n",
       "15330     NaN                                                NaN   unknown   \n",
       "30830     NaN                                                NaN       NaN   \n",
       "19159     NaN                                             ANEMIA       NaN   \n",
       "7793      NaN   Asthma and Allergies Breast Cancer (6 years ago)       NaN   \n",
       "\n",
       "                     SPLTTYPE  FORM_VERS TODAYS_DATE BIRTH_DEFECT OFC_VISIT  \\\n",
       "27438                     NaN          2  02/23/2021          NaN       NaN   \n",
       "30391  USPFIZER INC2021093318          2  03/01/2021          NaN       NaN   \n",
       "3584                      NaN          2  01/05/2021          NaN       NaN   \n",
       "34193  USPFIZER INC2021205880          2  03/09/2021          NaN         Y   \n",
       "17047                     NaN          2  01/11/2021          NaN       NaN   \n",
       "4856                      NaN          2  01/05/2021          NaN         Y   \n",
       "15330                     NaN          2  01/06/2021          NaN       NaN   \n",
       "30830                     NaN          2  03/03/2021          NaN       NaN   \n",
       "19159                     NaN          2  01/20/2021          NaN       NaN   \n",
       "7793                      NaN          2  01/07/2021          NaN         Y   \n",
       "\n",
       "      ER_ED_VISIT                                          ALLERGIES VAX_TYPE  \\\n",
       "27438         NaN                                         None known  COVID19   \n",
       "30391         NaN                                                NaN  COVID19   \n",
       "3584          NaN                                                PCN  COVID19   \n",
       "34193         NaN                                                NaN  COVID19   \n",
       "17047           Y  Sulfa Drugs Hydromorphone Hcl Acetaminophen-Co...  COVID19   \n",
       "4856          NaN                                                NaN  COVID19   \n",
       "15330         NaN                                                NaN  COVID19   \n",
       "30830         NaN                                                NaN  COVID19   \n",
       "19159           Y                                                NaN  COVID19   \n",
       "7793          NaN          Penicillin Sulfa Nuts Milk Eggs Dust Pets  COVID19   \n",
       "\n",
       "              VAX_MANU  VAX_LOT VAX_DOSE_SERIES VAX_ROUTE VAX_SITE  \\\n",
       "27438  PFIZER\\BIONTECH      NaN               2       SYR       LA   \n",
       "30391  PFIZER\\BIONTECH      NaN               1       NaN       LA   \n",
       "3584   PFIZER\\BIONTECH   EK9231               1        IM       LA   \n",
       "34193  PFIZER\\BIONTECH   EM9810               1       NaN       RA   \n",
       "17047  PFIZER\\BIONTECH   el0142               2        IM       LA   \n",
       "4856   PFIZER\\BIONTECH   EK9231               1        IM       LA   \n",
       "15330  PFIZER\\BIONTECH   EK9231               1        IM       LA   \n",
       "30830          MODERNA  030L20A               2        IM       LA   \n",
       "19159  PFIZER\\BIONTECH   EL1283             UNK       NaN      NaN   \n",
       "7793   PFIZER\\BIONTECH   EL1Z84               1       NaN       RA   \n",
       "\n",
       "                                  VAX_NAME  \n",
       "27438  COVID19 (COVID19 (PFIZER-BIONTECH))  \n",
       "30391  COVID19 (COVID19 (PFIZER-BIONTECH))  \n",
       "3584   COVID19 (COVID19 (PFIZER-BIONTECH))  \n",
       "34193  COVID19 (COVID19 (PFIZER-BIONTECH))  \n",
       "17047  COVID19 (COVID19 (PFIZER-BIONTECH))  \n",
       "4856   COVID19 (COVID19 (PFIZER-BIONTECH))  \n",
       "15330  COVID19 (COVID19 (PFIZER-BIONTECH))  \n",
       "30830          COVID19 (COVID19 (MODERNA))  \n",
       "19159  COVID19 (COVID19 (PFIZER-BIONTECH))  \n",
       "7793   COVID19 (COVID19 (PFIZER-BIONTECH))  "
      ]
     },
     "execution_count": 20,
     "metadata": {},
     "output_type": "execute_result"
    }
   ],
   "source": [
    "#display all entire columns \n",
    "\n",
    "pd.set_option('display.max_columns', None)\n",
    "\n",
    "VAX.sample(10)\n"
   ]
  },
  {
   "cell_type": "code",
   "execution_count": 21,
   "id": "4d2c70b8",
   "metadata": {},
   "outputs": [
    {
     "data": {
      "text/plain": [
       "31"
      ]
     },
     "execution_count": 21,
     "metadata": {},
     "output_type": "execute_result"
    }
   ],
   "source": [
    "#how many vax_type in our data\n",
    "\n",
    "VAX['VAX_TYPE'].nunique()"
   ]
  },
  {
   "cell_type": "code",
   "execution_count": 22,
   "id": "b83a85f6",
   "metadata": {},
   "outputs": [
    {
     "data": {
      "text/html": [
       "<div>\n",
       "<style scoped>\n",
       "    .dataframe tbody tr th:only-of-type {\n",
       "        vertical-align: middle;\n",
       "    }\n",
       "\n",
       "    .dataframe tbody tr th {\n",
       "        vertical-align: top;\n",
       "    }\n",
       "\n",
       "    .dataframe thead th {\n",
       "        text-align: right;\n",
       "    }\n",
       "</style>\n",
       "<table border=\"1\" class=\"dataframe\">\n",
       "  <thead>\n",
       "    <tr style=\"text-align: right;\">\n",
       "      <th></th>\n",
       "      <th>VAERS_ID</th>\n",
       "      <th>RECVDATE</th>\n",
       "      <th>STATE</th>\n",
       "      <th>AGE_YRS</th>\n",
       "      <th>CAGE_YR</th>\n",
       "      <th>CAGE_MO</th>\n",
       "      <th>SEX</th>\n",
       "      <th>RPT_DATE</th>\n",
       "      <th>SYMPTOM_TEXT</th>\n",
       "      <th>DIED</th>\n",
       "      <th>DATEDIED</th>\n",
       "      <th>L_THREAT</th>\n",
       "      <th>ER_VISIT</th>\n",
       "      <th>HOSPITAL</th>\n",
       "      <th>HOSPDAYS</th>\n",
       "      <th>X_STAY</th>\n",
       "      <th>DISABLE</th>\n",
       "      <th>RECOVD</th>\n",
       "      <th>VAX_DATE</th>\n",
       "      <th>ONSET_DATE</th>\n",
       "      <th>NUMDAYS</th>\n",
       "      <th>LAB_DATA</th>\n",
       "      <th>V_ADMINBY</th>\n",
       "      <th>V_FUNDBY</th>\n",
       "      <th>OTHER_MEDS</th>\n",
       "      <th>CUR_ILL</th>\n",
       "      <th>HISTORY</th>\n",
       "      <th>PRIOR_VAX</th>\n",
       "      <th>SPLTTYPE</th>\n",
       "      <th>FORM_VERS</th>\n",
       "      <th>TODAYS_DATE</th>\n",
       "      <th>BIRTH_DEFECT</th>\n",
       "      <th>OFC_VISIT</th>\n",
       "      <th>ER_ED_VISIT</th>\n",
       "      <th>ALLERGIES</th>\n",
       "      <th>VAX_MANU</th>\n",
       "      <th>VAX_LOT</th>\n",
       "      <th>VAX_DOSE_SERIES</th>\n",
       "      <th>VAX_ROUTE</th>\n",
       "      <th>VAX_SITE</th>\n",
       "      <th>VAX_NAME</th>\n",
       "    </tr>\n",
       "    <tr>\n",
       "      <th>VAX_TYPE</th>\n",
       "      <th></th>\n",
       "      <th></th>\n",
       "      <th></th>\n",
       "      <th></th>\n",
       "      <th></th>\n",
       "      <th></th>\n",
       "      <th></th>\n",
       "      <th></th>\n",
       "      <th></th>\n",
       "      <th></th>\n",
       "      <th></th>\n",
       "      <th></th>\n",
       "      <th></th>\n",
       "      <th></th>\n",
       "      <th></th>\n",
       "      <th></th>\n",
       "      <th></th>\n",
       "      <th></th>\n",
       "      <th></th>\n",
       "      <th></th>\n",
       "      <th></th>\n",
       "      <th></th>\n",
       "      <th></th>\n",
       "      <th></th>\n",
       "      <th></th>\n",
       "      <th></th>\n",
       "      <th></th>\n",
       "      <th></th>\n",
       "      <th></th>\n",
       "      <th></th>\n",
       "      <th></th>\n",
       "      <th></th>\n",
       "      <th></th>\n",
       "      <th></th>\n",
       "      <th></th>\n",
       "      <th></th>\n",
       "      <th></th>\n",
       "      <th></th>\n",
       "      <th></th>\n",
       "      <th></th>\n",
       "      <th></th>\n",
       "    </tr>\n",
       "  </thead>\n",
       "  <tbody>\n",
       "    <tr>\n",
       "      <th>ANTH</th>\n",
       "      <td>1</td>\n",
       "      <td>1</td>\n",
       "      <td>1</td>\n",
       "      <td>1</td>\n",
       "      <td>1</td>\n",
       "      <td>0</td>\n",
       "      <td>1</td>\n",
       "      <td>0</td>\n",
       "      <td>1</td>\n",
       "      <td>0</td>\n",
       "      <td>0</td>\n",
       "      <td>0</td>\n",
       "      <td>0</td>\n",
       "      <td>0</td>\n",
       "      <td>0</td>\n",
       "      <td>0</td>\n",
       "      <td>0</td>\n",
       "      <td>1</td>\n",
       "      <td>1</td>\n",
       "      <td>1</td>\n",
       "      <td>1</td>\n",
       "      <td>1</td>\n",
       "      <td>1</td>\n",
       "      <td>0</td>\n",
       "      <td>1</td>\n",
       "      <td>1</td>\n",
       "      <td>1</td>\n",
       "      <td>0</td>\n",
       "      <td>0</td>\n",
       "      <td>1</td>\n",
       "      <td>1</td>\n",
       "      <td>0</td>\n",
       "      <td>0</td>\n",
       "      <td>0</td>\n",
       "      <td>1</td>\n",
       "      <td>1</td>\n",
       "      <td>1</td>\n",
       "      <td>1</td>\n",
       "      <td>1</td>\n",
       "      <td>1</td>\n",
       "      <td>1</td>\n",
       "    </tr>\n",
       "    <tr>\n",
       "      <th>CHOL</th>\n",
       "      <td>1</td>\n",
       "      <td>1</td>\n",
       "      <td>0</td>\n",
       "      <td>1</td>\n",
       "      <td>0</td>\n",
       "      <td>0</td>\n",
       "      <td>1</td>\n",
       "      <td>0</td>\n",
       "      <td>1</td>\n",
       "      <td>0</td>\n",
       "      <td>0</td>\n",
       "      <td>0</td>\n",
       "      <td>0</td>\n",
       "      <td>1</td>\n",
       "      <td>1</td>\n",
       "      <td>0</td>\n",
       "      <td>0</td>\n",
       "      <td>1</td>\n",
       "      <td>0</td>\n",
       "      <td>0</td>\n",
       "      <td>0</td>\n",
       "      <td>1</td>\n",
       "      <td>1</td>\n",
       "      <td>0</td>\n",
       "      <td>0</td>\n",
       "      <td>1</td>\n",
       "      <td>0</td>\n",
       "      <td>0</td>\n",
       "      <td>1</td>\n",
       "      <td>1</td>\n",
       "      <td>1</td>\n",
       "      <td>0</td>\n",
       "      <td>0</td>\n",
       "      <td>0</td>\n",
       "      <td>0</td>\n",
       "      <td>1</td>\n",
       "      <td>0</td>\n",
       "      <td>1</td>\n",
       "      <td>1</td>\n",
       "      <td>0</td>\n",
       "      <td>1</td>\n",
       "    </tr>\n",
       "    <tr>\n",
       "      <th>COVID19</th>\n",
       "      <td>33796</td>\n",
       "      <td>33796</td>\n",
       "      <td>28298</td>\n",
       "      <td>30760</td>\n",
       "      <td>26646</td>\n",
       "      <td>69</td>\n",
       "      <td>33796</td>\n",
       "      <td>63</td>\n",
       "      <td>33794</td>\n",
       "      <td>1904</td>\n",
       "      <td>1758</td>\n",
       "      <td>1244</td>\n",
       "      <td>11</td>\n",
       "      <td>4294</td>\n",
       "      <td>2824</td>\n",
       "      <td>49</td>\n",
       "      <td>815</td>\n",
       "      <td>30974</td>\n",
       "      <td>32404</td>\n",
       "      <td>32074</td>\n",
       "      <td>31030</td>\n",
       "      <td>14996</td>\n",
       "      <td>33796</td>\n",
       "      <td>64</td>\n",
       "      <td>20133</td>\n",
       "      <td>15957</td>\n",
       "      <td>22241</td>\n",
       "      <td>1434</td>\n",
       "      <td>8025</td>\n",
       "      <td>33796</td>\n",
       "      <td>33597</td>\n",
       "      <td>51</td>\n",
       "      <td>5344</td>\n",
       "      <td>5487</td>\n",
       "      <td>18501</td>\n",
       "      <td>33796</td>\n",
       "      <td>23037</td>\n",
       "      <td>33745</td>\n",
       "      <td>25619</td>\n",
       "      <td>26216</td>\n",
       "      <td>33796</td>\n",
       "    </tr>\n",
       "    <tr>\n",
       "      <th>DT</th>\n",
       "      <td>1</td>\n",
       "      <td>1</td>\n",
       "      <td>0</td>\n",
       "      <td>1</td>\n",
       "      <td>1</td>\n",
       "      <td>0</td>\n",
       "      <td>1</td>\n",
       "      <td>0</td>\n",
       "      <td>1</td>\n",
       "      <td>0</td>\n",
       "      <td>0</td>\n",
       "      <td>0</td>\n",
       "      <td>0</td>\n",
       "      <td>0</td>\n",
       "      <td>0</td>\n",
       "      <td>0</td>\n",
       "      <td>0</td>\n",
       "      <td>1</td>\n",
       "      <td>1</td>\n",
       "      <td>1</td>\n",
       "      <td>1</td>\n",
       "      <td>0</td>\n",
       "      <td>1</td>\n",
       "      <td>0</td>\n",
       "      <td>0</td>\n",
       "      <td>1</td>\n",
       "      <td>0</td>\n",
       "      <td>0</td>\n",
       "      <td>1</td>\n",
       "      <td>1</td>\n",
       "      <td>1</td>\n",
       "      <td>0</td>\n",
       "      <td>0</td>\n",
       "      <td>0</td>\n",
       "      <td>0</td>\n",
       "      <td>1</td>\n",
       "      <td>0</td>\n",
       "      <td>1</td>\n",
       "      <td>1</td>\n",
       "      <td>0</td>\n",
       "      <td>1</td>\n",
       "    </tr>\n",
       "    <tr>\n",
       "      <th>DTAP</th>\n",
       "      <td>5</td>\n",
       "      <td>5</td>\n",
       "      <td>3</td>\n",
       "      <td>2</td>\n",
       "      <td>3</td>\n",
       "      <td>2</td>\n",
       "      <td>5</td>\n",
       "      <td>0</td>\n",
       "      <td>5</td>\n",
       "      <td>1</td>\n",
       "      <td>1</td>\n",
       "      <td>0</td>\n",
       "      <td>0</td>\n",
       "      <td>0</td>\n",
       "      <td>0</td>\n",
       "      <td>0</td>\n",
       "      <td>0</td>\n",
       "      <td>5</td>\n",
       "      <td>3</td>\n",
       "      <td>3</td>\n",
       "      <td>3</td>\n",
       "      <td>2</td>\n",
       "      <td>5</td>\n",
       "      <td>0</td>\n",
       "      <td>2</td>\n",
       "      <td>2</td>\n",
       "      <td>2</td>\n",
       "      <td>0</td>\n",
       "      <td>3</td>\n",
       "      <td>5</td>\n",
       "      <td>5</td>\n",
       "      <td>0</td>\n",
       "      <td>2</td>\n",
       "      <td>0</td>\n",
       "      <td>2</td>\n",
       "      <td>5</td>\n",
       "      <td>3</td>\n",
       "      <td>5</td>\n",
       "      <td>4</td>\n",
       "      <td>2</td>\n",
       "      <td>5</td>\n",
       "    </tr>\n",
       "    <tr>\n",
       "      <th>DTAPHEPBIP</th>\n",
       "      <td>2</td>\n",
       "      <td>2</td>\n",
       "      <td>2</td>\n",
       "      <td>2</td>\n",
       "      <td>2</td>\n",
       "      <td>2</td>\n",
       "      <td>2</td>\n",
       "      <td>0</td>\n",
       "      <td>2</td>\n",
       "      <td>0</td>\n",
       "      <td>0</td>\n",
       "      <td>0</td>\n",
       "      <td>0</td>\n",
       "      <td>2</td>\n",
       "      <td>1</td>\n",
       "      <td>0</td>\n",
       "      <td>0</td>\n",
       "      <td>1</td>\n",
       "      <td>2</td>\n",
       "      <td>2</td>\n",
       "      <td>2</td>\n",
       "      <td>2</td>\n",
       "      <td>2</td>\n",
       "      <td>0</td>\n",
       "      <td>1</td>\n",
       "      <td>1</td>\n",
       "      <td>1</td>\n",
       "      <td>0</td>\n",
       "      <td>0</td>\n",
       "      <td>2</td>\n",
       "      <td>2</td>\n",
       "      <td>0</td>\n",
       "      <td>0</td>\n",
       "      <td>2</td>\n",
       "      <td>1</td>\n",
       "      <td>2</td>\n",
       "      <td>0</td>\n",
       "      <td>2</td>\n",
       "      <td>0</td>\n",
       "      <td>1</td>\n",
       "      <td>2</td>\n",
       "    </tr>\n",
       "    <tr>\n",
       "      <th>DTAPIPVHIB</th>\n",
       "      <td>2</td>\n",
       "      <td>2</td>\n",
       "      <td>2</td>\n",
       "      <td>2</td>\n",
       "      <td>1</td>\n",
       "      <td>1</td>\n",
       "      <td>2</td>\n",
       "      <td>0</td>\n",
       "      <td>2</td>\n",
       "      <td>0</td>\n",
       "      <td>0</td>\n",
       "      <td>0</td>\n",
       "      <td>0</td>\n",
       "      <td>1</td>\n",
       "      <td>1</td>\n",
       "      <td>0</td>\n",
       "      <td>1</td>\n",
       "      <td>2</td>\n",
       "      <td>1</td>\n",
       "      <td>1</td>\n",
       "      <td>1</td>\n",
       "      <td>1</td>\n",
       "      <td>2</td>\n",
       "      <td>0</td>\n",
       "      <td>1</td>\n",
       "      <td>1</td>\n",
       "      <td>1</td>\n",
       "      <td>0</td>\n",
       "      <td>1</td>\n",
       "      <td>2</td>\n",
       "      <td>2</td>\n",
       "      <td>0</td>\n",
       "      <td>0</td>\n",
       "      <td>1</td>\n",
       "      <td>1</td>\n",
       "      <td>2</td>\n",
       "      <td>0</td>\n",
       "      <td>2</td>\n",
       "      <td>1</td>\n",
       "      <td>1</td>\n",
       "      <td>2</td>\n",
       "    </tr>\n",
       "    <tr>\n",
       "      <th>DTP</th>\n",
       "      <td>1</td>\n",
       "      <td>1</td>\n",
       "      <td>0</td>\n",
       "      <td>0</td>\n",
       "      <td>0</td>\n",
       "      <td>0</td>\n",
       "      <td>1</td>\n",
       "      <td>0</td>\n",
       "      <td>1</td>\n",
       "      <td>0</td>\n",
       "      <td>0</td>\n",
       "      <td>0</td>\n",
       "      <td>0</td>\n",
       "      <td>0</td>\n",
       "      <td>0</td>\n",
       "      <td>0</td>\n",
       "      <td>0</td>\n",
       "      <td>1</td>\n",
       "      <td>0</td>\n",
       "      <td>0</td>\n",
       "      <td>0</td>\n",
       "      <td>0</td>\n",
       "      <td>1</td>\n",
       "      <td>0</td>\n",
       "      <td>0</td>\n",
       "      <td>0</td>\n",
       "      <td>0</td>\n",
       "      <td>0</td>\n",
       "      <td>1</td>\n",
       "      <td>1</td>\n",
       "      <td>1</td>\n",
       "      <td>0</td>\n",
       "      <td>0</td>\n",
       "      <td>0</td>\n",
       "      <td>0</td>\n",
       "      <td>1</td>\n",
       "      <td>0</td>\n",
       "      <td>1</td>\n",
       "      <td>1</td>\n",
       "      <td>0</td>\n",
       "      <td>1</td>\n",
       "    </tr>\n",
       "    <tr>\n",
       "      <th>FLU3</th>\n",
       "      <td>5</td>\n",
       "      <td>5</td>\n",
       "      <td>4</td>\n",
       "      <td>3</td>\n",
       "      <td>3</td>\n",
       "      <td>0</td>\n",
       "      <td>5</td>\n",
       "      <td>0</td>\n",
       "      <td>5</td>\n",
       "      <td>0</td>\n",
       "      <td>0</td>\n",
       "      <td>1</td>\n",
       "      <td>0</td>\n",
       "      <td>1</td>\n",
       "      <td>0</td>\n",
       "      <td>0</td>\n",
       "      <td>1</td>\n",
       "      <td>5</td>\n",
       "      <td>4</td>\n",
       "      <td>4</td>\n",
       "      <td>3</td>\n",
       "      <td>1</td>\n",
       "      <td>5</td>\n",
       "      <td>0</td>\n",
       "      <td>0</td>\n",
       "      <td>0</td>\n",
       "      <td>0</td>\n",
       "      <td>0</td>\n",
       "      <td>5</td>\n",
       "      <td>5</td>\n",
       "      <td>5</td>\n",
       "      <td>0</td>\n",
       "      <td>0</td>\n",
       "      <td>1</td>\n",
       "      <td>0</td>\n",
       "      <td>5</td>\n",
       "      <td>4</td>\n",
       "      <td>5</td>\n",
       "      <td>5</td>\n",
       "      <td>2</td>\n",
       "      <td>5</td>\n",
       "    </tr>\n",
       "    <tr>\n",
       "      <th>FLU4</th>\n",
       "      <td>43</td>\n",
       "      <td>43</td>\n",
       "      <td>39</td>\n",
       "      <td>36</td>\n",
       "      <td>33</td>\n",
       "      <td>3</td>\n",
       "      <td>43</td>\n",
       "      <td>0</td>\n",
       "      <td>43</td>\n",
       "      <td>7</td>\n",
       "      <td>6</td>\n",
       "      <td>3</td>\n",
       "      <td>0</td>\n",
       "      <td>16</td>\n",
       "      <td>12</td>\n",
       "      <td>1</td>\n",
       "      <td>8</td>\n",
       "      <td>37</td>\n",
       "      <td>39</td>\n",
       "      <td>38</td>\n",
       "      <td>38</td>\n",
       "      <td>22</td>\n",
       "      <td>43</td>\n",
       "      <td>0</td>\n",
       "      <td>28</td>\n",
       "      <td>26</td>\n",
       "      <td>29</td>\n",
       "      <td>0</td>\n",
       "      <td>6</td>\n",
       "      <td>43</td>\n",
       "      <td>43</td>\n",
       "      <td>0</td>\n",
       "      <td>15</td>\n",
       "      <td>12</td>\n",
       "      <td>28</td>\n",
       "      <td>43</td>\n",
       "      <td>31</td>\n",
       "      <td>36</td>\n",
       "      <td>35</td>\n",
       "      <td>27</td>\n",
       "      <td>43</td>\n",
       "    </tr>\n",
       "    <tr>\n",
       "      <th>FLUA3</th>\n",
       "      <td>2</td>\n",
       "      <td>2</td>\n",
       "      <td>1</td>\n",
       "      <td>1</td>\n",
       "      <td>1</td>\n",
       "      <td>0</td>\n",
       "      <td>2</td>\n",
       "      <td>0</td>\n",
       "      <td>2</td>\n",
       "      <td>0</td>\n",
       "      <td>0</td>\n",
       "      <td>0</td>\n",
       "      <td>0</td>\n",
       "      <td>1</td>\n",
       "      <td>1</td>\n",
       "      <td>0</td>\n",
       "      <td>0</td>\n",
       "      <td>2</td>\n",
       "      <td>1</td>\n",
       "      <td>1</td>\n",
       "      <td>1</td>\n",
       "      <td>1</td>\n",
       "      <td>2</td>\n",
       "      <td>0</td>\n",
       "      <td>1</td>\n",
       "      <td>1</td>\n",
       "      <td>1</td>\n",
       "      <td>0</td>\n",
       "      <td>1</td>\n",
       "      <td>2</td>\n",
       "      <td>2</td>\n",
       "      <td>0</td>\n",
       "      <td>1</td>\n",
       "      <td>1</td>\n",
       "      <td>1</td>\n",
       "      <td>2</td>\n",
       "      <td>2</td>\n",
       "      <td>1</td>\n",
       "      <td>2</td>\n",
       "      <td>1</td>\n",
       "      <td>2</td>\n",
       "    </tr>\n",
       "    <tr>\n",
       "      <th>FLUA4</th>\n",
       "      <td>4</td>\n",
       "      <td>4</td>\n",
       "      <td>2</td>\n",
       "      <td>3</td>\n",
       "      <td>2</td>\n",
       "      <td>1</td>\n",
       "      <td>4</td>\n",
       "      <td>0</td>\n",
       "      <td>4</td>\n",
       "      <td>0</td>\n",
       "      <td>0</td>\n",
       "      <td>0</td>\n",
       "      <td>0</td>\n",
       "      <td>2</td>\n",
       "      <td>1</td>\n",
       "      <td>0</td>\n",
       "      <td>0</td>\n",
       "      <td>4</td>\n",
       "      <td>4</td>\n",
       "      <td>4</td>\n",
       "      <td>4</td>\n",
       "      <td>3</td>\n",
       "      <td>4</td>\n",
       "      <td>0</td>\n",
       "      <td>3</td>\n",
       "      <td>3</td>\n",
       "      <td>3</td>\n",
       "      <td>0</td>\n",
       "      <td>2</td>\n",
       "      <td>4</td>\n",
       "      <td>4</td>\n",
       "      <td>0</td>\n",
       "      <td>1</td>\n",
       "      <td>1</td>\n",
       "      <td>2</td>\n",
       "      <td>4</td>\n",
       "      <td>3</td>\n",
       "      <td>4</td>\n",
       "      <td>4</td>\n",
       "      <td>2</td>\n",
       "      <td>4</td>\n",
       "    </tr>\n",
       "    <tr>\n",
       "      <th>FLUC3</th>\n",
       "      <td>1</td>\n",
       "      <td>1</td>\n",
       "      <td>1</td>\n",
       "      <td>0</td>\n",
       "      <td>0</td>\n",
       "      <td>0</td>\n",
       "      <td>1</td>\n",
       "      <td>0</td>\n",
       "      <td>1</td>\n",
       "      <td>0</td>\n",
       "      <td>0</td>\n",
       "      <td>1</td>\n",
       "      <td>0</td>\n",
       "      <td>0</td>\n",
       "      <td>0</td>\n",
       "      <td>0</td>\n",
       "      <td>0</td>\n",
       "      <td>0</td>\n",
       "      <td>1</td>\n",
       "      <td>1</td>\n",
       "      <td>1</td>\n",
       "      <td>0</td>\n",
       "      <td>1</td>\n",
       "      <td>0</td>\n",
       "      <td>1</td>\n",
       "      <td>0</td>\n",
       "      <td>0</td>\n",
       "      <td>0</td>\n",
       "      <td>0</td>\n",
       "      <td>1</td>\n",
       "      <td>1</td>\n",
       "      <td>0</td>\n",
       "      <td>0</td>\n",
       "      <td>0</td>\n",
       "      <td>1</td>\n",
       "      <td>1</td>\n",
       "      <td>0</td>\n",
       "      <td>1</td>\n",
       "      <td>0</td>\n",
       "      <td>0</td>\n",
       "      <td>1</td>\n",
       "    </tr>\n",
       "    <tr>\n",
       "      <th>FLUC4</th>\n",
       "      <td>4</td>\n",
       "      <td>4</td>\n",
       "      <td>2</td>\n",
       "      <td>4</td>\n",
       "      <td>4</td>\n",
       "      <td>0</td>\n",
       "      <td>4</td>\n",
       "      <td>0</td>\n",
       "      <td>4</td>\n",
       "      <td>0</td>\n",
       "      <td>0</td>\n",
       "      <td>0</td>\n",
       "      <td>0</td>\n",
       "      <td>3</td>\n",
       "      <td>2</td>\n",
       "      <td>0</td>\n",
       "      <td>1</td>\n",
       "      <td>2</td>\n",
       "      <td>4</td>\n",
       "      <td>4</td>\n",
       "      <td>4</td>\n",
       "      <td>1</td>\n",
       "      <td>4</td>\n",
       "      <td>0</td>\n",
       "      <td>2</td>\n",
       "      <td>2</td>\n",
       "      <td>3</td>\n",
       "      <td>0</td>\n",
       "      <td>0</td>\n",
       "      <td>4</td>\n",
       "      <td>4</td>\n",
       "      <td>0</td>\n",
       "      <td>1</td>\n",
       "      <td>0</td>\n",
       "      <td>2</td>\n",
       "      <td>4</td>\n",
       "      <td>2</td>\n",
       "      <td>3</td>\n",
       "      <td>4</td>\n",
       "      <td>4</td>\n",
       "      <td>4</td>\n",
       "    </tr>\n",
       "    <tr>\n",
       "      <th>FLUN4</th>\n",
       "      <td>1</td>\n",
       "      <td>1</td>\n",
       "      <td>1</td>\n",
       "      <td>1</td>\n",
       "      <td>1</td>\n",
       "      <td>0</td>\n",
       "      <td>1</td>\n",
       "      <td>0</td>\n",
       "      <td>1</td>\n",
       "      <td>0</td>\n",
       "      <td>0</td>\n",
       "      <td>0</td>\n",
       "      <td>0</td>\n",
       "      <td>0</td>\n",
       "      <td>0</td>\n",
       "      <td>0</td>\n",
       "      <td>0</td>\n",
       "      <td>1</td>\n",
       "      <td>1</td>\n",
       "      <td>1</td>\n",
       "      <td>1</td>\n",
       "      <td>1</td>\n",
       "      <td>1</td>\n",
       "      <td>0</td>\n",
       "      <td>0</td>\n",
       "      <td>0</td>\n",
       "      <td>1</td>\n",
       "      <td>0</td>\n",
       "      <td>1</td>\n",
       "      <td>1</td>\n",
       "      <td>1</td>\n",
       "      <td>0</td>\n",
       "      <td>0</td>\n",
       "      <td>0</td>\n",
       "      <td>0</td>\n",
       "      <td>1</td>\n",
       "      <td>0</td>\n",
       "      <td>1</td>\n",
       "      <td>1</td>\n",
       "      <td>0</td>\n",
       "      <td>1</td>\n",
       "    </tr>\n",
       "    <tr>\n",
       "      <th>FLUR4</th>\n",
       "      <td>7</td>\n",
       "      <td>7</td>\n",
       "      <td>7</td>\n",
       "      <td>7</td>\n",
       "      <td>7</td>\n",
       "      <td>0</td>\n",
       "      <td>7</td>\n",
       "      <td>0</td>\n",
       "      <td>7</td>\n",
       "      <td>0</td>\n",
       "      <td>0</td>\n",
       "      <td>0</td>\n",
       "      <td>0</td>\n",
       "      <td>1</td>\n",
       "      <td>1</td>\n",
       "      <td>0</td>\n",
       "      <td>4</td>\n",
       "      <td>6</td>\n",
       "      <td>7</td>\n",
       "      <td>7</td>\n",
       "      <td>7</td>\n",
       "      <td>4</td>\n",
       "      <td>7</td>\n",
       "      <td>0</td>\n",
       "      <td>4</td>\n",
       "      <td>3</td>\n",
       "      <td>4</td>\n",
       "      <td>0</td>\n",
       "      <td>0</td>\n",
       "      <td>7</td>\n",
       "      <td>7</td>\n",
       "      <td>0</td>\n",
       "      <td>4</td>\n",
       "      <td>0</td>\n",
       "      <td>5</td>\n",
       "      <td>7</td>\n",
       "      <td>6</td>\n",
       "      <td>6</td>\n",
       "      <td>6</td>\n",
       "      <td>7</td>\n",
       "      <td>7</td>\n",
       "    </tr>\n",
       "    <tr>\n",
       "      <th>FLUX</th>\n",
       "      <td>45</td>\n",
       "      <td>45</td>\n",
       "      <td>10</td>\n",
       "      <td>11</td>\n",
       "      <td>5</td>\n",
       "      <td>0</td>\n",
       "      <td>45</td>\n",
       "      <td>0</td>\n",
       "      <td>45</td>\n",
       "      <td>6</td>\n",
       "      <td>0</td>\n",
       "      <td>2</td>\n",
       "      <td>0</td>\n",
       "      <td>12</td>\n",
       "      <td>0</td>\n",
       "      <td>0</td>\n",
       "      <td>0</td>\n",
       "      <td>43</td>\n",
       "      <td>7</td>\n",
       "      <td>9</td>\n",
       "      <td>5</td>\n",
       "      <td>5</td>\n",
       "      <td>45</td>\n",
       "      <td>0</td>\n",
       "      <td>4</td>\n",
       "      <td>6</td>\n",
       "      <td>6</td>\n",
       "      <td>0</td>\n",
       "      <td>39</td>\n",
       "      <td>45</td>\n",
       "      <td>45</td>\n",
       "      <td>0</td>\n",
       "      <td>5</td>\n",
       "      <td>4</td>\n",
       "      <td>0</td>\n",
       "      <td>45</td>\n",
       "      <td>8</td>\n",
       "      <td>45</td>\n",
       "      <td>33</td>\n",
       "      <td>1</td>\n",
       "      <td>45</td>\n",
       "    </tr>\n",
       "    <tr>\n",
       "      <th>HEP</th>\n",
       "      <td>5</td>\n",
       "      <td>5</td>\n",
       "      <td>4</td>\n",
       "      <td>2</td>\n",
       "      <td>2</td>\n",
       "      <td>1</td>\n",
       "      <td>5</td>\n",
       "      <td>0</td>\n",
       "      <td>5</td>\n",
       "      <td>2</td>\n",
       "      <td>2</td>\n",
       "      <td>0</td>\n",
       "      <td>0</td>\n",
       "      <td>2</td>\n",
       "      <td>1</td>\n",
       "      <td>0</td>\n",
       "      <td>1</td>\n",
       "      <td>4</td>\n",
       "      <td>2</td>\n",
       "      <td>3</td>\n",
       "      <td>2</td>\n",
       "      <td>4</td>\n",
       "      <td>5</td>\n",
       "      <td>0</td>\n",
       "      <td>2</td>\n",
       "      <td>2</td>\n",
       "      <td>2</td>\n",
       "      <td>0</td>\n",
       "      <td>2</td>\n",
       "      <td>5</td>\n",
       "      <td>5</td>\n",
       "      <td>0</td>\n",
       "      <td>0</td>\n",
       "      <td>1</td>\n",
       "      <td>1</td>\n",
       "      <td>5</td>\n",
       "      <td>1</td>\n",
       "      <td>5</td>\n",
       "      <td>3</td>\n",
       "      <td>1</td>\n",
       "      <td>5</td>\n",
       "    </tr>\n",
       "    <tr>\n",
       "      <th>HPV4</th>\n",
       "      <td>1</td>\n",
       "      <td>1</td>\n",
       "      <td>1</td>\n",
       "      <td>0</td>\n",
       "      <td>0</td>\n",
       "      <td>0</td>\n",
       "      <td>1</td>\n",
       "      <td>0</td>\n",
       "      <td>1</td>\n",
       "      <td>0</td>\n",
       "      <td>0</td>\n",
       "      <td>0</td>\n",
       "      <td>0</td>\n",
       "      <td>1</td>\n",
       "      <td>0</td>\n",
       "      <td>0</td>\n",
       "      <td>1</td>\n",
       "      <td>1</td>\n",
       "      <td>0</td>\n",
       "      <td>0</td>\n",
       "      <td>0</td>\n",
       "      <td>0</td>\n",
       "      <td>1</td>\n",
       "      <td>0</td>\n",
       "      <td>0</td>\n",
       "      <td>0</td>\n",
       "      <td>1</td>\n",
       "      <td>0</td>\n",
       "      <td>1</td>\n",
       "      <td>1</td>\n",
       "      <td>1</td>\n",
       "      <td>0</td>\n",
       "      <td>0</td>\n",
       "      <td>0</td>\n",
       "      <td>0</td>\n",
       "      <td>1</td>\n",
       "      <td>0</td>\n",
       "      <td>1</td>\n",
       "      <td>1</td>\n",
       "      <td>0</td>\n",
       "      <td>1</td>\n",
       "    </tr>\n",
       "    <tr>\n",
       "      <th>HPV9</th>\n",
       "      <td>4</td>\n",
       "      <td>4</td>\n",
       "      <td>3</td>\n",
       "      <td>2</td>\n",
       "      <td>2</td>\n",
       "      <td>0</td>\n",
       "      <td>4</td>\n",
       "      <td>0</td>\n",
       "      <td>4</td>\n",
       "      <td>0</td>\n",
       "      <td>0</td>\n",
       "      <td>0</td>\n",
       "      <td>0</td>\n",
       "      <td>3</td>\n",
       "      <td>1</td>\n",
       "      <td>0</td>\n",
       "      <td>0</td>\n",
       "      <td>4</td>\n",
       "      <td>3</td>\n",
       "      <td>2</td>\n",
       "      <td>2</td>\n",
       "      <td>1</td>\n",
       "      <td>4</td>\n",
       "      <td>0</td>\n",
       "      <td>1</td>\n",
       "      <td>1</td>\n",
       "      <td>0</td>\n",
       "      <td>0</td>\n",
       "      <td>4</td>\n",
       "      <td>4</td>\n",
       "      <td>4</td>\n",
       "      <td>0</td>\n",
       "      <td>0</td>\n",
       "      <td>1</td>\n",
       "      <td>0</td>\n",
       "      <td>4</td>\n",
       "      <td>1</td>\n",
       "      <td>4</td>\n",
       "      <td>1</td>\n",
       "      <td>1</td>\n",
       "      <td>4</td>\n",
       "    </tr>\n",
       "    <tr>\n",
       "      <th>HPVX</th>\n",
       "      <td>1</td>\n",
       "      <td>1</td>\n",
       "      <td>0</td>\n",
       "      <td>1</td>\n",
       "      <td>0</td>\n",
       "      <td>0</td>\n",
       "      <td>1</td>\n",
       "      <td>0</td>\n",
       "      <td>1</td>\n",
       "      <td>0</td>\n",
       "      <td>0</td>\n",
       "      <td>0</td>\n",
       "      <td>0</td>\n",
       "      <td>0</td>\n",
       "      <td>0</td>\n",
       "      <td>0</td>\n",
       "      <td>0</td>\n",
       "      <td>1</td>\n",
       "      <td>0</td>\n",
       "      <td>0</td>\n",
       "      <td>0</td>\n",
       "      <td>1</td>\n",
       "      <td>1</td>\n",
       "      <td>0</td>\n",
       "      <td>0</td>\n",
       "      <td>1</td>\n",
       "      <td>0</td>\n",
       "      <td>0</td>\n",
       "      <td>1</td>\n",
       "      <td>1</td>\n",
       "      <td>1</td>\n",
       "      <td>0</td>\n",
       "      <td>0</td>\n",
       "      <td>0</td>\n",
       "      <td>0</td>\n",
       "      <td>1</td>\n",
       "      <td>1</td>\n",
       "      <td>1</td>\n",
       "      <td>0</td>\n",
       "      <td>0</td>\n",
       "      <td>1</td>\n",
       "    </tr>\n",
       "    <tr>\n",
       "      <th>MENB</th>\n",
       "      <td>1</td>\n",
       "      <td>1</td>\n",
       "      <td>1</td>\n",
       "      <td>1</td>\n",
       "      <td>1</td>\n",
       "      <td>0</td>\n",
       "      <td>1</td>\n",
       "      <td>0</td>\n",
       "      <td>1</td>\n",
       "      <td>0</td>\n",
       "      <td>0</td>\n",
       "      <td>0</td>\n",
       "      <td>0</td>\n",
       "      <td>1</td>\n",
       "      <td>1</td>\n",
       "      <td>0</td>\n",
       "      <td>0</td>\n",
       "      <td>1</td>\n",
       "      <td>1</td>\n",
       "      <td>1</td>\n",
       "      <td>1</td>\n",
       "      <td>1</td>\n",
       "      <td>1</td>\n",
       "      <td>0</td>\n",
       "      <td>1</td>\n",
       "      <td>1</td>\n",
       "      <td>1</td>\n",
       "      <td>0</td>\n",
       "      <td>0</td>\n",
       "      <td>1</td>\n",
       "      <td>1</td>\n",
       "      <td>0</td>\n",
       "      <td>1</td>\n",
       "      <td>1</td>\n",
       "      <td>1</td>\n",
       "      <td>1</td>\n",
       "      <td>1</td>\n",
       "      <td>1</td>\n",
       "      <td>1</td>\n",
       "      <td>1</td>\n",
       "      <td>1</td>\n",
       "    </tr>\n",
       "    <tr>\n",
       "      <th>MMR</th>\n",
       "      <td>5</td>\n",
       "      <td>5</td>\n",
       "      <td>4</td>\n",
       "      <td>4</td>\n",
       "      <td>3</td>\n",
       "      <td>2</td>\n",
       "      <td>5</td>\n",
       "      <td>0</td>\n",
       "      <td>5</td>\n",
       "      <td>0</td>\n",
       "      <td>0</td>\n",
       "      <td>1</td>\n",
       "      <td>0</td>\n",
       "      <td>3</td>\n",
       "      <td>2</td>\n",
       "      <td>1</td>\n",
       "      <td>0</td>\n",
       "      <td>5</td>\n",
       "      <td>3</td>\n",
       "      <td>3</td>\n",
       "      <td>3</td>\n",
       "      <td>1</td>\n",
       "      <td>5</td>\n",
       "      <td>0</td>\n",
       "      <td>3</td>\n",
       "      <td>4</td>\n",
       "      <td>3</td>\n",
       "      <td>0</td>\n",
       "      <td>3</td>\n",
       "      <td>5</td>\n",
       "      <td>5</td>\n",
       "      <td>0</td>\n",
       "      <td>0</td>\n",
       "      <td>2</td>\n",
       "      <td>2</td>\n",
       "      <td>5</td>\n",
       "      <td>1</td>\n",
       "      <td>5</td>\n",
       "      <td>2</td>\n",
       "      <td>1</td>\n",
       "      <td>5</td>\n",
       "    </tr>\n",
       "    <tr>\n",
       "      <th>PNC</th>\n",
       "      <td>1</td>\n",
       "      <td>1</td>\n",
       "      <td>0</td>\n",
       "      <td>1</td>\n",
       "      <td>0</td>\n",
       "      <td>0</td>\n",
       "      <td>1</td>\n",
       "      <td>0</td>\n",
       "      <td>1</td>\n",
       "      <td>0</td>\n",
       "      <td>0</td>\n",
       "      <td>0</td>\n",
       "      <td>0</td>\n",
       "      <td>0</td>\n",
       "      <td>0</td>\n",
       "      <td>0</td>\n",
       "      <td>0</td>\n",
       "      <td>1</td>\n",
       "      <td>0</td>\n",
       "      <td>1</td>\n",
       "      <td>0</td>\n",
       "      <td>0</td>\n",
       "      <td>1</td>\n",
       "      <td>0</td>\n",
       "      <td>0</td>\n",
       "      <td>0</td>\n",
       "      <td>0</td>\n",
       "      <td>0</td>\n",
       "      <td>1</td>\n",
       "      <td>1</td>\n",
       "      <td>1</td>\n",
       "      <td>0</td>\n",
       "      <td>0</td>\n",
       "      <td>1</td>\n",
       "      <td>0</td>\n",
       "      <td>1</td>\n",
       "      <td>0</td>\n",
       "      <td>1</td>\n",
       "      <td>0</td>\n",
       "      <td>0</td>\n",
       "      <td>1</td>\n",
       "    </tr>\n",
       "    <tr>\n",
       "      <th>PNC13</th>\n",
       "      <td>6</td>\n",
       "      <td>6</td>\n",
       "      <td>6</td>\n",
       "      <td>2</td>\n",
       "      <td>0</td>\n",
       "      <td>0</td>\n",
       "      <td>6</td>\n",
       "      <td>0</td>\n",
       "      <td>6</td>\n",
       "      <td>0</td>\n",
       "      <td>0</td>\n",
       "      <td>1</td>\n",
       "      <td>0</td>\n",
       "      <td>0</td>\n",
       "      <td>0</td>\n",
       "      <td>0</td>\n",
       "      <td>2</td>\n",
       "      <td>4</td>\n",
       "      <td>3</td>\n",
       "      <td>3</td>\n",
       "      <td>2</td>\n",
       "      <td>2</td>\n",
       "      <td>6</td>\n",
       "      <td>0</td>\n",
       "      <td>3</td>\n",
       "      <td>1</td>\n",
       "      <td>4</td>\n",
       "      <td>0</td>\n",
       "      <td>4</td>\n",
       "      <td>6</td>\n",
       "      <td>6</td>\n",
       "      <td>0</td>\n",
       "      <td>0</td>\n",
       "      <td>0</td>\n",
       "      <td>2</td>\n",
       "      <td>6</td>\n",
       "      <td>1</td>\n",
       "      <td>6</td>\n",
       "      <td>3</td>\n",
       "      <td>1</td>\n",
       "      <td>6</td>\n",
       "    </tr>\n",
       "    <tr>\n",
       "      <th>PPV</th>\n",
       "      <td>18</td>\n",
       "      <td>18</td>\n",
       "      <td>11</td>\n",
       "      <td>8</td>\n",
       "      <td>7</td>\n",
       "      <td>0</td>\n",
       "      <td>18</td>\n",
       "      <td>0</td>\n",
       "      <td>18</td>\n",
       "      <td>2</td>\n",
       "      <td>1</td>\n",
       "      <td>2</td>\n",
       "      <td>0</td>\n",
       "      <td>4</td>\n",
       "      <td>1</td>\n",
       "      <td>1</td>\n",
       "      <td>2</td>\n",
       "      <td>16</td>\n",
       "      <td>11</td>\n",
       "      <td>10</td>\n",
       "      <td>8</td>\n",
       "      <td>1</td>\n",
       "      <td>18</td>\n",
       "      <td>0</td>\n",
       "      <td>9</td>\n",
       "      <td>7</td>\n",
       "      <td>6</td>\n",
       "      <td>0</td>\n",
       "      <td>15</td>\n",
       "      <td>18</td>\n",
       "      <td>18</td>\n",
       "      <td>0</td>\n",
       "      <td>1</td>\n",
       "      <td>0</td>\n",
       "      <td>2</td>\n",
       "      <td>18</td>\n",
       "      <td>3</td>\n",
       "      <td>18</td>\n",
       "      <td>3</td>\n",
       "      <td>5</td>\n",
       "      <td>18</td>\n",
       "    </tr>\n",
       "    <tr>\n",
       "      <th>RAB</th>\n",
       "      <td>1</td>\n",
       "      <td>1</td>\n",
       "      <td>0</td>\n",
       "      <td>0</td>\n",
       "      <td>0</td>\n",
       "      <td>0</td>\n",
       "      <td>1</td>\n",
       "      <td>0</td>\n",
       "      <td>1</td>\n",
       "      <td>1</td>\n",
       "      <td>0</td>\n",
       "      <td>0</td>\n",
       "      <td>0</td>\n",
       "      <td>0</td>\n",
       "      <td>0</td>\n",
       "      <td>0</td>\n",
       "      <td>0</td>\n",
       "      <td>0</td>\n",
       "      <td>1</td>\n",
       "      <td>0</td>\n",
       "      <td>0</td>\n",
       "      <td>0</td>\n",
       "      <td>1</td>\n",
       "      <td>0</td>\n",
       "      <td>0</td>\n",
       "      <td>0</td>\n",
       "      <td>0</td>\n",
       "      <td>0</td>\n",
       "      <td>0</td>\n",
       "      <td>1</td>\n",
       "      <td>1</td>\n",
       "      <td>0</td>\n",
       "      <td>0</td>\n",
       "      <td>0</td>\n",
       "      <td>0</td>\n",
       "      <td>1</td>\n",
       "      <td>0</td>\n",
       "      <td>1</td>\n",
       "      <td>1</td>\n",
       "      <td>1</td>\n",
       "      <td>1</td>\n",
       "    </tr>\n",
       "    <tr>\n",
       "      <th>TDAP</th>\n",
       "      <td>2</td>\n",
       "      <td>2</td>\n",
       "      <td>1</td>\n",
       "      <td>0</td>\n",
       "      <td>1</td>\n",
       "      <td>0</td>\n",
       "      <td>2</td>\n",
       "      <td>0</td>\n",
       "      <td>2</td>\n",
       "      <td>1</td>\n",
       "      <td>1</td>\n",
       "      <td>0</td>\n",
       "      <td>0</td>\n",
       "      <td>0</td>\n",
       "      <td>0</td>\n",
       "      <td>0</td>\n",
       "      <td>0</td>\n",
       "      <td>1</td>\n",
       "      <td>1</td>\n",
       "      <td>1</td>\n",
       "      <td>1</td>\n",
       "      <td>1</td>\n",
       "      <td>2</td>\n",
       "      <td>0</td>\n",
       "      <td>1</td>\n",
       "      <td>0</td>\n",
       "      <td>1</td>\n",
       "      <td>0</td>\n",
       "      <td>1</td>\n",
       "      <td>2</td>\n",
       "      <td>2</td>\n",
       "      <td>0</td>\n",
       "      <td>0</td>\n",
       "      <td>0</td>\n",
       "      <td>0</td>\n",
       "      <td>2</td>\n",
       "      <td>1</td>\n",
       "      <td>2</td>\n",
       "      <td>1</td>\n",
       "      <td>0</td>\n",
       "      <td>2</td>\n",
       "    </tr>\n",
       "    <tr>\n",
       "      <th>TYP</th>\n",
       "      <td>1</td>\n",
       "      <td>1</td>\n",
       "      <td>1</td>\n",
       "      <td>0</td>\n",
       "      <td>1</td>\n",
       "      <td>0</td>\n",
       "      <td>1</td>\n",
       "      <td>0</td>\n",
       "      <td>1</td>\n",
       "      <td>0</td>\n",
       "      <td>0</td>\n",
       "      <td>0</td>\n",
       "      <td>0</td>\n",
       "      <td>0</td>\n",
       "      <td>0</td>\n",
       "      <td>0</td>\n",
       "      <td>0</td>\n",
       "      <td>1</td>\n",
       "      <td>1</td>\n",
       "      <td>1</td>\n",
       "      <td>1</td>\n",
       "      <td>0</td>\n",
       "      <td>1</td>\n",
       "      <td>0</td>\n",
       "      <td>0</td>\n",
       "      <td>0</td>\n",
       "      <td>1</td>\n",
       "      <td>0</td>\n",
       "      <td>1</td>\n",
       "      <td>1</td>\n",
       "      <td>1</td>\n",
       "      <td>0</td>\n",
       "      <td>0</td>\n",
       "      <td>0</td>\n",
       "      <td>0</td>\n",
       "      <td>1</td>\n",
       "      <td>0</td>\n",
       "      <td>1</td>\n",
       "      <td>0</td>\n",
       "      <td>0</td>\n",
       "      <td>1</td>\n",
       "    </tr>\n",
       "    <tr>\n",
       "      <th>UNK</th>\n",
       "      <td>51</td>\n",
       "      <td>51</td>\n",
       "      <td>47</td>\n",
       "      <td>41</td>\n",
       "      <td>38</td>\n",
       "      <td>2</td>\n",
       "      <td>51</td>\n",
       "      <td>0</td>\n",
       "      <td>51</td>\n",
       "      <td>27</td>\n",
       "      <td>24</td>\n",
       "      <td>2</td>\n",
       "      <td>0</td>\n",
       "      <td>9</td>\n",
       "      <td>4</td>\n",
       "      <td>0</td>\n",
       "      <td>3</td>\n",
       "      <td>45</td>\n",
       "      <td>45</td>\n",
       "      <td>44</td>\n",
       "      <td>44</td>\n",
       "      <td>14</td>\n",
       "      <td>51</td>\n",
       "      <td>0</td>\n",
       "      <td>26</td>\n",
       "      <td>23</td>\n",
       "      <td>39</td>\n",
       "      <td>0</td>\n",
       "      <td>16</td>\n",
       "      <td>51</td>\n",
       "      <td>51</td>\n",
       "      <td>0</td>\n",
       "      <td>3</td>\n",
       "      <td>7</td>\n",
       "      <td>22</td>\n",
       "      <td>51</td>\n",
       "      <td>21</td>\n",
       "      <td>51</td>\n",
       "      <td>32</td>\n",
       "      <td>20</td>\n",
       "      <td>51</td>\n",
       "    </tr>\n",
       "    <tr>\n",
       "      <th>VARZOS</th>\n",
       "      <td>103</td>\n",
       "      <td>103</td>\n",
       "      <td>98</td>\n",
       "      <td>36</td>\n",
       "      <td>26</td>\n",
       "      <td>0</td>\n",
       "      <td>103</td>\n",
       "      <td>0</td>\n",
       "      <td>103</td>\n",
       "      <td>6</td>\n",
       "      <td>5</td>\n",
       "      <td>2</td>\n",
       "      <td>0</td>\n",
       "      <td>30</td>\n",
       "      <td>3</td>\n",
       "      <td>0</td>\n",
       "      <td>31</td>\n",
       "      <td>94</td>\n",
       "      <td>71</td>\n",
       "      <td>38</td>\n",
       "      <td>28</td>\n",
       "      <td>13</td>\n",
       "      <td>103</td>\n",
       "      <td>0</td>\n",
       "      <td>12</td>\n",
       "      <td>24</td>\n",
       "      <td>24</td>\n",
       "      <td>0</td>\n",
       "      <td>88</td>\n",
       "      <td>103</td>\n",
       "      <td>103</td>\n",
       "      <td>0</td>\n",
       "      <td>26</td>\n",
       "      <td>7</td>\n",
       "      <td>12</td>\n",
       "      <td>103</td>\n",
       "      <td>23</td>\n",
       "      <td>103</td>\n",
       "      <td>63</td>\n",
       "      <td>16</td>\n",
       "      <td>103</td>\n",
       "    </tr>\n",
       "  </tbody>\n",
       "</table>\n",
       "</div>"
      ],
      "text/plain": [
       "            VAERS_ID  RECVDATE  STATE  AGE_YRS  CAGE_YR  CAGE_MO    SEX  \\\n",
       "VAX_TYPE                                                                  \n",
       "ANTH               1         1      1        1        1        0      1   \n",
       "CHOL               1         1      0        1        0        0      1   \n",
       "COVID19        33796     33796  28298    30760    26646       69  33796   \n",
       "DT                 1         1      0        1        1        0      1   \n",
       "DTAP               5         5      3        2        3        2      5   \n",
       "DTAPHEPBIP         2         2      2        2        2        2      2   \n",
       "DTAPIPVHIB         2         2      2        2        1        1      2   \n",
       "DTP                1         1      0        0        0        0      1   \n",
       "FLU3               5         5      4        3        3        0      5   \n",
       "FLU4              43        43     39       36       33        3     43   \n",
       "FLUA3              2         2      1        1        1        0      2   \n",
       "FLUA4              4         4      2        3        2        1      4   \n",
       "FLUC3              1         1      1        0        0        0      1   \n",
       "FLUC4              4         4      2        4        4        0      4   \n",
       "FLUN4              1         1      1        1        1        0      1   \n",
       "FLUR4              7         7      7        7        7        0      7   \n",
       "FLUX              45        45     10       11        5        0     45   \n",
       "HEP                5         5      4        2        2        1      5   \n",
       "HPV4               1         1      1        0        0        0      1   \n",
       "HPV9               4         4      3        2        2        0      4   \n",
       "HPVX               1         1      0        1        0        0      1   \n",
       "MENB               1         1      1        1        1        0      1   \n",
       "MMR                5         5      4        4        3        2      5   \n",
       "PNC                1         1      0        1        0        0      1   \n",
       "PNC13              6         6      6        2        0        0      6   \n",
       "PPV               18        18     11        8        7        0     18   \n",
       "RAB                1         1      0        0        0        0      1   \n",
       "TDAP               2         2      1        0        1        0      2   \n",
       "TYP                1         1      1        0        1        0      1   \n",
       "UNK               51        51     47       41       38        2     51   \n",
       "VARZOS           103       103     98       36       26        0    103   \n",
       "\n",
       "            RPT_DATE  SYMPTOM_TEXT  DIED  DATEDIED  L_THREAT  ER_VISIT  \\\n",
       "VAX_TYPE                                                                 \n",
       "ANTH               0             1     0         0         0         0   \n",
       "CHOL               0             1     0         0         0         0   \n",
       "COVID19           63         33794  1904      1758      1244        11   \n",
       "DT                 0             1     0         0         0         0   \n",
       "DTAP               0             5     1         1         0         0   \n",
       "DTAPHEPBIP         0             2     0         0         0         0   \n",
       "DTAPIPVHIB         0             2     0         0         0         0   \n",
       "DTP                0             1     0         0         0         0   \n",
       "FLU3               0             5     0         0         1         0   \n",
       "FLU4               0            43     7         6         3         0   \n",
       "FLUA3              0             2     0         0         0         0   \n",
       "FLUA4              0             4     0         0         0         0   \n",
       "FLUC3              0             1     0         0         1         0   \n",
       "FLUC4              0             4     0         0         0         0   \n",
       "FLUN4              0             1     0         0         0         0   \n",
       "FLUR4              0             7     0         0         0         0   \n",
       "FLUX               0            45     6         0         2         0   \n",
       "HEP                0             5     2         2         0         0   \n",
       "HPV4               0             1     0         0         0         0   \n",
       "HPV9               0             4     0         0         0         0   \n",
       "HPVX               0             1     0         0         0         0   \n",
       "MENB               0             1     0         0         0         0   \n",
       "MMR                0             5     0         0         1         0   \n",
       "PNC                0             1     0         0         0         0   \n",
       "PNC13              0             6     0         0         1         0   \n",
       "PPV                0            18     2         1         2         0   \n",
       "RAB                0             1     1         0         0         0   \n",
       "TDAP               0             2     1         1         0         0   \n",
       "TYP                0             1     0         0         0         0   \n",
       "UNK                0            51    27        24         2         0   \n",
       "VARZOS             0           103     6         5         2         0   \n",
       "\n",
       "            HOSPITAL  HOSPDAYS  X_STAY  DISABLE  RECOVD  VAX_DATE  ONSET_DATE  \\\n",
       "VAX_TYPE                                                                        \n",
       "ANTH               0         0       0        0       1         1           1   \n",
       "CHOL               1         1       0        0       1         0           0   \n",
       "COVID19         4294      2824      49      815   30974     32404       32074   \n",
       "DT                 0         0       0        0       1         1           1   \n",
       "DTAP               0         0       0        0       5         3           3   \n",
       "DTAPHEPBIP         2         1       0        0       1         2           2   \n",
       "DTAPIPVHIB         1         1       0        1       2         1           1   \n",
       "DTP                0         0       0        0       1         0           0   \n",
       "FLU3               1         0       0        1       5         4           4   \n",
       "FLU4              16        12       1        8      37        39          38   \n",
       "FLUA3              1         1       0        0       2         1           1   \n",
       "FLUA4              2         1       0        0       4         4           4   \n",
       "FLUC3              0         0       0        0       0         1           1   \n",
       "FLUC4              3         2       0        1       2         4           4   \n",
       "FLUN4              0         0       0        0       1         1           1   \n",
       "FLUR4              1         1       0        4       6         7           7   \n",
       "FLUX              12         0       0        0      43         7           9   \n",
       "HEP                2         1       0        1       4         2           3   \n",
       "HPV4               1         0       0        1       1         0           0   \n",
       "HPV9               3         1       0        0       4         3           2   \n",
       "HPVX               0         0       0        0       1         0           0   \n",
       "MENB               1         1       0        0       1         1           1   \n",
       "MMR                3         2       1        0       5         3           3   \n",
       "PNC                0         0       0        0       1         0           1   \n",
       "PNC13              0         0       0        2       4         3           3   \n",
       "PPV                4         1       1        2      16        11          10   \n",
       "RAB                0         0       0        0       0         1           0   \n",
       "TDAP               0         0       0        0       1         1           1   \n",
       "TYP                0         0       0        0       1         1           1   \n",
       "UNK                9         4       0        3      45        45          44   \n",
       "VARZOS            30         3       0       31      94        71          38   \n",
       "\n",
       "            NUMDAYS  LAB_DATA  V_ADMINBY  V_FUNDBY  OTHER_MEDS  CUR_ILL  \\\n",
       "VAX_TYPE                                                                  \n",
       "ANTH              1         1          1         0           1        1   \n",
       "CHOL              0         1          1         0           0        1   \n",
       "COVID19       31030     14996      33796        64       20133    15957   \n",
       "DT                1         0          1         0           0        1   \n",
       "DTAP              3         2          5         0           2        2   \n",
       "DTAPHEPBIP        2         2          2         0           1        1   \n",
       "DTAPIPVHIB        1         1          2         0           1        1   \n",
       "DTP               0         0          1         0           0        0   \n",
       "FLU3              3         1          5         0           0        0   \n",
       "FLU4             38        22         43         0          28       26   \n",
       "FLUA3             1         1          2         0           1        1   \n",
       "FLUA4             4         3          4         0           3        3   \n",
       "FLUC3             1         0          1         0           1        0   \n",
       "FLUC4             4         1          4         0           2        2   \n",
       "FLUN4             1         1          1         0           0        0   \n",
       "FLUR4             7         4          7         0           4        3   \n",
       "FLUX              5         5         45         0           4        6   \n",
       "HEP               2         4          5         0           2        2   \n",
       "HPV4              0         0          1         0           0        0   \n",
       "HPV9              2         1          4         0           1        1   \n",
       "HPVX              0         1          1         0           0        1   \n",
       "MENB              1         1          1         0           1        1   \n",
       "MMR               3         1          5         0           3        4   \n",
       "PNC               0         0          1         0           0        0   \n",
       "PNC13             2         2          6         0           3        1   \n",
       "PPV               8         1         18         0           9        7   \n",
       "RAB               0         0          1         0           0        0   \n",
       "TDAP              1         1          2         0           1        0   \n",
       "TYP               1         0          1         0           0        0   \n",
       "UNK              44        14         51         0          26       23   \n",
       "VARZOS           28        13        103         0          12       24   \n",
       "\n",
       "            HISTORY  PRIOR_VAX  SPLTTYPE  FORM_VERS  TODAYS_DATE  \\\n",
       "VAX_TYPE                                                           \n",
       "ANTH              1          0         0          1            1   \n",
       "CHOL              0          0         1          1            1   \n",
       "COVID19       22241       1434      8025      33796        33597   \n",
       "DT                0          0         1          1            1   \n",
       "DTAP              2          0         3          5            5   \n",
       "DTAPHEPBIP        1          0         0          2            2   \n",
       "DTAPIPVHIB        1          0         1          2            2   \n",
       "DTP               0          0         1          1            1   \n",
       "FLU3              0          0         5          5            5   \n",
       "FLU4             29          0         6         43           43   \n",
       "FLUA3             1          0         1          2            2   \n",
       "FLUA4             3          0         2          4            4   \n",
       "FLUC3             0          0         0          1            1   \n",
       "FLUC4             3          0         0          4            4   \n",
       "FLUN4             1          0         1          1            1   \n",
       "FLUR4             4          0         0          7            7   \n",
       "FLUX              6          0        39         45           45   \n",
       "HEP               2          0         2          5            5   \n",
       "HPV4              1          0         1          1            1   \n",
       "HPV9              0          0         4          4            4   \n",
       "HPVX              0          0         1          1            1   \n",
       "MENB              1          0         0          1            1   \n",
       "MMR               3          0         3          5            5   \n",
       "PNC               0          0         1          1            1   \n",
       "PNC13             4          0         4          6            6   \n",
       "PPV               6          0        15         18           18   \n",
       "RAB               0          0         0          1            1   \n",
       "TDAP              1          0         1          2            2   \n",
       "TYP               1          0         1          1            1   \n",
       "UNK              39          0        16         51           51   \n",
       "VARZOS           24          0        88        103          103   \n",
       "\n",
       "            BIRTH_DEFECT  OFC_VISIT  ER_ED_VISIT  ALLERGIES  VAX_MANU  \\\n",
       "VAX_TYPE                                                                \n",
       "ANTH                   0          0            0          1         1   \n",
       "CHOL                   0          0            0          0         1   \n",
       "COVID19               51       5344         5487      18501     33796   \n",
       "DT                     0          0            0          0         1   \n",
       "DTAP                   0          2            0          2         5   \n",
       "DTAPHEPBIP             0          0            2          1         2   \n",
       "DTAPIPVHIB             0          0            1          1         2   \n",
       "DTP                    0          0            0          0         1   \n",
       "FLU3                   0          0            1          0         5   \n",
       "FLU4                   0         15           12         28        43   \n",
       "FLUA3                  0          1            1          1         2   \n",
       "FLUA4                  0          1            1          2         4   \n",
       "FLUC3                  0          0            0          1         1   \n",
       "FLUC4                  0          1            0          2         4   \n",
       "FLUN4                  0          0            0          0         1   \n",
       "FLUR4                  0          4            0          5         7   \n",
       "FLUX                   0          5            4          0        45   \n",
       "HEP                    0          0            1          1         5   \n",
       "HPV4                   0          0            0          0         1   \n",
       "HPV9                   0          0            1          0         4   \n",
       "HPVX                   0          0            0          0         1   \n",
       "MENB                   0          1            1          1         1   \n",
       "MMR                    0          0            2          2         5   \n",
       "PNC                    0          0            1          0         1   \n",
       "PNC13                  0          0            0          2         6   \n",
       "PPV                    0          1            0          2        18   \n",
       "RAB                    0          0            0          0         1   \n",
       "TDAP                   0          0            0          0         2   \n",
       "TYP                    0          0            0          0         1   \n",
       "UNK                    0          3            7         22        51   \n",
       "VARZOS                 0         26            7         12       103   \n",
       "\n",
       "            VAX_LOT  VAX_DOSE_SERIES  VAX_ROUTE  VAX_SITE  VAX_NAME  \n",
       "VAX_TYPE                                                             \n",
       "ANTH              1                1          1         1         1  \n",
       "CHOL              0                1          1         0         1  \n",
       "COVID19       23037            33745      25619     26216     33796  \n",
       "DT                0                1          1         0         1  \n",
       "DTAP              3                5          4         2         5  \n",
       "DTAPHEPBIP        0                2          0         1         2  \n",
       "DTAPIPVHIB        0                2          1         1         2  \n",
       "DTP               0                1          1         0         1  \n",
       "FLU3              4                5          5         2         5  \n",
       "FLU4             31               36         35        27        43  \n",
       "FLUA3             2                1          2         1         2  \n",
       "FLUA4             3                4          4         2         4  \n",
       "FLUC3             0                1          0         0         1  \n",
       "FLUC4             2                3          4         4         4  \n",
       "FLUN4             0                1          1         0         1  \n",
       "FLUR4             6                6          6         7         7  \n",
       "FLUX              8               45         33         1        45  \n",
       "HEP               1                5          3         1         5  \n",
       "HPV4              0                1          1         0         1  \n",
       "HPV9              1                4          1         1         4  \n",
       "HPVX              1                1          0         0         1  \n",
       "MENB              1                1          1         1         1  \n",
       "MMR               1                5          2         1         5  \n",
       "PNC               0                1          0         0         1  \n",
       "PNC13             1                6          3         1         6  \n",
       "PPV               3               18          3         5        18  \n",
       "RAB               0                1          1         1         1  \n",
       "TDAP              1                2          1         0         2  \n",
       "TYP               0                1          0         0         1  \n",
       "UNK              21               51         32        20        51  \n",
       "VARZOS           23              103         63        16       103  "
      ]
     },
     "execution_count": 22,
     "metadata": {},
     "output_type": "execute_result"
    }
   ],
   "source": [
    "#Discover unique types of VAX\n",
    "\n",
    "VAX.groupby('VAX_TYPE').count()"
   ]
  },
  {
   "cell_type": "code",
   "execution_count": 23,
   "id": "97d11b1d",
   "metadata": {},
   "outputs": [],
   "source": [
    "#i will focus on covid 19 only so i create new dataframe include only covid 19 i will call it 'VAX19'\n",
    "\n",
    "COVID19 = ['COVID19']\n",
    "VAX19 = VAX[VAX.VAX_TYPE.isin(COVID19)]\n"
   ]
  },
  {
   "cell_type": "code",
   "execution_count": 24,
   "id": "ab8f34e3",
   "metadata": {},
   "outputs": [
    {
     "data": {
      "text/plain": [
       "VAERS_ID           33796\n",
       "RECVDATE              78\n",
       "STATE                 60\n",
       "AGE_YRS              112\n",
       "CAGE_YR              100\n",
       "CAGE_MO                6\n",
       "SEX                    3\n",
       "RPT_DATE              24\n",
       "SYMPTOM_TEXT       32872\n",
       "DIED                   1\n",
       "DATEDIED              92\n",
       "L_THREAT               1\n",
       "ER_VISIT               1\n",
       "HOSPITAL               1\n",
       "HOSPDAYS              34\n",
       "X_STAY                 1\n",
       "DISABLE                1\n",
       "RECOVD                 3\n",
       "VAX_DATE             188\n",
       "ONSET_DATE           143\n",
       "NUMDAYS              113\n",
       "LAB_DATA            8849\n",
       "V_ADMINBY              9\n",
       "V_FUNDBY               4\n",
       "OTHER_MEDS         14925\n",
       "CUR_ILL             4178\n",
       "HISTORY            11469\n",
       "PRIOR_VAX           1321\n",
       "SPLTTYPE            6314\n",
       "FORM_VERS              2\n",
       "TODAYS_DATE           96\n",
       "BIRTH_DEFECT           1\n",
       "OFC_VISIT              1\n",
       "ER_ED_VISIT            1\n",
       "ALLERGIES           7755\n",
       "VAX_TYPE               1\n",
       "VAX_MANU               4\n",
       "VAX_LOT             2097\n",
       "VAX_DOSE_SERIES        8\n",
       "VAX_ROUTE              7\n",
       "VAX_SITE               9\n",
       "VAX_NAME               4\n",
       "dtype: int64"
      ]
     },
     "execution_count": 24,
     "metadata": {},
     "output_type": "execute_result"
    }
   ],
   "source": [
    "VAX19.nunique()"
   ]
  },
  {
   "cell_type": "markdown",
   "id": "469ca70a",
   "metadata": {},
   "source": [
    "# The goal of investigation is determine  the most variables who have a strong affect on DIED records\n"
   ]
  },
  {
   "cell_type": "code",
   "execution_count": 25,
   "id": "cf8caee2",
   "metadata": {},
   "outputs": [
    {
     "data": {
      "text/html": [
       "<div>\n",
       "<style scoped>\n",
       "    .dataframe tbody tr th:only-of-type {\n",
       "        vertical-align: middle;\n",
       "    }\n",
       "\n",
       "    .dataframe tbody tr th {\n",
       "        vertical-align: top;\n",
       "    }\n",
       "\n",
       "    .dataframe thead th {\n",
       "        text-align: right;\n",
       "    }\n",
       "</style>\n",
       "<table border=\"1\" class=\"dataframe\">\n",
       "  <thead>\n",
       "    <tr style=\"text-align: right;\">\n",
       "      <th></th>\n",
       "      <th>VAERS_ID</th>\n",
       "      <th>RECVDATE</th>\n",
       "      <th>STATE</th>\n",
       "      <th>AGE_YRS</th>\n",
       "      <th>CAGE_YR</th>\n",
       "      <th>CAGE_MO</th>\n",
       "      <th>SEX</th>\n",
       "      <th>RPT_DATE</th>\n",
       "      <th>SYMPTOM_TEXT</th>\n",
       "      <th>DIED</th>\n",
       "      <th>DATEDIED</th>\n",
       "      <th>L_THREAT</th>\n",
       "      <th>ER_VISIT</th>\n",
       "      <th>HOSPITAL</th>\n",
       "      <th>HOSPDAYS</th>\n",
       "      <th>X_STAY</th>\n",
       "      <th>DISABLE</th>\n",
       "      <th>RECOVD</th>\n",
       "      <th>VAX_DATE</th>\n",
       "      <th>ONSET_DATE</th>\n",
       "      <th>NUMDAYS</th>\n",
       "      <th>LAB_DATA</th>\n",
       "      <th>V_ADMINBY</th>\n",
       "      <th>V_FUNDBY</th>\n",
       "      <th>OTHER_MEDS</th>\n",
       "      <th>CUR_ILL</th>\n",
       "      <th>HISTORY</th>\n",
       "      <th>PRIOR_VAX</th>\n",
       "      <th>SPLTTYPE</th>\n",
       "      <th>FORM_VERS</th>\n",
       "      <th>TODAYS_DATE</th>\n",
       "      <th>BIRTH_DEFECT</th>\n",
       "      <th>OFC_VISIT</th>\n",
       "      <th>ER_ED_VISIT</th>\n",
       "      <th>ALLERGIES</th>\n",
       "      <th>VAX_TYPE</th>\n",
       "      <th>VAX_MANU</th>\n",
       "      <th>VAX_LOT</th>\n",
       "      <th>VAX_DOSE_SERIES</th>\n",
       "      <th>VAX_ROUTE</th>\n",
       "      <th>VAX_SITE</th>\n",
       "      <th>VAX_NAME</th>\n",
       "    </tr>\n",
       "  </thead>\n",
       "  <tbody>\n",
       "    <tr>\n",
       "      <th>0</th>\n",
       "      <td>916600</td>\n",
       "      <td>01/01/2021</td>\n",
       "      <td>TX</td>\n",
       "      <td>33.0</td>\n",
       "      <td>33.0</td>\n",
       "      <td>NaN</td>\n",
       "      <td>F</td>\n",
       "      <td>NaN</td>\n",
       "      <td>Right side of epiglottis swelled up and hinder...</td>\n",
       "      <td>NaN</td>\n",
       "      <td>NaN</td>\n",
       "      <td>NaN</td>\n",
       "      <td>NaN</td>\n",
       "      <td>NaN</td>\n",
       "      <td>NaN</td>\n",
       "      <td>NaN</td>\n",
       "      <td>NaN</td>\n",
       "      <td>Y</td>\n",
       "      <td>12/28/2020</td>\n",
       "      <td>12/30/2020</td>\n",
       "      <td>2.0</td>\n",
       "      <td>None</td>\n",
       "      <td>PVT</td>\n",
       "      <td>NaN</td>\n",
       "      <td>None</td>\n",
       "      <td>None</td>\n",
       "      <td>None</td>\n",
       "      <td>NaN</td>\n",
       "      <td>NaN</td>\n",
       "      <td>2</td>\n",
       "      <td>01/01/2021</td>\n",
       "      <td>NaN</td>\n",
       "      <td>Y</td>\n",
       "      <td>NaN</td>\n",
       "      <td>Pcn and bee venom</td>\n",
       "      <td>COVID19</td>\n",
       "      <td>MODERNA</td>\n",
       "      <td>037K20A</td>\n",
       "      <td>1</td>\n",
       "      <td>IM</td>\n",
       "      <td>LA</td>\n",
       "      <td>COVID19 (COVID19 (MODERNA))</td>\n",
       "    </tr>\n",
       "    <tr>\n",
       "      <th>1</th>\n",
       "      <td>916601</td>\n",
       "      <td>01/01/2021</td>\n",
       "      <td>CA</td>\n",
       "      <td>73.0</td>\n",
       "      <td>73.0</td>\n",
       "      <td>NaN</td>\n",
       "      <td>F</td>\n",
       "      <td>NaN</td>\n",
       "      <td>Approximately 30 min post vaccination administ...</td>\n",
       "      <td>NaN</td>\n",
       "      <td>NaN</td>\n",
       "      <td>NaN</td>\n",
       "      <td>NaN</td>\n",
       "      <td>NaN</td>\n",
       "      <td>NaN</td>\n",
       "      <td>NaN</td>\n",
       "      <td>NaN</td>\n",
       "      <td>Y</td>\n",
       "      <td>12/31/2020</td>\n",
       "      <td>12/31/2020</td>\n",
       "      <td>0.0</td>\n",
       "      <td>NaN</td>\n",
       "      <td>SEN</td>\n",
       "      <td>NaN</td>\n",
       "      <td>Patient residing at nursing facility. See pati...</td>\n",
       "      <td>Patient residing at nursing facility. See pati...</td>\n",
       "      <td>Patient residing at nursing facility. See pati...</td>\n",
       "      <td>NaN</td>\n",
       "      <td>NaN</td>\n",
       "      <td>2</td>\n",
       "      <td>01/01/2021</td>\n",
       "      <td>NaN</td>\n",
       "      <td>Y</td>\n",
       "      <td>NaN</td>\n",
       "      <td>\"Dairy\"</td>\n",
       "      <td>COVID19</td>\n",
       "      <td>MODERNA</td>\n",
       "      <td>025L20A</td>\n",
       "      <td>1</td>\n",
       "      <td>IM</td>\n",
       "      <td>RA</td>\n",
       "      <td>COVID19 (COVID19 (MODERNA))</td>\n",
       "    </tr>\n",
       "    <tr>\n",
       "      <th>2</th>\n",
       "      <td>916602</td>\n",
       "      <td>01/01/2021</td>\n",
       "      <td>WA</td>\n",
       "      <td>23.0</td>\n",
       "      <td>23.0</td>\n",
       "      <td>NaN</td>\n",
       "      <td>F</td>\n",
       "      <td>NaN</td>\n",
       "      <td>About 15 minutes after receiving the vaccine, ...</td>\n",
       "      <td>NaN</td>\n",
       "      <td>NaN</td>\n",
       "      <td>NaN</td>\n",
       "      <td>NaN</td>\n",
       "      <td>NaN</td>\n",
       "      <td>NaN</td>\n",
       "      <td>NaN</td>\n",
       "      <td>NaN</td>\n",
       "      <td>U</td>\n",
       "      <td>12/31/2020</td>\n",
       "      <td>12/31/2020</td>\n",
       "      <td>0.0</td>\n",
       "      <td>NaN</td>\n",
       "      <td>SEN</td>\n",
       "      <td>NaN</td>\n",
       "      <td>None</td>\n",
       "      <td>None</td>\n",
       "      <td>None</td>\n",
       "      <td>NaN</td>\n",
       "      <td>NaN</td>\n",
       "      <td>2</td>\n",
       "      <td>01/01/2021</td>\n",
       "      <td>NaN</td>\n",
       "      <td>NaN</td>\n",
       "      <td>Y</td>\n",
       "      <td>Shellfish</td>\n",
       "      <td>COVID19</td>\n",
       "      <td>PFIZER\\BIONTECH</td>\n",
       "      <td>EL1284</td>\n",
       "      <td>1</td>\n",
       "      <td>IM</td>\n",
       "      <td>LA</td>\n",
       "      <td>COVID19 (COVID19 (PFIZER-BIONTECH))</td>\n",
       "    </tr>\n",
       "    <tr>\n",
       "      <th>3</th>\n",
       "      <td>916603</td>\n",
       "      <td>01/01/2021</td>\n",
       "      <td>WA</td>\n",
       "      <td>58.0</td>\n",
       "      <td>58.0</td>\n",
       "      <td>NaN</td>\n",
       "      <td>F</td>\n",
       "      <td>NaN</td>\n",
       "      <td>extreme fatigue, dizziness,. could not lift my...</td>\n",
       "      <td>NaN</td>\n",
       "      <td>NaN</td>\n",
       "      <td>NaN</td>\n",
       "      <td>NaN</td>\n",
       "      <td>NaN</td>\n",
       "      <td>NaN</td>\n",
       "      <td>NaN</td>\n",
       "      <td>NaN</td>\n",
       "      <td>Y</td>\n",
       "      <td>12/23/2020</td>\n",
       "      <td>12/23/2020</td>\n",
       "      <td>0.0</td>\n",
       "      <td>none</td>\n",
       "      <td>WRK</td>\n",
       "      <td>NaN</td>\n",
       "      <td>none</td>\n",
       "      <td>kidney infection</td>\n",
       "      <td>diverticulitis, mitral valve prolapse, osteoar...</td>\n",
       "      <td>got measles from measel shot, mums from mumps ...</td>\n",
       "      <td>NaN</td>\n",
       "      <td>2</td>\n",
       "      <td>01/01/2021</td>\n",
       "      <td>NaN</td>\n",
       "      <td>NaN</td>\n",
       "      <td>NaN</td>\n",
       "      <td>Diclofenac, novacaine, lidocaine, pickles, tom...</td>\n",
       "      <td>COVID19</td>\n",
       "      <td>MODERNA</td>\n",
       "      <td>unknown</td>\n",
       "      <td>UNK</td>\n",
       "      <td>NaN</td>\n",
       "      <td>NaN</td>\n",
       "      <td>COVID19 (COVID19 (MODERNA))</td>\n",
       "    </tr>\n",
       "    <tr>\n",
       "      <th>4</th>\n",
       "      <td>916604</td>\n",
       "      <td>01/01/2021</td>\n",
       "      <td>TX</td>\n",
       "      <td>47.0</td>\n",
       "      <td>47.0</td>\n",
       "      <td>NaN</td>\n",
       "      <td>F</td>\n",
       "      <td>NaN</td>\n",
       "      <td>Injection site swelling, redness, warm to the ...</td>\n",
       "      <td>NaN</td>\n",
       "      <td>NaN</td>\n",
       "      <td>NaN</td>\n",
       "      <td>NaN</td>\n",
       "      <td>NaN</td>\n",
       "      <td>NaN</td>\n",
       "      <td>NaN</td>\n",
       "      <td>NaN</td>\n",
       "      <td>N</td>\n",
       "      <td>12/22/2020</td>\n",
       "      <td>12/29/2020</td>\n",
       "      <td>7.0</td>\n",
       "      <td>NaN</td>\n",
       "      <td>PUB</td>\n",
       "      <td>NaN</td>\n",
       "      <td>Na</td>\n",
       "      <td>Na</td>\n",
       "      <td>NaN</td>\n",
       "      <td>NaN</td>\n",
       "      <td>NaN</td>\n",
       "      <td>2</td>\n",
       "      <td>01/01/2021</td>\n",
       "      <td>NaN</td>\n",
       "      <td>NaN</td>\n",
       "      <td>NaN</td>\n",
       "      <td>Na</td>\n",
       "      <td>COVID19</td>\n",
       "      <td>MODERNA</td>\n",
       "      <td>NaN</td>\n",
       "      <td>1</td>\n",
       "      <td>IM</td>\n",
       "      <td>LA</td>\n",
       "      <td>COVID19 (COVID19 (MODERNA))</td>\n",
       "    </tr>\n",
       "  </tbody>\n",
       "</table>\n",
       "</div>"
      ],
      "text/plain": [
       "   VAERS_ID    RECVDATE STATE  AGE_YRS  CAGE_YR  CAGE_MO SEX RPT_DATE  \\\n",
       "0    916600  01/01/2021    TX     33.0     33.0      NaN   F      NaN   \n",
       "1    916601  01/01/2021    CA     73.0     73.0      NaN   F      NaN   \n",
       "2    916602  01/01/2021    WA     23.0     23.0      NaN   F      NaN   \n",
       "3    916603  01/01/2021    WA     58.0     58.0      NaN   F      NaN   \n",
       "4    916604  01/01/2021    TX     47.0     47.0      NaN   F      NaN   \n",
       "\n",
       "                                        SYMPTOM_TEXT DIED DATEDIED L_THREAT  \\\n",
       "0  Right side of epiglottis swelled up and hinder...  NaN      NaN      NaN   \n",
       "1  Approximately 30 min post vaccination administ...  NaN      NaN      NaN   \n",
       "2  About 15 minutes after receiving the vaccine, ...  NaN      NaN      NaN   \n",
       "3  extreme fatigue, dizziness,. could not lift my...  NaN      NaN      NaN   \n",
       "4  Injection site swelling, redness, warm to the ...  NaN      NaN      NaN   \n",
       "\n",
       "  ER_VISIT HOSPITAL  HOSPDAYS X_STAY DISABLE RECOVD    VAX_DATE  ONSET_DATE  \\\n",
       "0      NaN      NaN       NaN    NaN     NaN      Y  12/28/2020  12/30/2020   \n",
       "1      NaN      NaN       NaN    NaN     NaN      Y  12/31/2020  12/31/2020   \n",
       "2      NaN      NaN       NaN    NaN     NaN      U  12/31/2020  12/31/2020   \n",
       "3      NaN      NaN       NaN    NaN     NaN      Y  12/23/2020  12/23/2020   \n",
       "4      NaN      NaN       NaN    NaN     NaN      N  12/22/2020  12/29/2020   \n",
       "\n",
       "   NUMDAYS LAB_DATA V_ADMINBY V_FUNDBY  \\\n",
       "0      2.0     None       PVT      NaN   \n",
       "1      0.0      NaN       SEN      NaN   \n",
       "2      0.0      NaN       SEN      NaN   \n",
       "3      0.0     none       WRK      NaN   \n",
       "4      7.0      NaN       PUB      NaN   \n",
       "\n",
       "                                          OTHER_MEDS  \\\n",
       "0                                               None   \n",
       "1  Patient residing at nursing facility. See pati...   \n",
       "2                                               None   \n",
       "3                                               none   \n",
       "4                                                 Na   \n",
       "\n",
       "                                             CUR_ILL  \\\n",
       "0                                               None   \n",
       "1  Patient residing at nursing facility. See pati...   \n",
       "2                                               None   \n",
       "3                                   kidney infection   \n",
       "4                                                 Na   \n",
       "\n",
       "                                             HISTORY  \\\n",
       "0                                               None   \n",
       "1  Patient residing at nursing facility. See pati...   \n",
       "2                                               None   \n",
       "3  diverticulitis, mitral valve prolapse, osteoar...   \n",
       "4                                                NaN   \n",
       "\n",
       "                                           PRIOR_VAX SPLTTYPE  FORM_VERS  \\\n",
       "0                                                NaN      NaN          2   \n",
       "1                                                NaN      NaN          2   \n",
       "2                                                NaN      NaN          2   \n",
       "3  got measles from measel shot, mums from mumps ...      NaN          2   \n",
       "4                                                NaN      NaN          2   \n",
       "\n",
       "  TODAYS_DATE BIRTH_DEFECT OFC_VISIT ER_ED_VISIT  \\\n",
       "0  01/01/2021          NaN         Y         NaN   \n",
       "1  01/01/2021          NaN         Y         NaN   \n",
       "2  01/01/2021          NaN       NaN           Y   \n",
       "3  01/01/2021          NaN       NaN         NaN   \n",
       "4  01/01/2021          NaN       NaN         NaN   \n",
       "\n",
       "                                           ALLERGIES VAX_TYPE  \\\n",
       "0                                  Pcn and bee venom  COVID19   \n",
       "1                                            \"Dairy\"  COVID19   \n",
       "2                                          Shellfish  COVID19   \n",
       "3  Diclofenac, novacaine, lidocaine, pickles, tom...  COVID19   \n",
       "4                                                 Na  COVID19   \n",
       "\n",
       "          VAX_MANU  VAX_LOT VAX_DOSE_SERIES VAX_ROUTE VAX_SITE  \\\n",
       "0          MODERNA  037K20A               1        IM       LA   \n",
       "1          MODERNA  025L20A               1        IM       RA   \n",
       "2  PFIZER\\BIONTECH   EL1284               1        IM       LA   \n",
       "3          MODERNA  unknown             UNK       NaN      NaN   \n",
       "4          MODERNA      NaN               1        IM       LA   \n",
       "\n",
       "                              VAX_NAME  \n",
       "0          COVID19 (COVID19 (MODERNA))  \n",
       "1          COVID19 (COVID19 (MODERNA))  \n",
       "2  COVID19 (COVID19 (PFIZER-BIONTECH))  \n",
       "3          COVID19 (COVID19 (MODERNA))  \n",
       "4          COVID19 (COVID19 (MODERNA))  "
      ]
     },
     "execution_count": 25,
     "metadata": {},
     "output_type": "execute_result"
    }
   ],
   "source": [
    "VAX19.head()"
   ]
  },
  {
   "cell_type": "code",
   "execution_count": 26,
   "id": "54e14497",
   "metadata": {},
   "outputs": [
    {
     "data": {
      "text/plain": [
       "array(['MODERNA', 'PFIZER\\\\BIONTECH', 'UNKNOWN MANUFACTURER', 'JANSSEN'],\n",
       "      dtype=object)"
      ]
     },
     "execution_count": 26,
     "metadata": {},
     "output_type": "execute_result"
    }
   ],
   "source": [
    "#discover unique vax manu\n",
    "\n",
    "VAX19['VAX_MANU'].unique()"
   ]
  },
  {
   "cell_type": "code",
   "execution_count": 27,
   "id": "23c92982",
   "metadata": {},
   "outputs": [
    {
     "data": {
      "text/plain": [
       "array(['COVID19 (COVID19 (MODERNA))',\n",
       "       'COVID19 (COVID19 (PFIZER-BIONTECH))',\n",
       "       'COVID19 (COVID19 (UNKNOWN))', 'COVID19 (COVID19 (JANSSEN))'],\n",
       "      dtype=object)"
      ]
     },
     "execution_count": 27,
     "metadata": {},
     "output_type": "execute_result"
    }
   ],
   "source": [
    "#discover unique vax name\n",
    "\n",
    "VAX19['VAX_NAME'].unique()"
   ]
  },
  {
   "cell_type": "markdown",
   "id": "18e2ad38",
   "metadata": {},
   "source": [
    "* i will work with VAX_MANU"
   ]
  },
  {
   "cell_type": "code",
   "execution_count": 28,
   "id": "d2c18277",
   "metadata": {},
   "outputs": [],
   "source": [
    "#select data frame that contains the main columns which i will used in my report , \n",
    "#foucsing on specific columns  that i see it will be very important in my analysis\n",
    "\n",
    "VAX19X= pd.DataFrame(VAX19, columns = ['VAERS_ID','STATE','CAGE_YR' ,'SEX','DIED','DATEDIED', 'VAX_DATE' ,'ER_VISIT' ,'L_THREAT','HOSPDAYS','VAX_TYPE','VAX_MANU'  ])"
   ]
  },
  {
   "cell_type": "code",
   "execution_count": 29,
   "id": "2b637bbd",
   "metadata": {
    "scrolled": true
   },
   "outputs": [
    {
     "data": {
      "text/html": [
       "<div>\n",
       "<style scoped>\n",
       "    .dataframe tbody tr th:only-of-type {\n",
       "        vertical-align: middle;\n",
       "    }\n",
       "\n",
       "    .dataframe tbody tr th {\n",
       "        vertical-align: top;\n",
       "    }\n",
       "\n",
       "    .dataframe thead th {\n",
       "        text-align: right;\n",
       "    }\n",
       "</style>\n",
       "<table border=\"1\" class=\"dataframe\">\n",
       "  <thead>\n",
       "    <tr style=\"text-align: right;\">\n",
       "      <th></th>\n",
       "      <th>VAERS_ID</th>\n",
       "      <th>STATE</th>\n",
       "      <th>CAGE_YR</th>\n",
       "      <th>SEX</th>\n",
       "      <th>DIED</th>\n",
       "      <th>DATEDIED</th>\n",
       "      <th>VAX_DATE</th>\n",
       "      <th>ER_VISIT</th>\n",
       "      <th>L_THREAT</th>\n",
       "      <th>HOSPDAYS</th>\n",
       "      <th>VAX_TYPE</th>\n",
       "      <th>VAX_MANU</th>\n",
       "    </tr>\n",
       "  </thead>\n",
       "  <tbody>\n",
       "    <tr>\n",
       "      <th>0</th>\n",
       "      <td>916600</td>\n",
       "      <td>TX</td>\n",
       "      <td>33.0</td>\n",
       "      <td>F</td>\n",
       "      <td>NaN</td>\n",
       "      <td>NaN</td>\n",
       "      <td>12/28/2020</td>\n",
       "      <td>NaN</td>\n",
       "      <td>NaN</td>\n",
       "      <td>NaN</td>\n",
       "      <td>COVID19</td>\n",
       "      <td>MODERNA</td>\n",
       "    </tr>\n",
       "    <tr>\n",
       "      <th>1</th>\n",
       "      <td>916601</td>\n",
       "      <td>CA</td>\n",
       "      <td>73.0</td>\n",
       "      <td>F</td>\n",
       "      <td>NaN</td>\n",
       "      <td>NaN</td>\n",
       "      <td>12/31/2020</td>\n",
       "      <td>NaN</td>\n",
       "      <td>NaN</td>\n",
       "      <td>NaN</td>\n",
       "      <td>COVID19</td>\n",
       "      <td>MODERNA</td>\n",
       "    </tr>\n",
       "    <tr>\n",
       "      <th>2</th>\n",
       "      <td>916602</td>\n",
       "      <td>WA</td>\n",
       "      <td>23.0</td>\n",
       "      <td>F</td>\n",
       "      <td>NaN</td>\n",
       "      <td>NaN</td>\n",
       "      <td>12/31/2020</td>\n",
       "      <td>NaN</td>\n",
       "      <td>NaN</td>\n",
       "      <td>NaN</td>\n",
       "      <td>COVID19</td>\n",
       "      <td>PFIZER\\BIONTECH</td>\n",
       "    </tr>\n",
       "    <tr>\n",
       "      <th>3</th>\n",
       "      <td>916603</td>\n",
       "      <td>WA</td>\n",
       "      <td>58.0</td>\n",
       "      <td>F</td>\n",
       "      <td>NaN</td>\n",
       "      <td>NaN</td>\n",
       "      <td>12/23/2020</td>\n",
       "      <td>NaN</td>\n",
       "      <td>NaN</td>\n",
       "      <td>NaN</td>\n",
       "      <td>COVID19</td>\n",
       "      <td>MODERNA</td>\n",
       "    </tr>\n",
       "    <tr>\n",
       "      <th>4</th>\n",
       "      <td>916604</td>\n",
       "      <td>TX</td>\n",
       "      <td>47.0</td>\n",
       "      <td>F</td>\n",
       "      <td>NaN</td>\n",
       "      <td>NaN</td>\n",
       "      <td>12/22/2020</td>\n",
       "      <td>NaN</td>\n",
       "      <td>NaN</td>\n",
       "      <td>NaN</td>\n",
       "      <td>COVID19</td>\n",
       "      <td>MODERNA</td>\n",
       "    </tr>\n",
       "  </tbody>\n",
       "</table>\n",
       "</div>"
      ],
      "text/plain": [
       "   VAERS_ID STATE  CAGE_YR SEX DIED DATEDIED    VAX_DATE ER_VISIT L_THREAT  \\\n",
       "0    916600    TX     33.0   F  NaN      NaN  12/28/2020      NaN      NaN   \n",
       "1    916601    CA     73.0   F  NaN      NaN  12/31/2020      NaN      NaN   \n",
       "2    916602    WA     23.0   F  NaN      NaN  12/31/2020      NaN      NaN   \n",
       "3    916603    WA     58.0   F  NaN      NaN  12/23/2020      NaN      NaN   \n",
       "4    916604    TX     47.0   F  NaN      NaN  12/22/2020      NaN      NaN   \n",
       "\n",
       "   HOSPDAYS VAX_TYPE         VAX_MANU  \n",
       "0       NaN  COVID19          MODERNA  \n",
       "1       NaN  COVID19          MODERNA  \n",
       "2       NaN  COVID19  PFIZER\\BIONTECH  \n",
       "3       NaN  COVID19          MODERNA  \n",
       "4       NaN  COVID19          MODERNA  "
      ]
     },
     "execution_count": 29,
     "metadata": {},
     "output_type": "execute_result"
    }
   ],
   "source": [
    "VAX19X.head(5)"
   ]
  },
  {
   "cell_type": "code",
   "execution_count": 30,
   "id": "f1d39acf",
   "metadata": {},
   "outputs": [
    {
     "data": {
      "text/plain": [
       "(33796, 12)"
      ]
     },
     "execution_count": 30,
     "metadata": {},
     "output_type": "execute_result"
    }
   ],
   "source": [
    "VAX19X.shape"
   ]
  },
  {
   "cell_type": "code",
   "execution_count": 31,
   "id": "36181e48",
   "metadata": {},
   "outputs": [
    {
     "data": {
      "text/plain": [
       "Index(['VAERS_ID', 'STATE', 'CAGE_YR', 'SEX', 'DIED', 'DATEDIED', 'VAX_DATE',\n",
       "       'ER_VISIT', 'L_THREAT', 'HOSPDAYS', 'VAX_TYPE', 'VAX_MANU'],\n",
       "      dtype='object')"
      ]
     },
     "execution_count": 31,
     "metadata": {},
     "output_type": "execute_result"
    }
   ],
   "source": [
    "VAX19X.columns"
   ]
  },
  {
   "cell_type": "code",
   "execution_count": 32,
   "id": "fe962afd",
   "metadata": {},
   "outputs": [
    {
     "name": "stdout",
     "output_type": "stream",
     "text": [
      "<class 'pandas.core.frame.DataFrame'>\n",
      "Int64Index: 33796 entries, 0 to 34629\n",
      "Data columns (total 12 columns):\n",
      " #   Column    Non-Null Count  Dtype  \n",
      "---  ------    --------------  -----  \n",
      " 0   VAERS_ID  33796 non-null  int64  \n",
      " 1   STATE     28298 non-null  object \n",
      " 2   CAGE_YR   26646 non-null  float64\n",
      " 3   SEX       33796 non-null  object \n",
      " 4   DIED      1904 non-null   object \n",
      " 5   DATEDIED  1758 non-null   object \n",
      " 6   VAX_DATE  32404 non-null  object \n",
      " 7   ER_VISIT  11 non-null     object \n",
      " 8   L_THREAT  1244 non-null   object \n",
      " 9   HOSPDAYS  2824 non-null   float64\n",
      " 10  VAX_TYPE  33796 non-null  object \n",
      " 11  VAX_MANU  33796 non-null  object \n",
      "dtypes: float64(2), int64(1), object(9)\n",
      "memory usage: 3.4+ MB\n"
     ]
    }
   ],
   "source": [
    "VAX19X.info()"
   ]
  },
  {
   "cell_type": "code",
   "execution_count": 33,
   "id": "1921d37c",
   "metadata": {},
   "outputs": [
    {
     "data": {
      "text/html": [
       "<div>\n",
       "<style scoped>\n",
       "    .dataframe tbody tr th:only-of-type {\n",
       "        vertical-align: middle;\n",
       "    }\n",
       "\n",
       "    .dataframe tbody tr th {\n",
       "        vertical-align: top;\n",
       "    }\n",
       "\n",
       "    .dataframe thead th {\n",
       "        text-align: right;\n",
       "    }\n",
       "</style>\n",
       "<table border=\"1\" class=\"dataframe\">\n",
       "  <thead>\n",
       "    <tr style=\"text-align: right;\">\n",
       "      <th></th>\n",
       "      <th>VAERS_ID</th>\n",
       "      <th>CAGE_YR</th>\n",
       "      <th>HOSPDAYS</th>\n",
       "    </tr>\n",
       "  </thead>\n",
       "  <tbody>\n",
       "    <tr>\n",
       "      <th>count</th>\n",
       "      <td>3.379600e+04</td>\n",
       "      <td>26646.000000</td>\n",
       "      <td>2824.000000</td>\n",
       "    </tr>\n",
       "    <tr>\n",
       "      <th>mean</th>\n",
       "      <td>9.814935e+05</td>\n",
       "      <td>51.133341</td>\n",
       "      <td>3.734419</td>\n",
       "    </tr>\n",
       "    <tr>\n",
       "      <th>std</th>\n",
       "      <td>6.216630e+04</td>\n",
       "      <td>18.568752</td>\n",
       "      <td>3.867392</td>\n",
       "    </tr>\n",
       "    <tr>\n",
       "      <th>min</th>\n",
       "      <td>9.166000e+05</td>\n",
       "      <td>0.000000</td>\n",
       "      <td>1.000000</td>\n",
       "    </tr>\n",
       "    <tr>\n",
       "      <th>25%</th>\n",
       "      <td>9.264658e+05</td>\n",
       "      <td>36.000000</td>\n",
       "      <td>1.000000</td>\n",
       "    </tr>\n",
       "    <tr>\n",
       "      <th>50%</th>\n",
       "      <td>9.467565e+05</td>\n",
       "      <td>49.000000</td>\n",
       "      <td>3.000000</td>\n",
       "    </tr>\n",
       "    <tr>\n",
       "      <th>75%</th>\n",
       "      <td>1.047135e+06</td>\n",
       "      <td>65.000000</td>\n",
       "      <td>5.000000</td>\n",
       "    </tr>\n",
       "    <tr>\n",
       "      <th>max</th>\n",
       "      <td>1.115348e+06</td>\n",
       "      <td>106.000000</td>\n",
       "      <td>39.000000</td>\n",
       "    </tr>\n",
       "  </tbody>\n",
       "</table>\n",
       "</div>"
      ],
      "text/plain": [
       "           VAERS_ID       CAGE_YR     HOSPDAYS\n",
       "count  3.379600e+04  26646.000000  2824.000000\n",
       "mean   9.814935e+05     51.133341     3.734419\n",
       "std    6.216630e+04     18.568752     3.867392\n",
       "min    9.166000e+05      0.000000     1.000000\n",
       "25%    9.264658e+05     36.000000     1.000000\n",
       "50%    9.467565e+05     49.000000     3.000000\n",
       "75%    1.047135e+06     65.000000     5.000000\n",
       "max    1.115348e+06    106.000000    39.000000"
      ]
     },
     "execution_count": 33,
     "metadata": {},
     "output_type": "execute_result"
    }
   ],
   "source": [
    "# describtive statistics for numeric variables\n",
    "\n",
    "VAX19X.describe()"
   ]
  },
  {
   "cell_type": "code",
   "execution_count": 34,
   "id": "7bc14a25",
   "metadata": {},
   "outputs": [
    {
     "data": {
      "text/plain": [
       "VAERS_ID    False\n",
       "STATE        True\n",
       "CAGE_YR      True\n",
       "SEX         False\n",
       "DIED         True\n",
       "DATEDIED     True\n",
       "VAX_DATE     True\n",
       "ER_VISIT     True\n",
       "L_THREAT     True\n",
       "HOSPDAYS     True\n",
       "VAX_TYPE    False\n",
       "VAX_MANU    False\n",
       "dtype: bool"
      ]
     },
     "execution_count": 34,
     "metadata": {},
     "output_type": "execute_result"
    }
   ],
   "source": [
    "#explore missing values\n",
    "\n",
    "VAX19X.isna().any() "
   ]
  },
  {
   "cell_type": "code",
   "execution_count": 35,
   "id": "c7eadf40",
   "metadata": {
    "scrolled": true
   },
   "outputs": [
    {
     "data": {
      "text/plain": [
       "VAERS_ID        0\n",
       "STATE        5498\n",
       "CAGE_YR      7150\n",
       "SEX             0\n",
       "DIED        31892\n",
       "DATEDIED    32038\n",
       "VAX_DATE     1392\n",
       "ER_VISIT    33785\n",
       "L_THREAT    32552\n",
       "HOSPDAYS    30972\n",
       "VAX_TYPE        0\n",
       "VAX_MANU        0\n",
       "dtype: int64"
      ]
     },
     "execution_count": 35,
     "metadata": {},
     "output_type": "execute_result"
    }
   ],
   "source": [
    "VAX19X.isnull().sum()"
   ]
  },
  {
   "cell_type": "markdown",
   "id": "d0a07b75",
   "metadata": {},
   "source": [
    "# Note\n",
    "Nan values in the following columns  :\n",
    "     ['DIED', 'DATEDIED',  'ER_VISIT', 'L_THREAT',  'HOSPDAYS', ], have a meaning as mentioned above in \"Explain columns\" section  , so it is not a missing data and no need to be cleaned\n",
    "\n",
    "\n",
    "     "
   ]
  },
  {
   "cell_type": "markdown",
   "id": "f7e1b1ac",
   "metadata": {},
   "source": [
    "##### For STATE & CAGE_YR there are many null values (5498 & 7150) need to be cleaned "
   ]
  },
  {
   "cell_type": "code",
   "execution_count": 36,
   "id": "b0aace4c",
   "metadata": {},
   "outputs": [
    {
     "data": {
      "text/html": [
       "<div>\n",
       "<style scoped>\n",
       "    .dataframe tbody tr th:only-of-type {\n",
       "        vertical-align: middle;\n",
       "    }\n",
       "\n",
       "    .dataframe tbody tr th {\n",
       "        vertical-align: top;\n",
       "    }\n",
       "\n",
       "    .dataframe thead th {\n",
       "        text-align: right;\n",
       "    }\n",
       "</style>\n",
       "<table border=\"1\" class=\"dataframe\">\n",
       "  <thead>\n",
       "    <tr style=\"text-align: right;\">\n",
       "      <th></th>\n",
       "      <th>VAERS_ID</th>\n",
       "      <th>STATE</th>\n",
       "      <th>CAGE_YR</th>\n",
       "      <th>SEX</th>\n",
       "      <th>DIED</th>\n",
       "      <th>DATEDIED</th>\n",
       "      <th>VAX_DATE</th>\n",
       "      <th>ER_VISIT</th>\n",
       "      <th>L_THREAT</th>\n",
       "      <th>HOSPDAYS</th>\n",
       "      <th>VAX_TYPE</th>\n",
       "      <th>VAX_MANU</th>\n",
       "    </tr>\n",
       "  </thead>\n",
       "  <tbody>\n",
       "    <tr>\n",
       "      <th>21</th>\n",
       "      <td>916624</td>\n",
       "      <td>NaN</td>\n",
       "      <td>27.0</td>\n",
       "      <td>F</td>\n",
       "      <td>NaN</td>\n",
       "      <td>NaN</td>\n",
       "      <td>12/23/2020</td>\n",
       "      <td>NaN</td>\n",
       "      <td>NaN</td>\n",
       "      <td>NaN</td>\n",
       "      <td>COVID19</td>\n",
       "      <td>MODERNA</td>\n",
       "    </tr>\n",
       "    <tr>\n",
       "      <th>76</th>\n",
       "      <td>916681</td>\n",
       "      <td>NaN</td>\n",
       "      <td>33.0</td>\n",
       "      <td>F</td>\n",
       "      <td>NaN</td>\n",
       "      <td>NaN</td>\n",
       "      <td>12/23/2020</td>\n",
       "      <td>NaN</td>\n",
       "      <td>NaN</td>\n",
       "      <td>NaN</td>\n",
       "      <td>COVID19</td>\n",
       "      <td>MODERNA</td>\n",
       "    </tr>\n",
       "    <tr>\n",
       "      <th>89</th>\n",
       "      <td>916695</td>\n",
       "      <td>NaN</td>\n",
       "      <td>34.0</td>\n",
       "      <td>F</td>\n",
       "      <td>NaN</td>\n",
       "      <td>NaN</td>\n",
       "      <td>12/30/2020</td>\n",
       "      <td>NaN</td>\n",
       "      <td>NaN</td>\n",
       "      <td>NaN</td>\n",
       "      <td>COVID19</td>\n",
       "      <td>MODERNA</td>\n",
       "    </tr>\n",
       "    <tr>\n",
       "      <th>133</th>\n",
       "      <td>916749</td>\n",
       "      <td>NaN</td>\n",
       "      <td>33.0</td>\n",
       "      <td>M</td>\n",
       "      <td>NaN</td>\n",
       "      <td>NaN</td>\n",
       "      <td>12/30/2020</td>\n",
       "      <td>NaN</td>\n",
       "      <td>NaN</td>\n",
       "      <td>NaN</td>\n",
       "      <td>COVID19</td>\n",
       "      <td>MODERNA</td>\n",
       "    </tr>\n",
       "    <tr>\n",
       "      <th>146</th>\n",
       "      <td>916764</td>\n",
       "      <td>NaN</td>\n",
       "      <td>53.0</td>\n",
       "      <td>F</td>\n",
       "      <td>NaN</td>\n",
       "      <td>NaN</td>\n",
       "      <td>12/22/2020</td>\n",
       "      <td>NaN</td>\n",
       "      <td>NaN</td>\n",
       "      <td>NaN</td>\n",
       "      <td>COVID19</td>\n",
       "      <td>MODERNA</td>\n",
       "    </tr>\n",
       "    <tr>\n",
       "      <th>...</th>\n",
       "      <td>...</td>\n",
       "      <td>...</td>\n",
       "      <td>...</td>\n",
       "      <td>...</td>\n",
       "      <td>...</td>\n",
       "      <td>...</td>\n",
       "      <td>...</td>\n",
       "      <td>...</td>\n",
       "      <td>...</td>\n",
       "      <td>...</td>\n",
       "      <td>...</td>\n",
       "      <td>...</td>\n",
       "    </tr>\n",
       "    <tr>\n",
       "      <th>34578</th>\n",
       "      <td>1110673</td>\n",
       "      <td>NaN</td>\n",
       "      <td>83.0</td>\n",
       "      <td>M</td>\n",
       "      <td>Y</td>\n",
       "      <td>03/17/2021</td>\n",
       "      <td>01/28/2021</td>\n",
       "      <td>NaN</td>\n",
       "      <td>NaN</td>\n",
       "      <td>NaN</td>\n",
       "      <td>COVID19</td>\n",
       "      <td>PFIZER\\BIONTECH</td>\n",
       "    </tr>\n",
       "    <tr>\n",
       "      <th>34580</th>\n",
       "      <td>1110693</td>\n",
       "      <td>NaN</td>\n",
       "      <td>79.0</td>\n",
       "      <td>M</td>\n",
       "      <td>Y</td>\n",
       "      <td>03/17/2021</td>\n",
       "      <td>02/05/2021</td>\n",
       "      <td>NaN</td>\n",
       "      <td>NaN</td>\n",
       "      <td>NaN</td>\n",
       "      <td>COVID19</td>\n",
       "      <td>PFIZER\\BIONTECH</td>\n",
       "    </tr>\n",
       "    <tr>\n",
       "      <th>34583</th>\n",
       "      <td>1110712</td>\n",
       "      <td>NaN</td>\n",
       "      <td>93.0</td>\n",
       "      <td>F</td>\n",
       "      <td>Y</td>\n",
       "      <td>03/12/2021</td>\n",
       "      <td>02/27/2021</td>\n",
       "      <td>NaN</td>\n",
       "      <td>NaN</td>\n",
       "      <td>NaN</td>\n",
       "      <td>COVID19</td>\n",
       "      <td>PFIZER\\BIONTECH</td>\n",
       "    </tr>\n",
       "    <tr>\n",
       "      <th>34584</th>\n",
       "      <td>1110732</td>\n",
       "      <td>NaN</td>\n",
       "      <td>66.0</td>\n",
       "      <td>F</td>\n",
       "      <td>Y</td>\n",
       "      <td>02/08/2021</td>\n",
       "      <td>01/20/2021</td>\n",
       "      <td>NaN</td>\n",
       "      <td>NaN</td>\n",
       "      <td>NaN</td>\n",
       "      <td>COVID19</td>\n",
       "      <td>PFIZER\\BIONTECH</td>\n",
       "    </tr>\n",
       "    <tr>\n",
       "      <th>34603</th>\n",
       "      <td>1112104</td>\n",
       "      <td>NaN</td>\n",
       "      <td>90.0</td>\n",
       "      <td>F</td>\n",
       "      <td>Y</td>\n",
       "      <td>03/09/2021</td>\n",
       "      <td>02/26/2021</td>\n",
       "      <td>NaN</td>\n",
       "      <td>NaN</td>\n",
       "      <td>NaN</td>\n",
       "      <td>COVID19</td>\n",
       "      <td>MODERNA</td>\n",
       "    </tr>\n",
       "  </tbody>\n",
       "</table>\n",
       "<p>5498 rows × 12 columns</p>\n",
       "</div>"
      ],
      "text/plain": [
       "       VAERS_ID STATE  CAGE_YR SEX DIED    DATEDIED    VAX_DATE ER_VISIT  \\\n",
       "21       916624   NaN     27.0   F  NaN         NaN  12/23/2020      NaN   \n",
       "76       916681   NaN     33.0   F  NaN         NaN  12/23/2020      NaN   \n",
       "89       916695   NaN     34.0   F  NaN         NaN  12/30/2020      NaN   \n",
       "133      916749   NaN     33.0   M  NaN         NaN  12/30/2020      NaN   \n",
       "146      916764   NaN     53.0   F  NaN         NaN  12/22/2020      NaN   \n",
       "...         ...   ...      ...  ..  ...         ...         ...      ...   \n",
       "34578   1110673   NaN     83.0   M    Y  03/17/2021  01/28/2021      NaN   \n",
       "34580   1110693   NaN     79.0   M    Y  03/17/2021  02/05/2021      NaN   \n",
       "34583   1110712   NaN     93.0   F    Y  03/12/2021  02/27/2021      NaN   \n",
       "34584   1110732   NaN     66.0   F    Y  02/08/2021  01/20/2021      NaN   \n",
       "34603   1112104   NaN     90.0   F    Y  03/09/2021  02/26/2021      NaN   \n",
       "\n",
       "      L_THREAT  HOSPDAYS VAX_TYPE         VAX_MANU  \n",
       "21         NaN       NaN  COVID19          MODERNA  \n",
       "76         NaN       NaN  COVID19          MODERNA  \n",
       "89         NaN       NaN  COVID19          MODERNA  \n",
       "133        NaN       NaN  COVID19          MODERNA  \n",
       "146        NaN       NaN  COVID19          MODERNA  \n",
       "...        ...       ...      ...              ...  \n",
       "34578      NaN       NaN  COVID19  PFIZER\\BIONTECH  \n",
       "34580      NaN       NaN  COVID19  PFIZER\\BIONTECH  \n",
       "34583      NaN       NaN  COVID19  PFIZER\\BIONTECH  \n",
       "34584      NaN       NaN  COVID19  PFIZER\\BIONTECH  \n",
       "34603      NaN       NaN  COVID19          MODERNA  \n",
       "\n",
       "[5498 rows x 12 columns]"
      ]
     },
     "execution_count": 36,
     "metadata": {},
     "output_type": "execute_result"
    }
   ],
   "source": [
    "VAX19X[VAX19X['STATE'].isnull()]"
   ]
  },
  {
   "cell_type": "code",
   "execution_count": 37,
   "id": "16dcc398",
   "metadata": {},
   "outputs": [
    {
     "data": {
      "text/html": [
       "<div>\n",
       "<style scoped>\n",
       "    .dataframe tbody tr th:only-of-type {\n",
       "        vertical-align: middle;\n",
       "    }\n",
       "\n",
       "    .dataframe tbody tr th {\n",
       "        vertical-align: top;\n",
       "    }\n",
       "\n",
       "    .dataframe thead th {\n",
       "        text-align: right;\n",
       "    }\n",
       "</style>\n",
       "<table border=\"1\" class=\"dataframe\">\n",
       "  <thead>\n",
       "    <tr style=\"text-align: right;\">\n",
       "      <th></th>\n",
       "      <th>VAERS_ID</th>\n",
       "      <th>STATE</th>\n",
       "      <th>CAGE_YR</th>\n",
       "      <th>SEX</th>\n",
       "      <th>DIED</th>\n",
       "      <th>DATEDIED</th>\n",
       "      <th>VAX_DATE</th>\n",
       "      <th>ER_VISIT</th>\n",
       "      <th>L_THREAT</th>\n",
       "      <th>HOSPDAYS</th>\n",
       "      <th>VAX_TYPE</th>\n",
       "      <th>VAX_MANU</th>\n",
       "    </tr>\n",
       "  </thead>\n",
       "  <tbody>\n",
       "    <tr>\n",
       "      <th>0</th>\n",
       "      <td>916600</td>\n",
       "      <td>TX</td>\n",
       "      <td>33.0</td>\n",
       "      <td>F</td>\n",
       "      <td>NaN</td>\n",
       "      <td>NaN</td>\n",
       "      <td>12/28/2020</td>\n",
       "      <td>NaN</td>\n",
       "      <td>NaN</td>\n",
       "      <td>NaN</td>\n",
       "      <td>COVID19</td>\n",
       "      <td>MODERNA</td>\n",
       "    </tr>\n",
       "    <tr>\n",
       "      <th>1</th>\n",
       "      <td>916601</td>\n",
       "      <td>CA</td>\n",
       "      <td>73.0</td>\n",
       "      <td>F</td>\n",
       "      <td>NaN</td>\n",
       "      <td>NaN</td>\n",
       "      <td>12/31/2020</td>\n",
       "      <td>NaN</td>\n",
       "      <td>NaN</td>\n",
       "      <td>NaN</td>\n",
       "      <td>COVID19</td>\n",
       "      <td>MODERNA</td>\n",
       "    </tr>\n",
       "    <tr>\n",
       "      <th>2</th>\n",
       "      <td>916602</td>\n",
       "      <td>WA</td>\n",
       "      <td>23.0</td>\n",
       "      <td>F</td>\n",
       "      <td>NaN</td>\n",
       "      <td>NaN</td>\n",
       "      <td>12/31/2020</td>\n",
       "      <td>NaN</td>\n",
       "      <td>NaN</td>\n",
       "      <td>NaN</td>\n",
       "      <td>COVID19</td>\n",
       "      <td>PFIZER\\BIONTECH</td>\n",
       "    </tr>\n",
       "    <tr>\n",
       "      <th>3</th>\n",
       "      <td>916603</td>\n",
       "      <td>WA</td>\n",
       "      <td>58.0</td>\n",
       "      <td>F</td>\n",
       "      <td>NaN</td>\n",
       "      <td>NaN</td>\n",
       "      <td>12/23/2020</td>\n",
       "      <td>NaN</td>\n",
       "      <td>NaN</td>\n",
       "      <td>NaN</td>\n",
       "      <td>COVID19</td>\n",
       "      <td>MODERNA</td>\n",
       "    </tr>\n",
       "    <tr>\n",
       "      <th>4</th>\n",
       "      <td>916604</td>\n",
       "      <td>TX</td>\n",
       "      <td>47.0</td>\n",
       "      <td>F</td>\n",
       "      <td>NaN</td>\n",
       "      <td>NaN</td>\n",
       "      <td>12/22/2020</td>\n",
       "      <td>NaN</td>\n",
       "      <td>NaN</td>\n",
       "      <td>NaN</td>\n",
       "      <td>COVID19</td>\n",
       "      <td>MODERNA</td>\n",
       "    </tr>\n",
       "    <tr>\n",
       "      <th>...</th>\n",
       "      <td>...</td>\n",
       "      <td>...</td>\n",
       "      <td>...</td>\n",
       "      <td>...</td>\n",
       "      <td>...</td>\n",
       "      <td>...</td>\n",
       "      <td>...</td>\n",
       "      <td>...</td>\n",
       "      <td>...</td>\n",
       "      <td>...</td>\n",
       "      <td>...</td>\n",
       "      <td>...</td>\n",
       "    </tr>\n",
       "    <tr>\n",
       "      <th>34625</th>\n",
       "      <td>1113917</td>\n",
       "      <td>FL</td>\n",
       "      <td>87.0</td>\n",
       "      <td>F</td>\n",
       "      <td>NaN</td>\n",
       "      <td>NaN</td>\n",
       "      <td>01/13/2021</td>\n",
       "      <td>NaN</td>\n",
       "      <td>NaN</td>\n",
       "      <td>NaN</td>\n",
       "      <td>COVID19</td>\n",
       "      <td>MODERNA</td>\n",
       "    </tr>\n",
       "    <tr>\n",
       "      <th>34626</th>\n",
       "      <td>1113920</td>\n",
       "      <td>PA</td>\n",
       "      <td>NaN</td>\n",
       "      <td>F</td>\n",
       "      <td>NaN</td>\n",
       "      <td>NaN</td>\n",
       "      <td>02/09/2021</td>\n",
       "      <td>NaN</td>\n",
       "      <td>NaN</td>\n",
       "      <td>NaN</td>\n",
       "      <td>COVID19</td>\n",
       "      <td>PFIZER\\BIONTECH</td>\n",
       "    </tr>\n",
       "    <tr>\n",
       "      <th>34627</th>\n",
       "      <td>1113963</td>\n",
       "      <td>MS</td>\n",
       "      <td>NaN</td>\n",
       "      <td>F</td>\n",
       "      <td>Y</td>\n",
       "      <td>02/15/2021</td>\n",
       "      <td>02/05/2021</td>\n",
       "      <td>NaN</td>\n",
       "      <td>NaN</td>\n",
       "      <td>NaN</td>\n",
       "      <td>COVID19</td>\n",
       "      <td>PFIZER\\BIONTECH</td>\n",
       "    </tr>\n",
       "    <tr>\n",
       "      <th>34628</th>\n",
       "      <td>1115045</td>\n",
       "      <td>AZ</td>\n",
       "      <td>NaN</td>\n",
       "      <td>M</td>\n",
       "      <td>Y</td>\n",
       "      <td>03/02/2021</td>\n",
       "      <td>03/02/2021</td>\n",
       "      <td>NaN</td>\n",
       "      <td>NaN</td>\n",
       "      <td>NaN</td>\n",
       "      <td>COVID19</td>\n",
       "      <td>MODERNA</td>\n",
       "    </tr>\n",
       "    <tr>\n",
       "      <th>34629</th>\n",
       "      <td>1115348</td>\n",
       "      <td>NC</td>\n",
       "      <td>85.0</td>\n",
       "      <td>F</td>\n",
       "      <td>Y</td>\n",
       "      <td>03/06/2021</td>\n",
       "      <td>03/05/2021</td>\n",
       "      <td>NaN</td>\n",
       "      <td>NaN</td>\n",
       "      <td>NaN</td>\n",
       "      <td>COVID19</td>\n",
       "      <td>MODERNA</td>\n",
       "    </tr>\n",
       "  </tbody>\n",
       "</table>\n",
       "<p>28298 rows × 12 columns</p>\n",
       "</div>"
      ],
      "text/plain": [
       "       VAERS_ID STATE  CAGE_YR SEX DIED    DATEDIED    VAX_DATE ER_VISIT  \\\n",
       "0        916600    TX     33.0   F  NaN         NaN  12/28/2020      NaN   \n",
       "1        916601    CA     73.0   F  NaN         NaN  12/31/2020      NaN   \n",
       "2        916602    WA     23.0   F  NaN         NaN  12/31/2020      NaN   \n",
       "3        916603    WA     58.0   F  NaN         NaN  12/23/2020      NaN   \n",
       "4        916604    TX     47.0   F  NaN         NaN  12/22/2020      NaN   \n",
       "...         ...   ...      ...  ..  ...         ...         ...      ...   \n",
       "34625   1113917    FL     87.0   F  NaN         NaN  01/13/2021      NaN   \n",
       "34626   1113920    PA      NaN   F  NaN         NaN  02/09/2021      NaN   \n",
       "34627   1113963    MS      NaN   F    Y  02/15/2021  02/05/2021      NaN   \n",
       "34628   1115045    AZ      NaN   M    Y  03/02/2021  03/02/2021      NaN   \n",
       "34629   1115348    NC     85.0   F    Y  03/06/2021  03/05/2021      NaN   \n",
       "\n",
       "      L_THREAT  HOSPDAYS VAX_TYPE         VAX_MANU  \n",
       "0          NaN       NaN  COVID19          MODERNA  \n",
       "1          NaN       NaN  COVID19          MODERNA  \n",
       "2          NaN       NaN  COVID19  PFIZER\\BIONTECH  \n",
       "3          NaN       NaN  COVID19          MODERNA  \n",
       "4          NaN       NaN  COVID19          MODERNA  \n",
       "...        ...       ...      ...              ...  \n",
       "34625      NaN       NaN  COVID19          MODERNA  \n",
       "34626      NaN       NaN  COVID19  PFIZER\\BIONTECH  \n",
       "34627      NaN       NaN  COVID19  PFIZER\\BIONTECH  \n",
       "34628      NaN       NaN  COVID19          MODERNA  \n",
       "34629      NaN       NaN  COVID19          MODERNA  \n",
       "\n",
       "[28298 rows x 12 columns]"
      ]
     },
     "execution_count": 37,
     "metadata": {},
     "output_type": "execute_result"
    }
   ],
   "source": [
    "VAX19X[VAX19X['STATE'].notnull()]"
   ]
  },
  {
   "cell_type": "code",
   "execution_count": 38,
   "id": "1a81013f",
   "metadata": {},
   "outputs": [
    {
     "data": {
      "text/html": [
       "<div>\n",
       "<style scoped>\n",
       "    .dataframe tbody tr th:only-of-type {\n",
       "        vertical-align: middle;\n",
       "    }\n",
       "\n",
       "    .dataframe tbody tr th {\n",
       "        vertical-align: top;\n",
       "    }\n",
       "\n",
       "    .dataframe thead th {\n",
       "        text-align: right;\n",
       "    }\n",
       "</style>\n",
       "<table border=\"1\" class=\"dataframe\">\n",
       "  <thead>\n",
       "    <tr style=\"text-align: right;\">\n",
       "      <th></th>\n",
       "      <th>VAERS_ID</th>\n",
       "      <th>STATE</th>\n",
       "      <th>CAGE_YR</th>\n",
       "      <th>SEX</th>\n",
       "      <th>DIED</th>\n",
       "      <th>DATEDIED</th>\n",
       "      <th>VAX_DATE</th>\n",
       "      <th>ER_VISIT</th>\n",
       "      <th>L_THREAT</th>\n",
       "      <th>HOSPDAYS</th>\n",
       "      <th>VAX_TYPE</th>\n",
       "      <th>VAX_MANU</th>\n",
       "    </tr>\n",
       "  </thead>\n",
       "  <tbody>\n",
       "    <tr>\n",
       "      <th>0</th>\n",
       "      <td>916600</td>\n",
       "      <td>TX</td>\n",
       "      <td>33.0</td>\n",
       "      <td>F</td>\n",
       "      <td>NaN</td>\n",
       "      <td>NaN</td>\n",
       "      <td>12/28/2020</td>\n",
       "      <td>NaN</td>\n",
       "      <td>NaN</td>\n",
       "      <td>NaN</td>\n",
       "      <td>COVID19</td>\n",
       "      <td>MODERNA</td>\n",
       "    </tr>\n",
       "    <tr>\n",
       "      <th>1</th>\n",
       "      <td>916601</td>\n",
       "      <td>CA</td>\n",
       "      <td>73.0</td>\n",
       "      <td>F</td>\n",
       "      <td>NaN</td>\n",
       "      <td>NaN</td>\n",
       "      <td>12/31/2020</td>\n",
       "      <td>NaN</td>\n",
       "      <td>NaN</td>\n",
       "      <td>NaN</td>\n",
       "      <td>COVID19</td>\n",
       "      <td>MODERNA</td>\n",
       "    </tr>\n",
       "    <tr>\n",
       "      <th>2</th>\n",
       "      <td>916602</td>\n",
       "      <td>WA</td>\n",
       "      <td>23.0</td>\n",
       "      <td>F</td>\n",
       "      <td>NaN</td>\n",
       "      <td>NaN</td>\n",
       "      <td>12/31/2020</td>\n",
       "      <td>NaN</td>\n",
       "      <td>NaN</td>\n",
       "      <td>NaN</td>\n",
       "      <td>COVID19</td>\n",
       "      <td>PFIZER\\BIONTECH</td>\n",
       "    </tr>\n",
       "    <tr>\n",
       "      <th>3</th>\n",
       "      <td>916603</td>\n",
       "      <td>WA</td>\n",
       "      <td>58.0</td>\n",
       "      <td>F</td>\n",
       "      <td>NaN</td>\n",
       "      <td>NaN</td>\n",
       "      <td>12/23/2020</td>\n",
       "      <td>NaN</td>\n",
       "      <td>NaN</td>\n",
       "      <td>NaN</td>\n",
       "      <td>COVID19</td>\n",
       "      <td>MODERNA</td>\n",
       "    </tr>\n",
       "    <tr>\n",
       "      <th>4</th>\n",
       "      <td>916604</td>\n",
       "      <td>TX</td>\n",
       "      <td>47.0</td>\n",
       "      <td>F</td>\n",
       "      <td>NaN</td>\n",
       "      <td>NaN</td>\n",
       "      <td>12/22/2020</td>\n",
       "      <td>NaN</td>\n",
       "      <td>NaN</td>\n",
       "      <td>NaN</td>\n",
       "      <td>COVID19</td>\n",
       "      <td>MODERNA</td>\n",
       "    </tr>\n",
       "    <tr>\n",
       "      <th>...</th>\n",
       "      <td>...</td>\n",
       "      <td>...</td>\n",
       "      <td>...</td>\n",
       "      <td>...</td>\n",
       "      <td>...</td>\n",
       "      <td>...</td>\n",
       "      <td>...</td>\n",
       "      <td>...</td>\n",
       "      <td>...</td>\n",
       "      <td>...</td>\n",
       "      <td>...</td>\n",
       "      <td>...</td>\n",
       "    </tr>\n",
       "    <tr>\n",
       "      <th>34622</th>\n",
       "      <td>1113563</td>\n",
       "      <td>HI</td>\n",
       "      <td>70.0</td>\n",
       "      <td>M</td>\n",
       "      <td>Y</td>\n",
       "      <td>03/06/2021</td>\n",
       "      <td>02/24/2021</td>\n",
       "      <td>NaN</td>\n",
       "      <td>NaN</td>\n",
       "      <td>2.0</td>\n",
       "      <td>COVID19</td>\n",
       "      <td>MODERNA</td>\n",
       "    </tr>\n",
       "    <tr>\n",
       "      <th>34623</th>\n",
       "      <td>1113915</td>\n",
       "      <td>LA</td>\n",
       "      <td>77.0</td>\n",
       "      <td>F</td>\n",
       "      <td>NaN</td>\n",
       "      <td>NaN</td>\n",
       "      <td>01/25/2021</td>\n",
       "      <td>NaN</td>\n",
       "      <td>NaN</td>\n",
       "      <td>NaN</td>\n",
       "      <td>COVID19</td>\n",
       "      <td>MODERNA</td>\n",
       "    </tr>\n",
       "    <tr>\n",
       "      <th>34624</th>\n",
       "      <td>1113916</td>\n",
       "      <td>NY</td>\n",
       "      <td>85.0</td>\n",
       "      <td>M</td>\n",
       "      <td>NaN</td>\n",
       "      <td>NaN</td>\n",
       "      <td>02/01/2021</td>\n",
       "      <td>NaN</td>\n",
       "      <td>NaN</td>\n",
       "      <td>3.0</td>\n",
       "      <td>COVID19</td>\n",
       "      <td>MODERNA</td>\n",
       "    </tr>\n",
       "    <tr>\n",
       "      <th>34625</th>\n",
       "      <td>1113917</td>\n",
       "      <td>FL</td>\n",
       "      <td>87.0</td>\n",
       "      <td>F</td>\n",
       "      <td>NaN</td>\n",
       "      <td>NaN</td>\n",
       "      <td>01/13/2021</td>\n",
       "      <td>NaN</td>\n",
       "      <td>NaN</td>\n",
       "      <td>NaN</td>\n",
       "      <td>COVID19</td>\n",
       "      <td>MODERNA</td>\n",
       "    </tr>\n",
       "    <tr>\n",
       "      <th>34629</th>\n",
       "      <td>1115348</td>\n",
       "      <td>NC</td>\n",
       "      <td>85.0</td>\n",
       "      <td>F</td>\n",
       "      <td>Y</td>\n",
       "      <td>03/06/2021</td>\n",
       "      <td>03/05/2021</td>\n",
       "      <td>NaN</td>\n",
       "      <td>NaN</td>\n",
       "      <td>NaN</td>\n",
       "      <td>COVID19</td>\n",
       "      <td>MODERNA</td>\n",
       "    </tr>\n",
       "  </tbody>\n",
       "</table>\n",
       "<p>22971 rows × 12 columns</p>\n",
       "</div>"
      ],
      "text/plain": [
       "       VAERS_ID STATE  CAGE_YR SEX DIED    DATEDIED    VAX_DATE ER_VISIT  \\\n",
       "0        916600    TX     33.0   F  NaN         NaN  12/28/2020      NaN   \n",
       "1        916601    CA     73.0   F  NaN         NaN  12/31/2020      NaN   \n",
       "2        916602    WA     23.0   F  NaN         NaN  12/31/2020      NaN   \n",
       "3        916603    WA     58.0   F  NaN         NaN  12/23/2020      NaN   \n",
       "4        916604    TX     47.0   F  NaN         NaN  12/22/2020      NaN   \n",
       "...         ...   ...      ...  ..  ...         ...         ...      ...   \n",
       "34622   1113563    HI     70.0   M    Y  03/06/2021  02/24/2021      NaN   \n",
       "34623   1113915    LA     77.0   F  NaN         NaN  01/25/2021      NaN   \n",
       "34624   1113916    NY     85.0   M  NaN         NaN  02/01/2021      NaN   \n",
       "34625   1113917    FL     87.0   F  NaN         NaN  01/13/2021      NaN   \n",
       "34629   1115348    NC     85.0   F    Y  03/06/2021  03/05/2021      NaN   \n",
       "\n",
       "      L_THREAT  HOSPDAYS VAX_TYPE         VAX_MANU  \n",
       "0          NaN       NaN  COVID19          MODERNA  \n",
       "1          NaN       NaN  COVID19          MODERNA  \n",
       "2          NaN       NaN  COVID19  PFIZER\\BIONTECH  \n",
       "3          NaN       NaN  COVID19          MODERNA  \n",
       "4          NaN       NaN  COVID19          MODERNA  \n",
       "...        ...       ...      ...              ...  \n",
       "34622      NaN       2.0  COVID19          MODERNA  \n",
       "34623      NaN       NaN  COVID19          MODERNA  \n",
       "34624      NaN       3.0  COVID19          MODERNA  \n",
       "34625      NaN       NaN  COVID19          MODERNA  \n",
       "34629      NaN       NaN  COVID19          MODERNA  \n",
       "\n",
       "[22971 rows x 12 columns]"
      ]
     },
     "execution_count": 38,
     "metadata": {},
     "output_type": "execute_result"
    }
   ],
   "source": [
    "#let's drop all rows that have null values in STATE & CAGE_YR\n",
    "\n",
    "VAXC= VAX19X.dropna(subset =['STATE' , 'CAGE_YR'])\n",
    "VAXC"
   ]
  },
  {
   "cell_type": "code",
   "execution_count": 39,
   "id": "550017d8",
   "metadata": {
    "scrolled": true
   },
   "outputs": [
    {
     "data": {
      "text/plain": [
       "VAERS_ID        0\n",
       "STATE           0\n",
       "CAGE_YR         0\n",
       "SEX             0\n",
       "DIED        21490\n",
       "DATEDIED    21559\n",
       "VAX_DATE        0\n",
       "ER_VISIT    22961\n",
       "L_THREAT    21907\n",
       "HOSPDAYS    20526\n",
       "VAX_TYPE        0\n",
       "VAX_MANU        0\n",
       "dtype: int64"
      ]
     },
     "execution_count": 39,
     "metadata": {},
     "output_type": "execute_result"
    }
   ],
   "source": [
    "VAXC.isnull().sum()"
   ]
  },
  {
   "cell_type": "code",
   "execution_count": 40,
   "id": "15fbe791",
   "metadata": {},
   "outputs": [
    {
     "data": {
      "text/plain": [
       "(22971, 12)"
      ]
     },
     "execution_count": 40,
     "metadata": {},
     "output_type": "execute_result"
    }
   ],
   "source": [
    "VAXC.shape"
   ]
  },
  {
   "cell_type": "code",
   "execution_count": 41,
   "id": "59c883bc",
   "metadata": {
    "scrolled": true
   },
   "outputs": [
    {
     "data": {
      "text/plain": [
       "VAERS_ID    22971\n",
       "STATE          58\n",
       "CAGE_YR        99\n",
       "SEX             3\n",
       "DIED            1\n",
       "DATEDIED       86\n",
       "VAX_DATE      157\n",
       "ER_VISIT        1\n",
       "L_THREAT        1\n",
       "HOSPDAYS       33\n",
       "VAX_TYPE        1\n",
       "VAX_MANU        4\n",
       "dtype: int64"
      ]
     },
     "execution_count": 41,
     "metadata": {},
     "output_type": "execute_result"
    }
   ],
   "source": [
    "\n",
    "\n",
    "VAXC.nunique()"
   ]
  },
  {
   "cell_type": "code",
   "execution_count": 42,
   "id": "b5c0b2da",
   "metadata": {},
   "outputs": [
    {
     "data": {
      "text/plain": [
       "0"
      ]
     },
     "execution_count": 42,
     "metadata": {},
     "output_type": "execute_result"
    }
   ],
   "source": [
    "#final check of null values\n",
    "\n",
    "VAXC['STATE'].isnull().sum()"
   ]
  },
  {
   "cell_type": "code",
   "execution_count": 43,
   "id": "e7b90a0e",
   "metadata": {},
   "outputs": [
    {
     "data": {
      "text/plain": [
       "0"
      ]
     },
     "execution_count": 43,
     "metadata": {},
     "output_type": "execute_result"
    }
   ],
   "source": [
    "VAXC['CAGE_YR'].isnull().sum()"
   ]
  },
  {
   "cell_type": "code",
   "execution_count": 44,
   "id": "dc1f00f5",
   "metadata": {},
   "outputs": [
    {
     "data": {
      "text/plain": [
       "0"
      ]
     },
     "execution_count": 44,
     "metadata": {},
     "output_type": "execute_result"
    }
   ],
   "source": [
    "VAXC['SEX'].isnull().sum()"
   ]
  },
  {
   "cell_type": "code",
   "execution_count": 45,
   "id": "dece401a",
   "metadata": {},
   "outputs": [
    {
     "data": {
      "text/plain": [
       "0"
      ]
     },
     "execution_count": 45,
     "metadata": {},
     "output_type": "execute_result"
    }
   ],
   "source": [
    "VAXC['VAX_TYPE'].isnull().sum()"
   ]
  },
  {
   "cell_type": "code",
   "execution_count": 46,
   "id": "59f76a28",
   "metadata": {},
   "outputs": [
    {
     "data": {
      "text/plain": [
       "0"
      ]
     },
     "execution_count": 46,
     "metadata": {},
     "output_type": "execute_result"
    }
   ],
   "source": [
    "VAXC['VAX_MANU'].isnull().sum()"
   ]
  },
  {
   "cell_type": "markdown",
   "id": "1b8fb5c9",
   "metadata": {},
   "source": [
    "### Now My Data is Tidy and Ready for Exploration "
   ]
  },
  {
   "cell_type": "markdown",
   "id": "d94afe7e",
   "metadata": {},
   "source": [
    "#  The structure of  dataset\n",
    "\n",
    "Data is mixed between categorical & numeric variables with original size after merge 34630 rows & 42 columns , after discovering and cleaning size become  22971 rows & 12 cloumns only \n",
    "\n",
    "# The main feature(s) of interest & features in the dataset that i think will help support my investigation\n",
    "\n",
    "the data set is about statistcs regarding vaccine receipts , in my investigation i will foucus on DIED statiscs and try to find correlatios between variables to answer the following questions\n",
    "1-does age has affect on DIED records ?\n",
    "2-does sex has affect on DIED records ?\n",
    "3-does type of vaccine has affect on DIED records ?\n",
    "\n",
    "i will focus on the following variables \n",
    "\n",
    "* STATE\n",
    "\n",
    "* CAGE_YR\n",
    "\n",
    "* SEX\n",
    "\n",
    "* DIED\n",
    "\n",
    "* L_THREAT\n",
    "\n",
    "* ER_VISIT\n",
    "\n",
    "* HOSPDAYS\n",
    "\n",
    "* VAX_MANUE\n",
    "\n"
   ]
  },
  {
   "cell_type": "markdown",
   "id": "bc08cea9",
   "metadata": {},
   "source": [
    "<a id='Uni'></a>\n",
    "\n",
    "## Univariate Exploration\n",
    "Let's start our exploration by looking at each variable individually\n",
    "\n",
    "I will look at STATE, CAGE_YR , DIED , SEX , VAX_MANU , ER_VISIT , L_THREAT , HOSPDAYS"
   ]
  },
  {
   "cell_type": "code",
   "execution_count": 47,
   "id": "2350e634",
   "metadata": {},
   "outputs": [
    {
     "data": {
      "text/html": [
       "<div>\n",
       "<style scoped>\n",
       "    .dataframe tbody tr th:only-of-type {\n",
       "        vertical-align: middle;\n",
       "    }\n",
       "\n",
       "    .dataframe tbody tr th {\n",
       "        vertical-align: top;\n",
       "    }\n",
       "\n",
       "    .dataframe thead th {\n",
       "        text-align: right;\n",
       "    }\n",
       "</style>\n",
       "<table border=\"1\" class=\"dataframe\">\n",
       "  <thead>\n",
       "    <tr style=\"text-align: right;\">\n",
       "      <th></th>\n",
       "      <th>VAERS_ID</th>\n",
       "      <th>STATE</th>\n",
       "      <th>CAGE_YR</th>\n",
       "      <th>SEX</th>\n",
       "      <th>DIED</th>\n",
       "      <th>DATEDIED</th>\n",
       "      <th>VAX_DATE</th>\n",
       "      <th>ER_VISIT</th>\n",
       "      <th>L_THREAT</th>\n",
       "      <th>HOSPDAYS</th>\n",
       "      <th>VAX_TYPE</th>\n",
       "      <th>VAX_MANU</th>\n",
       "    </tr>\n",
       "  </thead>\n",
       "  <tbody>\n",
       "    <tr>\n",
       "      <th>0</th>\n",
       "      <td>916600</td>\n",
       "      <td>TX</td>\n",
       "      <td>33.0</td>\n",
       "      <td>F</td>\n",
       "      <td>NaN</td>\n",
       "      <td>NaN</td>\n",
       "      <td>12/28/2020</td>\n",
       "      <td>NaN</td>\n",
       "      <td>NaN</td>\n",
       "      <td>NaN</td>\n",
       "      <td>COVID19</td>\n",
       "      <td>MODERNA</td>\n",
       "    </tr>\n",
       "    <tr>\n",
       "      <th>1</th>\n",
       "      <td>916601</td>\n",
       "      <td>CA</td>\n",
       "      <td>73.0</td>\n",
       "      <td>F</td>\n",
       "      <td>NaN</td>\n",
       "      <td>NaN</td>\n",
       "      <td>12/31/2020</td>\n",
       "      <td>NaN</td>\n",
       "      <td>NaN</td>\n",
       "      <td>NaN</td>\n",
       "      <td>COVID19</td>\n",
       "      <td>MODERNA</td>\n",
       "    </tr>\n",
       "    <tr>\n",
       "      <th>2</th>\n",
       "      <td>916602</td>\n",
       "      <td>WA</td>\n",
       "      <td>23.0</td>\n",
       "      <td>F</td>\n",
       "      <td>NaN</td>\n",
       "      <td>NaN</td>\n",
       "      <td>12/31/2020</td>\n",
       "      <td>NaN</td>\n",
       "      <td>NaN</td>\n",
       "      <td>NaN</td>\n",
       "      <td>COVID19</td>\n",
       "      <td>PFIZER\\BIONTECH</td>\n",
       "    </tr>\n",
       "  </tbody>\n",
       "</table>\n",
       "</div>"
      ],
      "text/plain": [
       "   VAERS_ID STATE  CAGE_YR SEX DIED DATEDIED    VAX_DATE ER_VISIT L_THREAT  \\\n",
       "0    916600    TX     33.0   F  NaN      NaN  12/28/2020      NaN      NaN   \n",
       "1    916601    CA     73.0   F  NaN      NaN  12/31/2020      NaN      NaN   \n",
       "2    916602    WA     23.0   F  NaN      NaN  12/31/2020      NaN      NaN   \n",
       "\n",
       "   HOSPDAYS VAX_TYPE         VAX_MANU  \n",
       "0       NaN  COVID19          MODERNA  \n",
       "1       NaN  COVID19          MODERNA  \n",
       "2       NaN  COVID19  PFIZER\\BIONTECH  "
      ]
     },
     "execution_count": 47,
     "metadata": {},
     "output_type": "execute_result"
    }
   ],
   "source": [
    "VAXC.head(3)"
   ]
  },
  {
   "cell_type": "markdown",
   "id": "b3a4e6e7",
   "metadata": {},
   "source": [
    "# STATE\n",
    "\n",
    "### How vaccine receipts distributed over states ?\n",
    "### Which states have the highest destiny of Vaccine receipts ?"
   ]
  },
  {
   "cell_type": "code",
   "execution_count": 48,
   "id": "0864ca0d",
   "metadata": {},
   "outputs": [
    {
     "data": {
      "text/plain": [
       "Text(0, 0.5, 'Count')"
      ]
     },
     "execution_count": 48,
     "metadata": {},
     "output_type": "execute_result"
    },
    {
     "data": {
      "image/png": "[encoded data removed]",
      "text/plain": [
       "<Figure size 1440x576 with 1 Axes>"
      ]
     },
     "metadata": {
      "needs_background": "light"
     },
     "output_type": "display_data"
    }
   ],
   "source": [
    "#base color to use only one base color for good visual\n",
    "base_color = sb.color_palette()[0]\n",
    "\n",
    "\n",
    "plt.figure(figsize=(20,8))\n",
    "\n",
    "#plot bar chart to show vaccine receipt disribution over STATES \n",
    "sb.countplot(data=VAXC, x='STATE', color=base_color);\n",
    "\n",
    "#define title ,labels x, y  , fontsize ,fontweight\n",
    "plt.title('Distribution of vaccine receipt over states' , fontsize = 22, fontweight= 'bold')\n",
    "plt.xlabel('STATE' , fontsize = 16, fontweight= 'bold')\n",
    "plt.ylabel('Count',fontsize = 16, fontweight= \"bold\")"
   ]
  },
  {
   "cell_type": "markdown",
   "id": "6999d14d",
   "metadata": {},
   "source": [
    "### STATES need to be ordered for clear observation "
   ]
  },
  {
   "cell_type": "code",
   "execution_count": 49,
   "id": "4065cb45",
   "metadata": {},
   "outputs": [
    {
     "data": {
      "text/plain": [
       "Text(0, 0.5, 'Count')"
      ]
     },
     "execution_count": 49,
     "metadata": {},
     "output_type": "execute_result"
    },
    {
     "data": {
      "image/png": "[encoded data removed]",
      "text/plain": [
       "<Figure size 1440x576 with 1 Axes>"
      ]
     },
     "metadata": {
      "needs_background": "light"
     },
     "output_type": "display_data"
    }
   ],
   "source": [
    "#make plot in order \n",
    "\n",
    "plt.figure(figsize=(20,8))\n",
    "\n",
    "freq1 = VAXC['STATE'].value_counts()\n",
    "\n",
    "# Get the indexes of the Series\n",
    "gen_order1 = freq1.index\n",
    "\n",
    "# Plot the bar chart in the decreasing order of the frequency of the `STATE`\n",
    "sb.countplot(data=VAXC, x='STATE', color=base_color, order=gen_order1);\n",
    "plt.title('Distribution of vaccine receipt over states' , fontsize = 22, fontweight= 'bold')\n",
    "plt.xlabel('STATE' , fontsize = 16, fontweight= 'bold')\n",
    "plt.ylabel('Count',fontsize = 16, fontweight= \"bold\")"
   ]
  },
  {
   "cell_type": "markdown",
   "id": "39642fd6",
   "metadata": {},
   "source": [
    "### CA has the highest  frequent \n",
    "### DE has the lowest \n",
    "### High destiny of  vaccine receipts in our sample distributed in CA , TX, NY ,  FL , IN . IL, OH"
   ]
  },
  {
   "cell_type": "code",
   "execution_count": 50,
   "id": "11309436",
   "metadata": {},
   "outputs": [
    {
     "data": {
      "text/plain": [
       "22971"
      ]
     },
     "execution_count": 50,
     "metadata": {},
     "output_type": "execute_result"
    }
   ],
   "source": [
    "VAXC['STATE'].count()"
   ]
  },
  {
   "cell_type": "code",
   "execution_count": 51,
   "id": "42bb24c8",
   "metadata": {},
   "outputs": [
    {
     "data": {
      "text/plain": [
       "CA    2032\n",
       "TX    1498\n",
       "NY    1386\n",
       "FL    1195\n",
       "IN    1030\n",
       "IL     943\n",
       "OH     902\n",
       "PA     743\n",
       "MI     685\n",
       "MA     649\n",
       "NJ     629\n",
       "MD     599\n",
       "VA     582\n",
       "WI     546\n",
       "WA     540\n",
       "CO     537\n",
       "NC     516\n",
       "MN     500\n",
       "AZ     498\n",
       "GA     485\n",
       "MO     428\n",
       "CT     422\n",
       "KY     381\n",
       "TN     380\n",
       "IA     316\n",
       "OR     310\n",
       "OK     264\n",
       "NE     249\n",
       "KS     248\n",
       "MT     241\n",
       "LA     229\n",
       "ME     221\n",
       "AL     220\n",
       "AR     216\n",
       "UT     205\n",
       "SC     201\n",
       "WV     195\n",
       "NH     189\n",
       "NM     175\n",
       "PR     172\n",
       "NV     154\n",
       "AK     149\n",
       "ID     142\n",
       "MS     119\n",
       "HI     108\n",
       "SD     101\n",
       "VT      95\n",
       "RI      94\n",
       "ND      93\n",
       "WY      49\n",
       "DC      48\n",
       "DE      45\n",
       "GU       5\n",
       "VI       4\n",
       "AS       3\n",
       "MP       3\n",
       "XB       1\n",
       "FM       1\n",
       "Name: STATE, dtype: int64"
      ]
     },
     "execution_count": 51,
     "metadata": {},
     "output_type": "execute_result"
    }
   ],
   "source": [
    "VAXC['STATE'].value_counts()"
   ]
  },
  {
   "cell_type": "markdown",
   "id": "a9ecec7f",
   "metadata": {},
   "source": [
    "#CA & TX & NY & FL has the highest frequent "
   ]
  },
  {
   "cell_type": "code",
   "execution_count": 52,
   "id": "6251b2b6",
   "metadata": {},
   "outputs": [
    {
     "data": {
      "text/plain": [
       "6111"
      ]
     },
     "execution_count": 52,
     "metadata": {},
     "output_type": "execute_result"
    }
   ],
   "source": [
    "VAXC['STATE'].value_counts()['CA']+VAXC['STATE'].value_counts()['TX']+VAXC['STATE'].value_counts()['NY']+VAXC['STATE'].value_counts()['FL']"
   ]
  },
  {
   "cell_type": "code",
   "execution_count": 53,
   "id": "9981ede9",
   "metadata": {},
   "outputs": [
    {
     "data": {
      "text/plain": [
       "22971"
      ]
     },
     "execution_count": 53,
     "metadata": {},
     "output_type": "execute_result"
    }
   ],
   "source": [
    "VAXC['STATE'].count()"
   ]
  },
  {
   "cell_type": "code",
   "execution_count": 54,
   "id": "85369d2a",
   "metadata": {},
   "outputs": [
    {
     "data": {
      "text/plain": [
       "0.2660310826694528"
      ]
     },
     "execution_count": 54,
     "metadata": {},
     "output_type": "execute_result"
    }
   ],
   "source": [
    "#percentage of most frequent columns (['CA' , 'TX' , 'NY' , 'FL'])\n",
    "\n",
    "6111/22971"
   ]
  },
  {
   "cell_type": "markdown",
   "id": "f654a1d6",
   "metadata": {},
   "source": [
    "# 26.6% of vaccine receipt @#CA & TX & NY & FL "
   ]
  },
  {
   "cell_type": "markdown",
   "id": "bed23252",
   "metadata": {},
   "source": [
    "# CAGE_YR\n",
    "\n",
    "### Discover the range of ages of vaccine receipts\n"
   ]
  },
  {
   "cell_type": "markdown",
   "id": "3ebbef51",
   "metadata": {},
   "source": [
    "#numeric data,  so i will use histogram "
   ]
  },
  {
   "cell_type": "code",
   "execution_count": 55,
   "id": "ddb8dcf6",
   "metadata": {},
   "outputs": [
    {
     "data": {
      "text/plain": [
       "Text(0, 0.5, 'Count')"
      ]
     },
     "execution_count": 55,
     "metadata": {},
     "output_type": "execute_result"
    },
    {
     "data": {
      "image/png": "[encoded data removed]",
      "text/plain": [
       "<Figure size 432x288 with 1 Axes>"
      ]
     },
     "metadata": {
      "needs_background": "light"
     },
     "output_type": "display_data"
    }
   ],
   "source": [
    "#Plot histogram to show ages range\n",
    "\n",
    "plt.hist(VAXC['CAGE_YR']);\n",
    "\n",
    "\n",
    "plt.title('Distribution of AGE of vaccine receipt ' , fontsize = 13, fontweight= 'bold')\n",
    "plt.xlabel('CAGE_YR' , fontsize = 12, fontweight= 'bold')\n",
    "plt.ylabel('Count',fontsize = 12, fontweight= \"bold\")\n"
   ]
  },
  {
   "cell_type": "markdown",
   "id": "ff26a0d2",
   "metadata": {},
   "source": [
    "#as we see , the distribution is right skewed\n",
    "* Ages range between 0 to 100 \n",
    "* High denisty between 40 to 60"
   ]
  },
  {
   "cell_type": "code",
   "execution_count": 56,
   "id": "61dd6979",
   "metadata": {},
   "outputs": [
    {
     "data": {
      "text/plain": [
       "count    22971.000000\n",
       "mean        51.353881\n",
       "std         18.712513\n",
       "min          0.000000\n",
       "25%         36.000000\n",
       "50%         50.000000\n",
       "75%         65.000000\n",
       "max        106.000000\n",
       "Name: CAGE_YR, dtype: float64"
      ]
     },
     "execution_count": 56,
     "metadata": {},
     "output_type": "execute_result"
    }
   ],
   "source": [
    "#discover mean , min , max \n",
    "\n",
    "VAXC['CAGE_YR'].describe()"
   ]
  },
  {
   "cell_type": "code",
   "execution_count": 57,
   "id": "917ac9fc",
   "metadata": {},
   "outputs": [
    {
     "data": {
      "text/html": [
       "<div>\n",
       "<style scoped>\n",
       "    .dataframe tbody tr th:only-of-type {\n",
       "        vertical-align: middle;\n",
       "    }\n",
       "\n",
       "    .dataframe tbody tr th {\n",
       "        vertical-align: top;\n",
       "    }\n",
       "\n",
       "    .dataframe thead th {\n",
       "        text-align: right;\n",
       "    }\n",
       "</style>\n",
       "<table border=\"1\" class=\"dataframe\">\n",
       "  <thead>\n",
       "    <tr style=\"text-align: right;\">\n",
       "      <th></th>\n",
       "      <th>VAERS_ID</th>\n",
       "      <th>STATE</th>\n",
       "      <th>CAGE_YR</th>\n",
       "      <th>SEX</th>\n",
       "      <th>DIED</th>\n",
       "      <th>DATEDIED</th>\n",
       "      <th>VAX_DATE</th>\n",
       "      <th>ER_VISIT</th>\n",
       "      <th>L_THREAT</th>\n",
       "      <th>HOSPDAYS</th>\n",
       "      <th>VAX_TYPE</th>\n",
       "      <th>VAX_MANU</th>\n",
       "    </tr>\n",
       "  </thead>\n",
       "  <tbody>\n",
       "    <tr>\n",
       "      <th>31158</th>\n",
       "      <td>1073361</td>\n",
       "      <td>IL</td>\n",
       "      <td>106.0</td>\n",
       "      <td>F</td>\n",
       "      <td>Y</td>\n",
       "      <td>02/19/2021</td>\n",
       "      <td>01/25/2021</td>\n",
       "      <td>NaN</td>\n",
       "      <td>NaN</td>\n",
       "      <td>NaN</td>\n",
       "      <td>COVID19</td>\n",
       "      <td>MODERNA</td>\n",
       "    </tr>\n",
       "    <tr>\n",
       "      <th>19874</th>\n",
       "      <td>975223</td>\n",
       "      <td>TX</td>\n",
       "      <td>105.0</td>\n",
       "      <td>F</td>\n",
       "      <td>Y</td>\n",
       "      <td>NaN</td>\n",
       "      <td>01/13/2021</td>\n",
       "      <td>NaN</td>\n",
       "      <td>NaN</td>\n",
       "      <td>NaN</td>\n",
       "      <td>COVID19</td>\n",
       "      <td>PFIZER\\BIONTECH</td>\n",
       "    </tr>\n",
       "    <tr>\n",
       "      <th>24454</th>\n",
       "      <td>1045129</td>\n",
       "      <td>NJ</td>\n",
       "      <td>105.0</td>\n",
       "      <td>F</td>\n",
       "      <td>NaN</td>\n",
       "      <td>NaN</td>\n",
       "      <td>02/10/2021</td>\n",
       "      <td>NaN</td>\n",
       "      <td>NaN</td>\n",
       "      <td>NaN</td>\n",
       "      <td>COVID19</td>\n",
       "      <td>MODERNA</td>\n",
       "    </tr>\n",
       "    <tr>\n",
       "      <th>3675</th>\n",
       "      <td>920832</td>\n",
       "      <td>NY</td>\n",
       "      <td>104.0</td>\n",
       "      <td>F</td>\n",
       "      <td>Y</td>\n",
       "      <td>01/04/2021</td>\n",
       "      <td>12/30/2020</td>\n",
       "      <td>NaN</td>\n",
       "      <td>NaN</td>\n",
       "      <td>NaN</td>\n",
       "      <td>COVID19</td>\n",
       "      <td>PFIZER\\BIONTECH</td>\n",
       "    </tr>\n",
       "    <tr>\n",
       "      <th>2122</th>\n",
       "      <td>919052</td>\n",
       "      <td>TN</td>\n",
       "      <td>103.0</td>\n",
       "      <td>F</td>\n",
       "      <td>NaN</td>\n",
       "      <td>NaN</td>\n",
       "      <td>01/04/2021</td>\n",
       "      <td>NaN</td>\n",
       "      <td>NaN</td>\n",
       "      <td>NaN</td>\n",
       "      <td>COVID19</td>\n",
       "      <td>MODERNA</td>\n",
       "    </tr>\n",
       "    <tr>\n",
       "      <th>24291</th>\n",
       "      <td>1041656</td>\n",
       "      <td>OH</td>\n",
       "      <td>103.0</td>\n",
       "      <td>F</td>\n",
       "      <td>Y</td>\n",
       "      <td>02/12/2021</td>\n",
       "      <td>02/06/2021</td>\n",
       "      <td>NaN</td>\n",
       "      <td>NaN</td>\n",
       "      <td>NaN</td>\n",
       "      <td>COVID19</td>\n",
       "      <td>PFIZER\\BIONTECH</td>\n",
       "    </tr>\n",
       "    <tr>\n",
       "      <th>31559</th>\n",
       "      <td>1075349</td>\n",
       "      <td>IL</td>\n",
       "      <td>103.0</td>\n",
       "      <td>F</td>\n",
       "      <td>Y</td>\n",
       "      <td>02/25/2021</td>\n",
       "      <td>01/25/2021</td>\n",
       "      <td>NaN</td>\n",
       "      <td>NaN</td>\n",
       "      <td>NaN</td>\n",
       "      <td>COVID19</td>\n",
       "      <td>MODERNA</td>\n",
       "    </tr>\n",
       "    <tr>\n",
       "      <th>6503</th>\n",
       "      <td>924112</td>\n",
       "      <td>WI</td>\n",
       "      <td>102.0</td>\n",
       "      <td>F</td>\n",
       "      <td>NaN</td>\n",
       "      <td>NaN</td>\n",
       "      <td>01/02/2021</td>\n",
       "      <td>NaN</td>\n",
       "      <td>NaN</td>\n",
       "      <td>NaN</td>\n",
       "      <td>COVID19</td>\n",
       "      <td>MODERNA</td>\n",
       "    </tr>\n",
       "    <tr>\n",
       "      <th>23684</th>\n",
       "      <td>1033573</td>\n",
       "      <td>MI</td>\n",
       "      <td>102.0</td>\n",
       "      <td>M</td>\n",
       "      <td>NaN</td>\n",
       "      <td>NaN</td>\n",
       "      <td>02/08/2021</td>\n",
       "      <td>NaN</td>\n",
       "      <td>Y</td>\n",
       "      <td>4.0</td>\n",
       "      <td>COVID19</td>\n",
       "      <td>PFIZER\\BIONTECH</td>\n",
       "    </tr>\n",
       "    <tr>\n",
       "      <th>26687</th>\n",
       "      <td>1048399</td>\n",
       "      <td>PA</td>\n",
       "      <td>102.0</td>\n",
       "      <td>F</td>\n",
       "      <td>Y</td>\n",
       "      <td>NaN</td>\n",
       "      <td>02/01/2021</td>\n",
       "      <td>NaN</td>\n",
       "      <td>NaN</td>\n",
       "      <td>NaN</td>\n",
       "      <td>COVID19</td>\n",
       "      <td>PFIZER\\BIONTECH</td>\n",
       "    </tr>\n",
       "  </tbody>\n",
       "</table>\n",
       "</div>"
      ],
      "text/plain": [
       "       VAERS_ID STATE  CAGE_YR SEX DIED    DATEDIED    VAX_DATE ER_VISIT  \\\n",
       "31158   1073361    IL    106.0   F    Y  02/19/2021  01/25/2021      NaN   \n",
       "19874    975223    TX    105.0   F    Y         NaN  01/13/2021      NaN   \n",
       "24454   1045129    NJ    105.0   F  NaN         NaN  02/10/2021      NaN   \n",
       "3675     920832    NY    104.0   F    Y  01/04/2021  12/30/2020      NaN   \n",
       "2122     919052    TN    103.0   F  NaN         NaN  01/04/2021      NaN   \n",
       "24291   1041656    OH    103.0   F    Y  02/12/2021  02/06/2021      NaN   \n",
       "31559   1075349    IL    103.0   F    Y  02/25/2021  01/25/2021      NaN   \n",
       "6503     924112    WI    102.0   F  NaN         NaN  01/02/2021      NaN   \n",
       "23684   1033573    MI    102.0   M  NaN         NaN  02/08/2021      NaN   \n",
       "26687   1048399    PA    102.0   F    Y         NaN  02/01/2021      NaN   \n",
       "\n",
       "      L_THREAT  HOSPDAYS VAX_TYPE         VAX_MANU  \n",
       "31158      NaN       NaN  COVID19          MODERNA  \n",
       "19874      NaN       NaN  COVID19  PFIZER\\BIONTECH  \n",
       "24454      NaN       NaN  COVID19          MODERNA  \n",
       "3675       NaN       NaN  COVID19  PFIZER\\BIONTECH  \n",
       "2122       NaN       NaN  COVID19          MODERNA  \n",
       "24291      NaN       NaN  COVID19  PFIZER\\BIONTECH  \n",
       "31559      NaN       NaN  COVID19          MODERNA  \n",
       "6503       NaN       NaN  COVID19          MODERNA  \n",
       "23684        Y       4.0  COVID19  PFIZER\\BIONTECH  \n",
       "26687      NaN       NaN  COVID19  PFIZER\\BIONTECH  "
      ]
     },
     "execution_count": 57,
     "metadata": {},
     "output_type": "execute_result"
    }
   ],
   "source": [
    "#the elder 10 of vaccine receipts\n",
    "\n",
    "VAXC.nlargest(10, ['CAGE_YR'])"
   ]
  },
  {
   "cell_type": "code",
   "execution_count": 58,
   "id": "45d74656",
   "metadata": {},
   "outputs": [
    {
     "data": {
      "text/plain": [
       "VAERS_ID    24\n",
       "STATE       24\n",
       "CAGE_YR     24\n",
       "SEX         24\n",
       "DIED        16\n",
       "DATEDIED    14\n",
       "VAX_DATE    24\n",
       "ER_VISIT     0\n",
       "L_THREAT     1\n",
       "HOSPDAYS     2\n",
       "VAX_TYPE    24\n",
       "VAX_MANU    24\n",
       "dtype: int64"
      ]
     },
     "execution_count": 58,
     "metadata": {},
     "output_type": "execute_result"
    }
   ],
   "source": [
    "#count vaccine receipt who elder than 100 years old\n",
    "\n",
    "VAXC[VAXC.CAGE_YR > 100].count()"
   ]
  },
  {
   "cell_type": "code",
   "execution_count": 59,
   "id": "6857e196",
   "metadata": {},
   "outputs": [
    {
     "data": {
      "text/plain": [
       "VAERS_ID    7180\n",
       "STATE       7180\n",
       "CAGE_YR     7180\n",
       "SEX         7180\n",
       "DIED        1310\n",
       "DATEDIED    1250\n",
       "VAX_DATE    7180\n",
       "ER_VISIT       3\n",
       "L_THREAT     533\n",
       "HOSPDAYS    1489\n",
       "VAX_TYPE    7180\n",
       "VAX_MANU    7180\n",
       "dtype: int64"
      ]
     },
     "execution_count": 59,
     "metadata": {},
     "output_type": "execute_result"
    }
   ],
   "source": [
    "#count of people > 60 years old\n",
    "\n",
    "VAXC[VAXC.CAGE_YR >60].count()"
   ]
  },
  {
   "cell_type": "code",
   "execution_count": 60,
   "id": "23a30bef",
   "metadata": {},
   "outputs": [
    {
     "data": {
      "text/plain": [
       "Text(0, 0.5, 'Count')"
      ]
     },
     "execution_count": 60,
     "metadata": {},
     "output_type": "execute_result"
    },
    {
     "data": {
      "image/png": "[encoded data removed]",
      "text/plain": [
       "<Figure size 432x288 with 1 Axes>"
      ]
     },
     "metadata": {
      "needs_background": "light"
     },
     "output_type": "display_data"
    }
   ],
   "source": [
    "#plot histogram to show distribution for only  vaccine receipt more than 70 years old\n",
    "\n",
    "bins = np.arange(0, VAXC['CAGE_YR'].max()+0.2, 0.2)\n",
    "plt.hist(data=VAXC, x='CAGE_YR', bins=bins);\n",
    "\n",
    "plt.xlim((70,106));\n",
    "\n",
    "plt.title('Distribution of AGE of vaccine receipt ' , fontsize = 13, fontweight= 'bold')\n",
    "plt.xlabel('CAGE_YR' , fontsize = 12, fontweight= 'bold')\n",
    "plt.ylabel('Count',fontsize = 12, fontweight= \"bold\")\n"
   ]
  },
  {
   "cell_type": "code",
   "execution_count": 61,
   "id": "b65db43c",
   "metadata": {},
   "outputs": [
    {
     "data": {
      "text/plain": [
       "Text(0, 0.5, 'Count')"
      ]
     },
     "execution_count": 61,
     "metadata": {},
     "output_type": "execute_result"
    },
    {
     "data": {
      "image/png": "[encoded data removed]",
      "text/plain": [
       "<Figure size 432x288 with 1 Axes>"
      ]
     },
     "metadata": {
      "needs_background": "light"
     },
     "output_type": "display_data"
    }
   ],
   "source": [
    "#look at vaccine receipt between 50 to 70 years old\n",
    "\n",
    "bins = np.arange(0, VAXC['CAGE_YR'].max()+0.2, 0.2)\n",
    "plt.hist(data=VAXC, x='CAGE_YR', bins=bins);\n",
    "\n",
    "plt.xlim((50,70));\n",
    "\n",
    "plt.title('Distribution of AGE of vaccine receipt ' , fontsize = 13, fontweight= 'bold')\n",
    "plt.xlabel('CAGE_YR' , fontsize = 12, fontweight= 'bold')\n",
    "plt.ylabel('Count',fontsize = 12, fontweight= \"bold\")"
   ]
  },
  {
   "cell_type": "code",
   "execution_count": 62,
   "id": "b0ee4517",
   "metadata": {},
   "outputs": [
    {
     "data": {
      "text/plain": [
       "Text(0, 0.5, 'Count')"
      ]
     },
     "execution_count": 62,
     "metadata": {},
     "output_type": "execute_result"
    },
    {
     "data": {
      "image/png": "[encoded data removed]",
      "text/plain": [
       "<Figure size 432x288 with 1 Axes>"
      ]
     },
     "metadata": {
      "needs_background": "light"
     },
     "output_type": "display_data"
    }
   ],
   "source": [
    "#look at vaccine receipt  between 20 to 50 years old\n",
    "\n",
    "bins = np.arange(0, VAXC['CAGE_YR'].max()+0.2, 0.2)\n",
    "plt.hist(data=VAXC, x='CAGE_YR', bins=bins);\n",
    "\n",
    "plt.xlim((20,50));\n",
    "\n",
    "plt.title('Distribution of AGE of vaccine receipt ' , fontsize = 13, fontweight= 'bold')\n",
    "plt.xlabel('CAGE_YR' , fontsize = 12, fontweight= 'bold')\n",
    "plt.ylabel('Count',fontsize = 12, fontweight= \"bold\")"
   ]
  },
  {
   "cell_type": "code",
   "execution_count": 63,
   "id": "9b9e5e8a",
   "metadata": {},
   "outputs": [
    {
     "data": {
      "text/plain": [
       "Text(0, 0.5, 'Count')"
      ]
     },
     "execution_count": 63,
     "metadata": {},
     "output_type": "execute_result"
    },
    {
     "data": {
      "image/png": "[encoded data removed]",
      "text/plain": [
       "<Figure size 432x288 with 1 Axes>"
      ]
     },
     "metadata": {
      "needs_background": "light"
     },
     "output_type": "display_data"
    }
   ],
   "source": [
    "#look at vaccine receipt  between 20 to 50 years old\n",
    "\n",
    "bins = np.arange(0, VAXC['CAGE_YR'].max()+0.2, 0.2)\n",
    "plt.hist(data=VAXC, x='CAGE_YR', bins=bins);\n",
    "\n",
    "plt.xlim((30,40));\n",
    "\n",
    "plt.title('Distribution of AGE of vaccine receipt ' , fontsize = 13, fontweight= 'bold')\n",
    "plt.xlabel('CAGE_YR' , fontsize = 12, fontweight= 'bold')\n",
    "plt.ylabel('Count',fontsize = 12, fontweight= \"bold\")"
   ]
  },
  {
   "cell_type": "code",
   "execution_count": 64,
   "id": "88d4b838",
   "metadata": {},
   "outputs": [
    {
     "data": {
      "text/plain": [
       "Text(0, 0.5, 'Count')"
      ]
     },
     "execution_count": 64,
     "metadata": {},
     "output_type": "execute_result"
    },
    {
     "data": {
      "image/png": "[encoded data removed]",
      "text/plain": [
       "<Figure size 432x288 with 1 Axes>"
      ]
     },
     "metadata": {
      "needs_background": "light"
     },
     "output_type": "display_data"
    }
   ],
   "source": [
    "#look at vaccine receipt  between 20 to 70 years old\n",
    "\n",
    "bins = np.arange(0, VAXC['CAGE_YR'].max()+0.2, 0.2)\n",
    "plt.hist(data=VAXC, x='CAGE_YR', bins=bins);\n",
    "\n",
    "plt.xlim((20,70));\n",
    "\n",
    "plt.title('Distribution of AGE of vaccine receipt ' , fontsize = 13, fontweight= 'bold')\n",
    "plt.xlabel('CAGE_YR' , fontsize = 12, fontweight= 'bold')\n",
    "plt.ylabel('Count',fontsize = 12, fontweight= \"bold\")"
   ]
  },
  {
   "cell_type": "code",
   "execution_count": 65,
   "id": "fafc487f",
   "metadata": {},
   "outputs": [
    {
     "data": {
      "text/plain": [
       "51.35388098036655"
      ]
     },
     "execution_count": 65,
     "metadata": {},
     "output_type": "execute_result"
    }
   ],
   "source": [
    "#calculate mean of ages\n",
    "VAXC['CAGE_YR'].mean()"
   ]
  },
  {
   "cell_type": "markdown",
   "id": "dffc7956",
   "metadata": {},
   "source": [
    "### The largest amount of vaccine receipt are between 36 to  40  & 50years old"
   ]
  },
  {
   "cell_type": "code",
   "execution_count": 66,
   "id": "ca95e1c8",
   "metadata": {},
   "outputs": [
    {
     "name": "stderr",
     "output_type": "stream",
     "text": [
      "C:\\Users\\engma\\anaconda3\\lib\\site-packages\\seaborn\\distributions.py:2619: FutureWarning: `distplot` is a deprecated function and will be removed in a future version. Please adapt your code to use either `displot` (a figure-level function with similar flexibility) or `histplot` (an axes-level function for histograms).\n",
      "  warnings.warn(msg, FutureWarning)\n"
     ]
    },
    {
     "data": {
      "image/png": "[encoded data removed]",
      "text/plain": [
       "<Figure size 1152x360 with 1 Axes>"
      ]
     },
     "metadata": {
      "needs_background": "light"
     },
     "output_type": "display_data"
    }
   ],
   "source": [
    "#use distplot for over all view of ages disribution\n",
    "\n",
    "plt.figure(figsize=(16,5))\n",
    "plt.subplot(1,2,1)\n",
    "sb.distplot(VAXC['CAGE_YR'])\n",
    "\n",
    "plt.show()"
   ]
  },
  {
   "cell_type": "markdown",
   "id": "2a3bacee",
   "metadata": {},
   "source": [
    "# Age Range between 20 to 100"
   ]
  },
  {
   "cell_type": "code",
   "execution_count": 67,
   "id": "b952de54",
   "metadata": {},
   "outputs": [
    {
     "name": "stderr",
     "output_type": "stream",
     "text": [
      "C:\\Users\\engma\\anaconda3\\lib\\site-packages\\seaborn\\_decorators.py:36: FutureWarning: Pass the following variable as a keyword arg: x. From version 0.12, the only valid positional argument will be `data`, and passing other arguments without an explicit keyword will result in an error or misinterpretation.\n",
      "  warnings.warn(\n"
     ]
    },
    {
     "data": {
      "text/plain": [
       "<AxesSubplot:xlabel='CAGE_YR'>"
      ]
     },
     "execution_count": 67,
     "metadata": {},
     "output_type": "execute_result"
    },
    {
     "data": {
      "image/png": "[encoded data removed]",
      "text/plain": [
       "<Figure size 432x288 with 1 Axes>"
      ]
     },
     "metadata": {
      "needs_background": "light"
     },
     "output_type": "display_data"
    }
   ],
   "source": [
    "#check outliers \n",
    "\n",
    "sb.boxplot(VAXC['CAGE_YR'])"
   ]
  },
  {
   "cell_type": "markdown",
   "id": "7bb88b9d",
   "metadata": {},
   "source": [
    "#no outlier shown"
   ]
  },
  {
   "cell_type": "markdown",
   "id": "1301f744",
   "metadata": {},
   "source": [
    "# SEX\n",
    "# which gender has the most freqent records in data sample"
   ]
  },
  {
   "cell_type": "code",
   "execution_count": 68,
   "id": "7ba6926d",
   "metadata": {},
   "outputs": [
    {
     "data": {
      "text/plain": [
       "(-1.1005956009728444,\n",
       " 1.1050899637533733,\n",
       " -1.1050704571156469,\n",
       " 1.1006151076105708)"
      ]
     },
     "execution_count": 68,
     "metadata": {},
     "output_type": "execute_result"
    },
    {
     "data": {
      "image/png": "[encoded data removed]",
      "text/plain": [
       "<Figure size 576x576 with 1 Axes>"
      ]
     },
     "metadata": {},
     "output_type": "display_data"
    }
   ],
   "source": [
    "#Using Pie Chart to answer the above question\n",
    "\n",
    "plt.figure(figsize=(8,8));\n",
    "SEX_counts = VAXC['SEX'].value_counts()\n",
    "\n",
    "#specifiy angle for good visual \n",
    "\n",
    "plt.pie(SEX_counts, labels = SEX_counts.index, startangle = 90,autopct='%1.1f%%', counterclock = False);\n",
    "plt.axis('square')"
   ]
  },
  {
   "cell_type": "markdown",
   "id": "a7c5eecd",
   "metadata": {},
   "source": [
    "# females recorded 75.1 %  & males only 24.5 %"
   ]
  },
  {
   "cell_type": "code",
   "execution_count": 69,
   "id": "d25b2d8b",
   "metadata": {},
   "outputs": [
    {
     "data": {
      "text/html": [
       "<div>\n",
       "<style scoped>\n",
       "    .dataframe tbody tr th:only-of-type {\n",
       "        vertical-align: middle;\n",
       "    }\n",
       "\n",
       "    .dataframe tbody tr th {\n",
       "        vertical-align: top;\n",
       "    }\n",
       "\n",
       "    .dataframe thead th {\n",
       "        text-align: right;\n",
       "    }\n",
       "</style>\n",
       "<table border=\"1\" class=\"dataframe\">\n",
       "  <thead>\n",
       "    <tr style=\"text-align: right;\">\n",
       "      <th></th>\n",
       "      <th>VAERS_ID</th>\n",
       "      <th>STATE</th>\n",
       "      <th>CAGE_YR</th>\n",
       "      <th>DIED</th>\n",
       "      <th>DATEDIED</th>\n",
       "      <th>VAX_DATE</th>\n",
       "      <th>ER_VISIT</th>\n",
       "      <th>L_THREAT</th>\n",
       "      <th>HOSPDAYS</th>\n",
       "      <th>VAX_TYPE</th>\n",
       "      <th>VAX_MANU</th>\n",
       "    </tr>\n",
       "    <tr>\n",
       "      <th>SEX</th>\n",
       "      <th></th>\n",
       "      <th></th>\n",
       "      <th></th>\n",
       "      <th></th>\n",
       "      <th></th>\n",
       "      <th></th>\n",
       "      <th></th>\n",
       "      <th></th>\n",
       "      <th></th>\n",
       "      <th></th>\n",
       "      <th></th>\n",
       "    </tr>\n",
       "  </thead>\n",
       "  <tbody>\n",
       "    <tr>\n",
       "      <th>F</th>\n",
       "      <td>17241</td>\n",
       "      <td>17241</td>\n",
       "      <td>17241</td>\n",
       "      <td>681</td>\n",
       "      <td>647</td>\n",
       "      <td>17241</td>\n",
       "      <td>9</td>\n",
       "      <td>663</td>\n",
       "      <td>1416</td>\n",
       "      <td>17241</td>\n",
       "      <td>17241</td>\n",
       "    </tr>\n",
       "    <tr>\n",
       "      <th>M</th>\n",
       "      <td>5627</td>\n",
       "      <td>5627</td>\n",
       "      <td>5627</td>\n",
       "      <td>795</td>\n",
       "      <td>760</td>\n",
       "      <td>5627</td>\n",
       "      <td>1</td>\n",
       "      <td>399</td>\n",
       "      <td>1028</td>\n",
       "      <td>5627</td>\n",
       "      <td>5627</td>\n",
       "    </tr>\n",
       "    <tr>\n",
       "      <th>U</th>\n",
       "      <td>103</td>\n",
       "      <td>103</td>\n",
       "      <td>103</td>\n",
       "      <td>5</td>\n",
       "      <td>5</td>\n",
       "      <td>103</td>\n",
       "      <td>0</td>\n",
       "      <td>2</td>\n",
       "      <td>1</td>\n",
       "      <td>103</td>\n",
       "      <td>103</td>\n",
       "    </tr>\n",
       "  </tbody>\n",
       "</table>\n",
       "</div>"
      ],
      "text/plain": [
       "     VAERS_ID  STATE  CAGE_YR  DIED  DATEDIED  VAX_DATE  ER_VISIT  L_THREAT  \\\n",
       "SEX                                                                           \n",
       "F       17241  17241    17241   681       647     17241         9       663   \n",
       "M        5627   5627     5627   795       760      5627         1       399   \n",
       "U         103    103      103     5         5       103         0         2   \n",
       "\n",
       "     HOSPDAYS  VAX_TYPE  VAX_MANU  \n",
       "SEX                                \n",
       "F        1416     17241     17241  \n",
       "M        1028      5627      5627  \n",
       "U           1       103       103  "
      ]
     },
     "execution_count": 69,
     "metadata": {},
     "output_type": "execute_result"
    }
   ],
   "source": [
    "#look at counts\n",
    "\n",
    "VAXC.groupby('SEX').count()"
   ]
  },
  {
   "cell_type": "code",
   "execution_count": 70,
   "id": "5476201d",
   "metadata": {},
   "outputs": [
    {
     "data": {
      "text/plain": [
       "17241"
      ]
     },
     "execution_count": 70,
     "metadata": {},
     "output_type": "execute_result"
    }
   ],
   "source": [
    "#female count\n",
    "len(VAXC.query('SEX == \"F\"'))"
   ]
  },
  {
   "cell_type": "code",
   "execution_count": 71,
   "id": "9b4dfc61",
   "metadata": {},
   "outputs": [
    {
     "data": {
      "text/plain": [
       "0.7505550476687998"
      ]
     },
     "execution_count": 71,
     "metadata": {},
     "output_type": "execute_result"
    }
   ],
   "source": [
    "#% Of female are vaccinated\n",
    "\n",
    "len(VAXC.query('SEX == \"F\"')) / VAXC['SEX'].count()"
   ]
  },
  {
   "cell_type": "code",
   "execution_count": 72,
   "id": "d2ed2420",
   "metadata": {},
   "outputs": [
    {
     "data": {
      "text/plain": [
       "5627"
      ]
     },
     "execution_count": 72,
     "metadata": {},
     "output_type": "execute_result"
    }
   ],
   "source": [
    "#males count\n",
    "len(VAXC.query('SEX == \"M\"'))"
   ]
  },
  {
   "cell_type": "code",
   "execution_count": 73,
   "id": "951e2a73",
   "metadata": {},
   "outputs": [
    {
     "data": {
      "text/plain": [
       "0.2449610378303078"
      ]
     },
     "execution_count": 73,
     "metadata": {},
     "output_type": "execute_result"
    }
   ],
   "source": [
    "#% Of males are vaccinated\n",
    "\n",
    "len(VAXC.query('SEX == \"M\"')) / VAXC['SEX'].count()"
   ]
  },
  {
   "cell_type": "code",
   "execution_count": 74,
   "id": "2ec2804e",
   "metadata": {},
   "outputs": [
    {
     "data": {
      "text/plain": [
       "103"
      ]
     },
     "execution_count": 74,
     "metadata": {},
     "output_type": "execute_result"
    }
   ],
   "source": [
    "#unkown count\n",
    "len(VAXC.query('SEX == \"U\"'))"
   ]
  },
  {
   "cell_type": "markdown",
   "id": "452d4a1d",
   "metadata": {},
   "source": [
    "#proportions of vaccinated people depend on sex\n",
    "\n",
    "# 75.1% female & 24.4 % male "
   ]
  },
  {
   "cell_type": "markdown",
   "id": "cc36154c",
   "metadata": {},
   "source": [
    "# DIED\n",
    "\n",
    "# What is the % of people who DIED after vaccinated"
   ]
  },
  {
   "cell_type": "code",
   "execution_count": 75,
   "id": "9f6af88c",
   "metadata": {},
   "outputs": [
    {
     "data": {
      "text/plain": [
       "Y    1481\n",
       "Name: DIED, dtype: int64"
      ]
     },
     "execution_count": 75,
     "metadata": {},
     "output_type": "execute_result"
    }
   ],
   "source": [
    "#Calculate DIED values count\n",
    "\n",
    "VAXC['DIED'].value_counts()"
   ]
  },
  {
   "cell_type": "markdown",
   "id": "bffcfa5d",
   "metadata": {},
   "source": [
    "#AS WE SEE 1481 DIED OVER 22971\n",
    "#LETS FILL NAN VALUE TO SHOW "
   ]
  },
  {
   "cell_type": "code",
   "execution_count": 76,
   "id": "3b5a3b6e",
   "metadata": {},
   "outputs": [
    {
     "name": "stdout",
     "output_type": "stream",
     "text": [
      "       VAERS_ID STATE  CAGE_YR SEX DIED    DATEDIED    VAX_DATE ER_VISIT  \\\n",
      "0        916600    TX     33.0   F  NaN         NaN  12/28/2020      NaN   \n",
      "1        916601    CA     73.0   F  NaN         NaN  12/31/2020      NaN   \n",
      "2        916602    WA     23.0   F  NaN         NaN  12/31/2020      NaN   \n",
      "3        916603    WA     58.0   F  NaN         NaN  12/23/2020      NaN   \n",
      "4        916604    TX     47.0   F  NaN         NaN  12/22/2020      NaN   \n",
      "...         ...   ...      ...  ..  ...         ...         ...      ...   \n",
      "34622   1113563    HI     70.0   M    Y  03/06/2021  02/24/2021      NaN   \n",
      "34623   1113915    LA     77.0   F  NaN         NaN  01/25/2021      NaN   \n",
      "34624   1113916    NY     85.0   M  NaN         NaN  02/01/2021      NaN   \n",
      "34625   1113917    FL     87.0   F  NaN         NaN  01/13/2021      NaN   \n",
      "34629   1115348    NC     85.0   F    Y  03/06/2021  03/05/2021      NaN   \n",
      "\n",
      "      L_THREAT  HOSPDAYS VAX_TYPE         VAX_MANU  \n",
      "0          NaN       NaN  COVID19          MODERNA  \n",
      "1          NaN       NaN  COVID19          MODERNA  \n",
      "2          NaN       NaN  COVID19  PFIZER\\BIONTECH  \n",
      "3          NaN       NaN  COVID19          MODERNA  \n",
      "4          NaN       NaN  COVID19          MODERNA  \n",
      "...        ...       ...      ...              ...  \n",
      "34622      NaN       2.0  COVID19          MODERNA  \n",
      "34623      NaN       NaN  COVID19          MODERNA  \n",
      "34624      NaN       3.0  COVID19          MODERNA  \n",
      "34625      NaN       NaN  COVID19          MODERNA  \n",
      "34629      NaN       NaN  COVID19          MODERNA  \n",
      "\n",
      "[22971 rows x 12 columns]\n"
     ]
    }
   ],
   "source": [
    "#fill all null values with \"NaN\"\n",
    "\n",
    "print(VAXC.replace('None',np.NaN))"
   ]
  },
  {
   "cell_type": "code",
   "execution_count": 77,
   "id": "9fecd71b",
   "metadata": {},
   "outputs": [
    {
     "name": "stderr",
     "output_type": "stream",
     "text": [
      "C:\\Users\\engma\\anaconda3\\lib\\site-packages\\pandas\\core\\generic.py:6392: SettingWithCopyWarning: \n",
      "A value is trying to be set on a copy of a slice from a DataFrame\n",
      "\n",
      "See the caveats in the documentation: https://pandas.pydata.org/pandas-docs/stable/user_guide/indexing.html#returning-a-view-versus-a-copy\n",
      "  return self._update_inplace(result)\n"
     ]
    }
   ],
   "source": [
    "#fill replace NaN values with 'N'\n",
    "\n",
    "VAXC['DIED'].fillna('N',inplace=True)"
   ]
  },
  {
   "cell_type": "code",
   "execution_count": 78,
   "id": "18787976",
   "metadata": {},
   "outputs": [
    {
     "data": {
      "image/png": "[encoded data removed]",
      "text/plain": [
       "<Figure size 432x288 with 1 Axes>"
      ]
     },
     "metadata": {
      "needs_background": "light"
     },
     "output_type": "display_data"
    }
   ],
   "source": [
    "#Try Bar plot to explore\n",
    "\n",
    "freq3 =VAXC['DIED'].value_counts()\n",
    "\n",
    "# Get the indexes of the Series\n",
    "gen_order3 = freq3.index\n",
    "\n",
    "# Plot the bar chart in the decreasing order of the frequency of the `DIED`\n",
    "sb.countplot(data=VAXC, x='DIED', color=base_color, order=gen_order3);"
   ]
  },
  {
   "cell_type": "markdown",
   "id": "dc0fbcca",
   "metadata": {},
   "source": [
    "# Bar plot not a best choice here Let's try Pie chart"
   ]
  },
  {
   "cell_type": "code",
   "execution_count": 79,
   "id": "c17a161f",
   "metadata": {},
   "outputs": [
    {
     "data": {
      "text/plain": [
       "(-1.1064345558967268,\n",
       " 1.1079453466959113,\n",
       " -1.1069260799843614,\n",
       " 1.1074538226082766)"
      ]
     },
     "execution_count": 79,
     "metadata": {},
     "output_type": "execute_result"
    },
    {
     "data": {
      "image/png": "[encoded data removed]",
      "text/plain": [
       "<Figure size 576x576 with 1 Axes>"
      ]
     },
     "metadata": {},
     "output_type": "display_data"
    }
   ],
   "source": [
    "#plot Pie Chart to see the % of DIED people Clearly \n",
    "\n",
    "plt.figure(figsize=(8,8));\n",
    "DIED_counts = VAXC['DIED'].value_counts()\n",
    "plt.pie(DIED_counts, labels = DIED_counts.index, startangle = 90,autopct='%1.1f%%', counterclock = False);\n",
    "plt.axis('square')\n",
    "\n",
    "\n"
   ]
  },
  {
   "cell_type": "markdown",
   "id": "e4733834",
   "metadata": {},
   "source": [
    "# 6.4% of vaccinated people are DIED"
   ]
  },
  {
   "cell_type": "markdown",
   "id": "fc0c9b91",
   "metadata": {},
   "source": [
    "# ER_VISIT\n",
    "### What is the % of people who needed emergency room after vaccinated ?"
   ]
  },
  {
   "cell_type": "code",
   "execution_count": 80,
   "id": "a739a820",
   "metadata": {},
   "outputs": [
    {
     "name": "stderr",
     "output_type": "stream",
     "text": [
      "C:\\Users\\engma\\anaconda3\\lib\\site-packages\\pandas\\core\\generic.py:6392: SettingWithCopyWarning: \n",
      "A value is trying to be set on a copy of a slice from a DataFrame\n",
      "\n",
      "See the caveats in the documentation: https://pandas.pydata.org/pandas-docs/stable/user_guide/indexing.html#returning-a-view-versus-a-copy\n",
      "  return self._update_inplace(result)\n"
     ]
    }
   ],
   "source": [
    "#replace nan values by no to plot\n",
    "\n",
    "VAXC['ER_VISIT'].fillna('No',inplace=True)"
   ]
  },
  {
   "cell_type": "code",
   "execution_count": 81,
   "id": "77011996",
   "metadata": {
    "scrolled": false
   },
   "outputs": [
    {
     "data": {
      "image/png": "[encoded data removed]",
      "text/plain": [
       "<Figure size 1440x576 with 1 Axes>"
      ]
     },
     "metadata": {
      "needs_background": "light"
     },
     "output_type": "display_data"
    }
   ],
   "source": [
    "#use bar plot to show the counts who needed emeregency room after vaccinated\n",
    "\n",
    "plt.figure(figsize=(20,8))\n",
    "sb.countplot(data=VAXC, x='ER_VISIT', color=base_color);\n"
   ]
  },
  {
   "cell_type": "markdown",
   "id": "ffd987eb",
   "metadata": {},
   "source": [
    "#Weak graph , its better to use pie chart"
   ]
  },
  {
   "cell_type": "code",
   "execution_count": 82,
   "id": "d43ba854",
   "metadata": {},
   "outputs": [
    {
     "data": {
      "text/plain": [
       "(-1.1002850200399619,\n",
       " 1.1001073648371371,\n",
       " -1.1001875201608333,\n",
       " 1.1002048647162657)"
      ]
     },
     "execution_count": 82,
     "metadata": {},
     "output_type": "execute_result"
    },
    {
     "data": {
      "image/png": "[encoded data removed]",
      "text/plain": [
       "<Figure size 576x576 with 1 Axes>"
      ]
     },
     "metadata": {},
     "output_type": "display_data"
    }
   ],
   "source": [
    "#use bar chart to show % clearly\n",
    "\n",
    "plt.figure(figsize=(8,8));\n",
    "EV_counts = VAXC['ER_VISIT'].value_counts()\n",
    "plt.pie(EV_counts, labels = EV_counts.index, startangle = 90,autopct='%1.1f%%', counterclock = False);\n",
    "plt.axis('square')"
   ]
  },
  {
   "cell_type": "markdown",
   "id": "75a34c23",
   "metadata": {},
   "source": [
    "## it seems to small % , let's look at counts"
   ]
  },
  {
   "cell_type": "code",
   "execution_count": 83,
   "id": "467baca5",
   "metadata": {},
   "outputs": [
    {
     "data": {
      "text/plain": [
       "No    22961\n",
       "Y        10\n",
       "Name: ER_VISIT, dtype: int64"
      ]
     },
     "execution_count": 83,
     "metadata": {},
     "output_type": "execute_result"
    }
   ],
   "source": [
    "VAXC['ER_VISIT'].value_counts()"
   ]
  },
  {
   "cell_type": "code",
   "execution_count": 84,
   "id": "979477b0",
   "metadata": {},
   "outputs": [
    {
     "data": {
      "text/plain": [
       "0.00043533150494101257"
      ]
     },
     "execution_count": 84,
     "metadata": {},
     "output_type": "execute_result"
    }
   ],
   "source": [
    "10/VAXC['ER_VISIT'].count()"
   ]
  },
  {
   "cell_type": "markdown",
   "id": "3b0e4a9b",
   "metadata": {},
   "source": [
    "# 0.04 % need emergency room after Vaccinatd-- very low %"
   ]
  },
  {
   "cell_type": "markdown",
   "id": "7024e18d",
   "metadata": {},
   "source": [
    "# L_THREAT\n",
    "\n",
    "# What is the % of people who faced a threat after vaccinated ?"
   ]
  },
  {
   "cell_type": "code",
   "execution_count": 85,
   "id": "3bebcce4",
   "metadata": {},
   "outputs": [
    {
     "name": "stderr",
     "output_type": "stream",
     "text": [
      "C:\\Users\\engma\\anaconda3\\lib\\site-packages\\pandas\\core\\generic.py:6392: SettingWithCopyWarning: \n",
      "A value is trying to be set on a copy of a slice from a DataFrame\n",
      "\n",
      "See the caveats in the documentation: https://pandas.pydata.org/pandas-docs/stable/user_guide/indexing.html#returning-a-view-versus-a-copy\n",
      "  return self._update_inplace(result)\n"
     ]
    }
   ],
   "source": [
    "#fill nan values by no to show\n",
    "\n",
    "VAXC['L_THREAT'].fillna('No',inplace=True)"
   ]
  },
  {
   "cell_type": "code",
   "execution_count": 86,
   "id": "3b154caa",
   "metadata": {},
   "outputs": [
    {
     "data": {
      "text/plain": [
       "(-1.1079891192784346,\n",
       " 1.1071434306609698,\n",
       " -1.1079648901888985,\n",
       " 1.1071676597505058)"
      ]
     },
     "execution_count": 86,
     "metadata": {},
     "output_type": "execute_result"
    },
    {
     "data": {
      "image/png": "[encoded data removed]",
      "text/plain": [
       "<Figure size 576x576 with 1 Axes>"
      ]
     },
     "metadata": {},
     "output_type": "display_data"
    }
   ],
   "source": [
    "#use Pie chart to show % of  people who faced a threat after vaccinated \n",
    "\n",
    "plt.figure(figsize=(8,8));\n",
    "TH_counts = VAXC['L_THREAT'].value_counts()\n",
    "plt.pie(TH_counts, labels = TH_counts.index, startangle = 90,autopct='%1.1f%%', counterclock = False);\n",
    "plt.axis('square')"
   ]
  },
  {
   "cell_type": "markdown",
   "id": "62e06156",
   "metadata": {},
   "source": [
    "# 4.6% Faced a threat after vaccinated"
   ]
  },
  {
   "cell_type": "markdown",
   "id": "f65b832c",
   "metadata": {},
   "source": [
    "## HOSPDAYS\n",
    "\n",
    "### How many people needed to spent some days on hospitals ? , and what are the averae no of these days ?"
   ]
  },
  {
   "cell_type": "code",
   "execution_count": 87,
   "id": "ad466649",
   "metadata": {},
   "outputs": [
    {
     "data": {
      "text/plain": [
       "Text(0, 0.5, 'Count')"
      ]
     },
     "execution_count": 87,
     "metadata": {},
     "output_type": "execute_result"
    },
    {
     "data": {
      "image/png": "[encoded data removed]",
      "text/plain": [
       "<Figure size 1440x576 with 1 Axes>"
      ]
     },
     "metadata": {
      "needs_background": "light"
     },
     "output_type": "display_data"
    }
   ],
   "source": [
    "#use bar plot to show the distribution\n",
    "\n",
    "plt.figure(figsize=(20,8))\n",
    "sb.countplot(data=VAXC, x='HOSPDAYS', color=base_color);\n",
    "\n",
    "plt.title('Distribution of HOSPDAYS of vaccine receipt ' , fontsize = 18, fontweight= 'bold')\n",
    "plt.xlabel('HOSPDAYS' , fontsize = 12, fontweight= 'bold')\n",
    "plt.ylabel('Count',fontsize = 12, fontweight= \"bold\")\n"
   ]
  },
  {
   "cell_type": "markdown",
   "id": "bea03e3b",
   "metadata": {},
   "source": [
    "### People who needed to spent days at hospitals ..spent from 1 day to 39 day as max"
   ]
  },
  {
   "cell_type": "code",
   "execution_count": 88,
   "id": "4beb25db",
   "metadata": {},
   "outputs": [
    {
     "data": {
      "text/plain": [
       "Text(0, 0.5, 'Count')"
      ]
     },
     "execution_count": 88,
     "metadata": {},
     "output_type": "execute_result"
    },
    {
     "data": {
      "image/png": "[encoded data removed]",
      "text/plain": [
       "<Figure size 432x288 with 1 Axes>"
      ]
     },
     "metadata": {
      "needs_background": "light"
     },
     "output_type": "display_data"
    }
   ],
   "source": [
    "\n",
    "#use histogram to find the range of nost popular days counts \n",
    "plt.hist(VAXC['HOSPDAYS']);\n",
    "\n",
    "plt.title('Distribution ofHOSPDAYS of vaccine receipt ' , fontsize = 13, fontweight= 'bold')\n",
    "plt.xlabel('HOSPDAYS' , fontsize = 12, fontweight= 'bold')\n",
    "plt.ylabel('Count',fontsize = 12, fontweight= \"bold\")\n"
   ]
  },
  {
   "cell_type": "markdown",
   "id": "c687e00d",
   "metadata": {},
   "source": [
    "## Most People who needed to stay at hospital spent between 0 to 5 days "
   ]
  },
  {
   "cell_type": "code",
   "execution_count": 89,
   "id": "98049a90",
   "metadata": {
    "scrolled": false
   },
   "outputs": [
    {
     "data": {
      "text/plain": [
       "count    2445.000000\n",
       "mean        3.779141\n",
       "std         3.980966\n",
       "min         1.000000\n",
       "25%         1.000000\n",
       "50%         3.000000\n",
       "75%         5.000000\n",
       "max        39.000000\n",
       "Name: HOSPDAYS, dtype: float64"
      ]
     },
     "execution_count": 89,
     "metadata": {},
     "output_type": "execute_result"
    }
   ],
   "source": [
    "#Look at the count of people who needed to stay at hospital \n",
    "\n",
    "VAXC['HOSPDAYS'].describe()"
   ]
  },
  {
   "cell_type": "markdown",
   "id": "649fcb43",
   "metadata": {},
   "source": [
    "### 2445 needed to stay some days @ hospital"
   ]
  },
  {
   "cell_type": "code",
   "execution_count": 90,
   "id": "f5233b61",
   "metadata": {},
   "outputs": [
    {
     "data": {
      "text/plain": [
       "(22971, 12)"
      ]
     },
     "execution_count": 90,
     "metadata": {},
     "output_type": "execute_result"
    }
   ],
   "source": [
    "VAXC.shape"
   ]
  },
  {
   "cell_type": "code",
   "execution_count": 91,
   "id": "5df05f10",
   "metadata": {},
   "outputs": [
    {
     "data": {
      "text/plain": [
       "0.10643855295807758"
      ]
     },
     "execution_count": 91,
     "metadata": {},
     "output_type": "execute_result"
    }
   ],
   "source": [
    "#% of people who spent somedays @hospital\n",
    "\n",
    "2445/22971"
   ]
  },
  {
   "cell_type": "markdown",
   "id": "f82fec14",
   "metadata": {},
   "source": [
    "# 10.6% of vaccinated people need to spend somedays at hospital\n",
    "# most of patients spent 0 to 5 Days "
   ]
  },
  {
   "cell_type": "markdown",
   "id": "607aef98",
   "metadata": {},
   "source": [
    "### VAX_MANU\n",
    "### which type of vaccine has the most frequent records ?"
   ]
  },
  {
   "cell_type": "code",
   "execution_count": 92,
   "id": "af4b7ac3",
   "metadata": {},
   "outputs": [
    {
     "data": {
      "text/plain": [
       "Text(0, 0.5, 'Count')"
      ]
     },
     "execution_count": 92,
     "metadata": {},
     "output_type": "execute_result"
    },
    {
     "data": {
      "image/png": "[encoded data removed]",
      "text/plain": [
       "<Figure size 1440x576 with 1 Axes>"
      ]
     },
     "metadata": {
      "needs_background": "light"
     },
     "output_type": "display_data"
    }
   ],
   "source": [
    "#use bar plot to explore\n",
    "\n",
    "plt.figure(figsize=(20,8))\n",
    "sb.countplot(data=VAXC, x='VAX_MANU', color=base_color);\n",
    "\n",
    "plt.title('Distribution of VAX MANU' , fontsize = 18, fontweight= 'bold')\n",
    "plt.xlabel('VAX_MANU' , fontsize = 12, fontweight= 'bold')\n",
    "plt.ylabel('Count',fontsize = 12, fontweight= \"bold\")"
   ]
  },
  {
   "cell_type": "markdown",
   "id": "aa84d44f",
   "metadata": {},
   "source": [
    "# Moderna has the highest frequent records "
   ]
  },
  {
   "cell_type": "code",
   "execution_count": 93,
   "id": "854e30b4",
   "metadata": {},
   "outputs": [
    {
     "data": {
      "text/plain": [
       "MODERNA                 13342\n",
       "PFIZER\\BIONTECH          8584\n",
       "JANSSEN                  1034\n",
       "UNKNOWN MANUFACTURER       11\n",
       "Name: VAX_MANU, dtype: int64"
      ]
     },
     "execution_count": 93,
     "metadata": {},
     "output_type": "execute_result"
    }
   ],
   "source": [
    "#look at counts\n",
    "\n",
    "VAXC['VAX_MANU'].value_counts()"
   ]
  },
  {
   "cell_type": "code",
   "execution_count": 94,
   "id": "39d3f1b6",
   "metadata": {},
   "outputs": [
    {
     "data": {
      "text/plain": [
       "(-1.116971049099727, 1.111590484042993, -1.106875850713769, 1.1216856824289512)"
      ]
     },
     "execution_count": 94,
     "metadata": {},
     "output_type": "execute_result"
    },
    {
     "data": {
      "image/png": "[encoded data removed]",
      "text/plain": [
       "<Figure size 576x576 with 1 Axes>"
      ]
     },
     "metadata": {},
     "output_type": "display_data"
    }
   ],
   "source": [
    "#use Pie chart to discover the % for each vax type\n",
    "plt.figure(figsize=(8,8));\n",
    "V_counts = VAXC['VAX_MANU'].value_counts()\n",
    "plt.pie(V_counts, labels = V_counts.index, startangle = 90,autopct='%1.1f%%', counterclock = False);\n",
    "plt.axis('square')"
   ]
  },
  {
   "cell_type": "markdown",
   "id": "4c1517b4",
   "metadata": {},
   "source": [
    "# Pie chart is the best choice here for show the distribution of vaccine type\n",
    " "
   ]
  },
  {
   "cell_type": "markdown",
   "id": "dfbc9f0f",
   "metadata": {},
   "source": [
    "### Moderna has the most frequent values 58.1 % \n",
    "### Pfizer 37.4 %\n",
    "### Janssen 4.5 %"
   ]
  },
  {
   "cell_type": "markdown",
   "id": "93be5e91",
   "metadata": {},
   "source": [
    "# Summary on Univariate Exploration data\n",
    "\n"
   ]
  },
  {
   "cell_type": "markdown",
   "id": "aca2f267",
   "metadata": {},
   "source": [
    "## Discuss the distribution(s) of  variable(s) of interest. Were there any unusual points?\n",
    "\n",
    "There is unusual points found during investigation , here is the summary of what i found in variables distributions\n",
    "\n",
    "* STATES   : 26.6% of vaccine receipt @#CA & TX & NY & FL\n",
    "* CAGE_YR  : The largest amount of vaccine receipt are between 36 to  40  & 50years old\n",
    "* SEX      : 75.1% female & 24.4 % male\n",
    "* DIED     : 6.4% of vaccinated people are DIED\n",
    "* ER_VISIT : 0.04 % need emergency room after Vaccinatd\n",
    "* L_THREAT : 4.6% Faced a threat after vaccinated\n",
    "* HOSPDAYS : 10.6% of vaccinated people need to spend somedays at hospital-- most of patients spent 0 to 5 Days\n",
    "* VAX MANU : Moderna has the most frequent values\n",
    "\n",
    "\n",
    "## Of the features you investigated, were there any unusual distributions? Did you perform any operations on the data to tidy, adjust, or change the form of the data? If so, why did you do this?\n",
    "\n",
    "i have worked with two CSV'S file that needed to be merged first , then i have started  to check missing and duplicated data and cleaned them to avoid any unwanted affect of them on my results ,,\n",
    "\n",
    "during my investigation i didn't find unusual records or distribution  , "
   ]
  },
  {
   "cell_type": "markdown",
   "id": "07545726",
   "metadata": {},
   "source": [
    "<a id='Bi'></a>\n",
    "\n",
    "# Bivariate Exploration"
   ]
  },
  {
   "cell_type": "code",
   "execution_count": 95,
   "id": "110b2afc",
   "metadata": {},
   "outputs": [
    {
     "data": {
      "text/html": [
       "<div>\n",
       "<style scoped>\n",
       "    .dataframe tbody tr th:only-of-type {\n",
       "        vertical-align: middle;\n",
       "    }\n",
       "\n",
       "    .dataframe tbody tr th {\n",
       "        vertical-align: top;\n",
       "    }\n",
       "\n",
       "    .dataframe thead th {\n",
       "        text-align: right;\n",
       "    }\n",
       "</style>\n",
       "<table border=\"1\" class=\"dataframe\">\n",
       "  <thead>\n",
       "    <tr style=\"text-align: right;\">\n",
       "      <th></th>\n",
       "      <th>VAERS_ID</th>\n",
       "      <th>STATE</th>\n",
       "      <th>CAGE_YR</th>\n",
       "      <th>SEX</th>\n",
       "      <th>DIED</th>\n",
       "      <th>DATEDIED</th>\n",
       "      <th>VAX_DATE</th>\n",
       "      <th>ER_VISIT</th>\n",
       "      <th>L_THREAT</th>\n",
       "      <th>HOSPDAYS</th>\n",
       "      <th>VAX_TYPE</th>\n",
       "      <th>VAX_MANU</th>\n",
       "    </tr>\n",
       "  </thead>\n",
       "  <tbody>\n",
       "    <tr>\n",
       "      <th>24466</th>\n",
       "      <td>1045145</td>\n",
       "      <td>NJ</td>\n",
       "      <td>79.0</td>\n",
       "      <td>F</td>\n",
       "      <td>N</td>\n",
       "      <td>NaN</td>\n",
       "      <td>02/16/2021</td>\n",
       "      <td>No</td>\n",
       "      <td>No</td>\n",
       "      <td>NaN</td>\n",
       "      <td>COVID19</td>\n",
       "      <td>MODERNA</td>\n",
       "    </tr>\n",
       "    <tr>\n",
       "      <th>6291</th>\n",
       "      <td>923883</td>\n",
       "      <td>TX</td>\n",
       "      <td>40.0</td>\n",
       "      <td>F</td>\n",
       "      <td>N</td>\n",
       "      <td>NaN</td>\n",
       "      <td>01/06/2021</td>\n",
       "      <td>No</td>\n",
       "      <td>No</td>\n",
       "      <td>NaN</td>\n",
       "      <td>COVID19</td>\n",
       "      <td>PFIZER\\BIONTECH</td>\n",
       "    </tr>\n",
       "    <tr>\n",
       "      <th>14281</th>\n",
       "      <td>931307</td>\n",
       "      <td>MO</td>\n",
       "      <td>70.0</td>\n",
       "      <td>M</td>\n",
       "      <td>N</td>\n",
       "      <td>NaN</td>\n",
       "      <td>12/29/2020</td>\n",
       "      <td>No</td>\n",
       "      <td>No</td>\n",
       "      <td>NaN</td>\n",
       "      <td>COVID19</td>\n",
       "      <td>MODERNA</td>\n",
       "    </tr>\n",
       "    <tr>\n",
       "      <th>16618</th>\n",
       "      <td>933186</td>\n",
       "      <td>WA</td>\n",
       "      <td>37.0</td>\n",
       "      <td>F</td>\n",
       "      <td>N</td>\n",
       "      <td>NaN</td>\n",
       "      <td>01/03/2021</td>\n",
       "      <td>No</td>\n",
       "      <td>No</td>\n",
       "      <td>NaN</td>\n",
       "      <td>COVID19</td>\n",
       "      <td>MODERNA</td>\n",
       "    </tr>\n",
       "    <tr>\n",
       "      <th>21024</th>\n",
       "      <td>994014</td>\n",
       "      <td>MA</td>\n",
       "      <td>52.0</td>\n",
       "      <td>F</td>\n",
       "      <td>N</td>\n",
       "      <td>NaN</td>\n",
       "      <td>01/31/2021</td>\n",
       "      <td>No</td>\n",
       "      <td>No</td>\n",
       "      <td>NaN</td>\n",
       "      <td>COVID19</td>\n",
       "      <td>MODERNA</td>\n",
       "    </tr>\n",
       "    <tr>\n",
       "      <th>25677</th>\n",
       "      <td>1046824</td>\n",
       "      <td>NH</td>\n",
       "      <td>74.0</td>\n",
       "      <td>M</td>\n",
       "      <td>N</td>\n",
       "      <td>NaN</td>\n",
       "      <td>02/20/2021</td>\n",
       "      <td>No</td>\n",
       "      <td>No</td>\n",
       "      <td>NaN</td>\n",
       "      <td>COVID19</td>\n",
       "      <td>MODERNA</td>\n",
       "    </tr>\n",
       "    <tr>\n",
       "      <th>33203</th>\n",
       "      <td>1086871</td>\n",
       "      <td>WI</td>\n",
       "      <td>41.0</td>\n",
       "      <td>F</td>\n",
       "      <td>N</td>\n",
       "      <td>NaN</td>\n",
       "      <td>01/14/2021</td>\n",
       "      <td>No</td>\n",
       "      <td>No</td>\n",
       "      <td>NaN</td>\n",
       "      <td>COVID19</td>\n",
       "      <td>MODERNA</td>\n",
       "    </tr>\n",
       "    <tr>\n",
       "      <th>8399</th>\n",
       "      <td>926101</td>\n",
       "      <td>IL</td>\n",
       "      <td>54.0</td>\n",
       "      <td>F</td>\n",
       "      <td>N</td>\n",
       "      <td>NaN</td>\n",
       "      <td>01/05/2021</td>\n",
       "      <td>No</td>\n",
       "      <td>No</td>\n",
       "      <td>NaN</td>\n",
       "      <td>COVID19</td>\n",
       "      <td>MODERNA</td>\n",
       "    </tr>\n",
       "    <tr>\n",
       "      <th>3375</th>\n",
       "      <td>920474</td>\n",
       "      <td>IL</td>\n",
       "      <td>30.0</td>\n",
       "      <td>F</td>\n",
       "      <td>N</td>\n",
       "      <td>NaN</td>\n",
       "      <td>01/04/2021</td>\n",
       "      <td>No</td>\n",
       "      <td>No</td>\n",
       "      <td>NaN</td>\n",
       "      <td>COVID19</td>\n",
       "      <td>MODERNA</td>\n",
       "    </tr>\n",
       "    <tr>\n",
       "      <th>17651</th>\n",
       "      <td>934676</td>\n",
       "      <td>WA</td>\n",
       "      <td>58.0</td>\n",
       "      <td>F</td>\n",
       "      <td>N</td>\n",
       "      <td>NaN</td>\n",
       "      <td>12/31/2020</td>\n",
       "      <td>No</td>\n",
       "      <td>Y</td>\n",
       "      <td>3.0</td>\n",
       "      <td>COVID19</td>\n",
       "      <td>PFIZER\\BIONTECH</td>\n",
       "    </tr>\n",
       "  </tbody>\n",
       "</table>\n",
       "</div>"
      ],
      "text/plain": [
       "       VAERS_ID STATE  CAGE_YR SEX DIED DATEDIED    VAX_DATE ER_VISIT  \\\n",
       "24466   1045145    NJ     79.0   F    N      NaN  02/16/2021       No   \n",
       "6291     923883    TX     40.0   F    N      NaN  01/06/2021       No   \n",
       "14281    931307    MO     70.0   M    N      NaN  12/29/2020       No   \n",
       "16618    933186    WA     37.0   F    N      NaN  01/03/2021       No   \n",
       "21024    994014    MA     52.0   F    N      NaN  01/31/2021       No   \n",
       "25677   1046824    NH     74.0   M    N      NaN  02/20/2021       No   \n",
       "33203   1086871    WI     41.0   F    N      NaN  01/14/2021       No   \n",
       "8399     926101    IL     54.0   F    N      NaN  01/05/2021       No   \n",
       "3375     920474    IL     30.0   F    N      NaN  01/04/2021       No   \n",
       "17651    934676    WA     58.0   F    N      NaN  12/31/2020       No   \n",
       "\n",
       "      L_THREAT  HOSPDAYS VAX_TYPE         VAX_MANU  \n",
       "24466       No       NaN  COVID19          MODERNA  \n",
       "6291        No       NaN  COVID19  PFIZER\\BIONTECH  \n",
       "14281       No       NaN  COVID19          MODERNA  \n",
       "16618       No       NaN  COVID19          MODERNA  \n",
       "21024       No       NaN  COVID19          MODERNA  \n",
       "25677       No       NaN  COVID19          MODERNA  \n",
       "33203       No       NaN  COVID19          MODERNA  \n",
       "8399        No       NaN  COVID19          MODERNA  \n",
       "3375        No       NaN  COVID19          MODERNA  \n",
       "17651        Y       3.0  COVID19  PFIZER\\BIONTECH  "
      ]
     },
     "execution_count": 95,
     "metadata": {},
     "output_type": "execute_result"
    }
   ],
   "source": [
    "VAXC.sample(10)"
   ]
  },
  {
   "cell_type": "markdown",
   "id": "15b28c11",
   "metadata": {},
   "source": [
    "### let's see the relations between AGE & DIED \n",
    "### Is age affect on died records ? "
   ]
  },
  {
   "cell_type": "code",
   "execution_count": 96,
   "id": "6dfd47b3",
   "metadata": {},
   "outputs": [
    {
     "data": {
      "text/plain": [
       "Text(0.5, 1.0, 'DIED Records Over CAGE_YR')"
      ]
     },
     "execution_count": 96,
     "metadata": {},
     "output_type": "execute_result"
    },
    {
     "data": {
      "image/png": "[encoded data removed]",
      "text/plain": [
       "<Figure size 432x288 with 1 Axes>"
      ]
     },
     "metadata": {
      "needs_background": "light"
     },
     "output_type": "display_data"
    }
   ],
   "source": [
    "#plot violin to describe the relation between ages and died records \n",
    "\n",
    "sb.violinplot(data=VAXC, y='DIED', x='CAGE_YR', color=base_color, innner=None);\n",
    "\n",
    "plt.title('DIED Records Over CAGE_YR' , fontsize = 12, fontweight= 'bold')"
   ]
  },
  {
   "cell_type": "markdown",
   "id": "039fe387",
   "metadata": {},
   "source": [
    "## It seems that there is a relation between Ages & Died records , died records are high between 70 to 100"
   ]
  },
  {
   "cell_type": "code",
   "execution_count": 97,
   "id": "b48bac6f",
   "metadata": {},
   "outputs": [
    {
     "data": {
      "text/plain": [
       "Text(0.5, 1.0, 'CAGE_YR VS DIED')"
      ]
     },
     "execution_count": 97,
     "metadata": {},
     "output_type": "execute_result"
    },
    {
     "data": {
      "image/png": "[encoded data removed]",
      "text/plain": [
       "<Figure size 360x360 with 1 Axes>"
      ]
     },
     "metadata": {
      "needs_background": "light"
     },
     "output_type": "display_data"
    }
   ],
   "source": [
    "#try box plot for more insights  to describe the relation between ages and died records \n",
    "\n",
    "sb.catplot( data = VAXC, x='DIED' , y ='CAGE_YR', kind= 'box')\n",
    "\n",
    "plt.title('CAGE_YR VS DIED' , fontsize = 12, fontweight= 'bold')"
   ]
  },
  {
   "cell_type": "markdown",
   "id": "2938c044",
   "metadata": {},
   "source": [
    "# As shown there is a strong relation between Age & Die ,, most Died people exceed 70 years old\n",
    "\n",
    "# unsual ponits beyween 0 to 40 for those people who died after vaccinated"
   ]
  },
  {
   "cell_type": "markdown",
   "id": "3aeef0be",
   "metadata": {},
   "source": [
    "# HOSPDAYS VS DIED\n",
    "\n",
    "### Is there a relations between  people who needed to spent somedays in hospital after vaccinated and died records ??"
   ]
  },
  {
   "cell_type": "code",
   "execution_count": 98,
   "id": "54249788",
   "metadata": {
    "scrolled": true
   },
   "outputs": [
    {
     "data": {
      "text/plain": [
       "Text(0.5, 1.0, 'HOSPDAYS VS DIED')"
      ]
     },
     "execution_count": 98,
     "metadata": {},
     "output_type": "execute_result"
    },
    {
     "data": {
      "image/png": "[encoded data removed]",
      "text/plain": [
       "<Figure size 432x288 with 1 Axes>"
      ]
     },
     "metadata": {
      "needs_background": "light"
     },
     "output_type": "display_data"
    }
   ],
   "source": [
    "#Plot violin to see the affect of HOSPDAYS records on DIED Records\n",
    "\n",
    "sb.violinplot(data=VAXC, y='HOSPDAYS', x='DIED', color=base_color, innner=None);\n",
    "\n",
    "plt.title('HOSPDAYS VS DIED' , fontsize = 12, fontweight= 'bold')"
   ]
  },
  {
   "cell_type": "markdown",
   "id": "80c14ece",
   "metadata": {},
   "source": [
    "## Insignificant corelation ,"
   ]
  },
  {
   "cell_type": "code",
   "execution_count": 99,
   "id": "154832b3",
   "metadata": {},
   "outputs": [
    {
     "data": {
      "text/plain": [
       "DIED  HOSPDAYS\n",
       "N     1.0         579\n",
       "      2.0         564\n",
       "      3.0         343\n",
       "      4.0         225\n",
       "      5.0         165\n",
       "      6.0         101\n",
       "      7.0          75\n",
       "      8.0          38\n",
       "      9.0          23\n",
       "      10.0         27\n",
       "      11.0         18\n",
       "      12.0         13\n",
       "      13.0         14\n",
       "      14.0          9\n",
       "      15.0          6\n",
       "      16.0          8\n",
       "      17.0          1\n",
       "      18.0          5\n",
       "      19.0          2\n",
       "      20.0          7\n",
       "      21.0          6\n",
       "      24.0          1\n",
       "      25.0          1\n",
       "      26.0          3\n",
       "      27.0          2\n",
       "      28.0          2\n",
       "      29.0          1\n",
       "      30.0          1\n",
       "      33.0          1\n",
       "      36.0          2\n",
       "      37.0          1\n",
       "      38.0          1\n",
       "Y     1.0          37\n",
       "      2.0          38\n",
       "      3.0          19\n",
       "      4.0          18\n",
       "      5.0          15\n",
       "      6.0          20\n",
       "      7.0           3\n",
       "      8.0           6\n",
       "      9.0           5\n",
       "      10.0         11\n",
       "      11.0          3\n",
       "      12.0          7\n",
       "      13.0          4\n",
       "      14.0          1\n",
       "      15.0          3\n",
       "      16.0          1\n",
       "      17.0          2\n",
       "      18.0          1\n",
       "      19.0          1\n",
       "      20.0          2\n",
       "      21.0          1\n",
       "      24.0          1\n",
       "      39.0          1\n",
       "dtype: int64"
      ]
     },
     "execution_count": 99,
     "metadata": {},
     "output_type": "execute_result"
    }
   ],
   "source": [
    "\n",
    "#LOOK AT THE COUNTS FOR EACH GROUP\n",
    "#Use group_by() and size() to get the number of DIED and each combination of the two variable levels \n",
    "\n",
    "N = VAXC.groupby(['DIED', 'HOSPDAYS']).size()\n",
    "N"
   ]
  },
  {
   "cell_type": "markdown",
   "id": "cbf4f633",
   "metadata": {},
   "source": [
    "# The Relation is Insignificant "
   ]
  },
  {
   "cell_type": "markdown",
   "id": "e37849ab",
   "metadata": {},
   "source": [
    "### let's see the relations between SEX & DIED \n",
    "## Is Gender has impact on DIED records ?"
   ]
  },
  {
   "cell_type": "code",
   "execution_count": 100,
   "id": "813e0d1b",
   "metadata": {
    "scrolled": true
   },
   "outputs": [
    {
     "data": {
      "text/plain": [
       "Text(0.5, 1.0, 'SEX VS DIED')"
      ]
     },
     "execution_count": 100,
     "metadata": {},
     "output_type": "execute_result"
    },
    {
     "data": {
      "image/png": "[encoded data removed]",
      "text/plain": [
       "<Figure size 432x288 with 1 Axes>"
      ]
     },
     "metadata": {
      "needs_background": "light"
     },
     "output_type": "display_data"
    }
   ],
   "source": [
    "#i will use bar plot to explore the relation between DIED records and Gender\n",
    "\n",
    "sb.countplot(data = VAXC, x = 'DIED', hue = 'SEX')\n",
    "plt.title('SEX VS DIED' , fontsize = 12, fontweight= 'bold')"
   ]
  },
  {
   "cell_type": "markdown",
   "id": "613ddca9",
   "metadata": {},
   "source": [
    "#  %DIED records for male is greater than females althogh the 75% of data sample are females "
   ]
  },
  {
   "cell_type": "code",
   "execution_count": 101,
   "id": "6164c1df",
   "metadata": {},
   "outputs": [
    {
     "data": {
      "text/plain": [
       "DIED  SEX\n",
       "N     F      16560\n",
       "      M       4832\n",
       "      U         98\n",
       "Y     F        681\n",
       "      M        795\n",
       "      U          5\n",
       "dtype: int64"
      ]
     },
     "execution_count": 101,
     "metadata": {},
     "output_type": "execute_result"
    }
   ],
   "source": [
    "#look at counts\n",
    "\n",
    "O = VAXC.groupby(['DIED', 'SEX']).size()\n",
    "O"
   ]
  },
  {
   "cell_type": "code",
   "execution_count": 102,
   "id": "8c1be9df",
   "metadata": {},
   "outputs": [
    {
     "data": {
      "text/plain": [
       "0.03949886897511745"
      ]
     },
     "execution_count": 102,
     "metadata": {},
     "output_type": "execute_result"
    }
   ],
   "source": [
    "# % of females DIED\n",
    "\n",
    "681/(681+16560)\n"
   ]
  },
  {
   "cell_type": "code",
   "execution_count": 103,
   "id": "fa68d821",
   "metadata": {},
   "outputs": [
    {
     "data": {
      "text/plain": [
       "0.141283099342456"
      ]
     },
     "execution_count": 103,
     "metadata": {},
     "output_type": "execute_result"
    }
   ],
   "source": [
    "# % of males Died\n",
    "\n",
    "795/(795+4832)"
   ]
  },
  {
   "cell_type": "markdown",
   "id": "e7c13c82",
   "metadata": {},
   "source": [
    "# Despite the similarity of no died in each gender , the % of male who died are bigger than female 3% DIED in female & 14 % in male "
   ]
  },
  {
   "cell_type": "markdown",
   "id": "db5d3eb3",
   "metadata": {},
   "source": [
    "### let's see the relations between ER_VISIT & DIED "
   ]
  },
  {
   "cell_type": "code",
   "execution_count": 104,
   "id": "515b98b1",
   "metadata": {},
   "outputs": [
    {
     "data": {
      "text/plain": [
       "Text(0.5, 1.0, 'ER_VISIT VS DIED')"
      ]
     },
     "execution_count": 104,
     "metadata": {},
     "output_type": "execute_result"
    },
    {
     "data": {
      "image/png": "[encoded data removed]",
      "text/plain": [
       "<Figure size 432x288 with 1 Axes>"
      ]
     },
     "metadata": {
      "needs_background": "light"
     },
     "output_type": "display_data"
    }
   ],
   "source": [
    "#use bar plot to explore the relation between ER_VISIT & DIED records\n",
    "\n",
    "sb.countplot(data = VAXC, x = 'DIED', hue = 'ER_VISIT')\n",
    "\n",
    "plt.title('ER_VISIT VS DIED' , fontsize = 12, fontweight= 'bold')"
   ]
  },
  {
   "cell_type": "code",
   "execution_count": 105,
   "id": "76a01f5b",
   "metadata": {},
   "outputs": [
    {
     "data": {
      "text/plain": [
       "No    22961\n",
       "Y        10\n",
       "Name: ER_VISIT, dtype: int64"
      ]
     },
     "execution_count": 105,
     "metadata": {},
     "output_type": "execute_result"
    }
   ],
   "source": [
    "#look at counts\n",
    "\n",
    "VAXC['ER_VISIT'].value_counts()"
   ]
  },
  {
   "cell_type": "markdown",
   "id": "1d6634fd",
   "metadata": {},
   "source": [
    "# very small records of people who need Emeregncy room after vaccinated"
   ]
  },
  {
   "cell_type": "code",
   "execution_count": 106,
   "id": "e85e6a58",
   "metadata": {},
   "outputs": [
    {
     "data": {
      "text/plain": [
       "DIED  ER_VISIT\n",
       "N     No          21480\n",
       "      Y              10\n",
       "Y     No           1481\n",
       "dtype: int64"
      ]
     },
     "execution_count": 106,
     "metadata": {},
     "output_type": "execute_result"
    }
   ],
   "source": [
    "# Use group_by() and size() to get the number of DIED and each combination of the two variable levels \n",
    "\n",
    "counts = VAXC.groupby(['DIED', 'ER_VISIT']).size()\n",
    "counts"
   ]
  },
  {
   "cell_type": "markdown",
   "id": "ec212700",
   "metadata": {},
   "source": [
    "# As we see there is no corelation between emergency visits and DIE"
   ]
  },
  {
   "cell_type": "markdown",
   "id": "9cd8fcfc",
   "metadata": {},
   "source": [
    "### let's see the relations between L_THREAT & DIED "
   ]
  },
  {
   "cell_type": "code",
   "execution_count": 107,
   "id": "eef82ec0",
   "metadata": {},
   "outputs": [
    {
     "data": {
      "text/plain": [
       "Text(0.5, 1.0, 'L_THREAT  VS DIED')"
      ]
     },
     "execution_count": 107,
     "metadata": {},
     "output_type": "execute_result"
    },
    {
     "data": {
      "image/png": "[encoded data removed]",
      "text/plain": [
       "<Figure size 432x288 with 1 Axes>"
      ]
     },
     "metadata": {
      "needs_background": "light"
     },
     "output_type": "display_data"
    }
   ],
   "source": [
    "#use bar plot to determine if people who faced a threat after vaccinated died \n",
    "\n",
    "sb.countplot(data = VAXC, x = 'DIED', hue = 'L_THREAT')\n",
    "plt.title('L_THREAT  VS DIED' , fontsize = 12, fontweight= 'bold')"
   ]
  },
  {
   "cell_type": "code",
   "execution_count": 108,
   "id": "2f1a117c",
   "metadata": {},
   "outputs": [
    {
     "data": {
      "text/plain": [
       "DIED  L_THREAT\n",
       "N     No          20461\n",
       "      Y            1029\n",
       "Y     No           1446\n",
       "      Y              35\n",
       "dtype: int64"
      ]
     },
     "execution_count": 108,
     "metadata": {},
     "output_type": "execute_result"
    }
   ],
   "source": [
    "#Look at counts of died records with those who faced a threat after vaccinated \n",
    "\n",
    "counts1 =VAXC.groupby(['DIED', 'L_THREAT']).size()\n",
    "counts1"
   ]
  },
  {
   "cell_type": "markdown",
   "id": "7bf9a2cf",
   "metadata": {},
   "source": [
    "# It seems that there is a week corelation between people who faced a threat and who died \n",
    "# The relation is insignificant "
   ]
  },
  {
   "cell_type": "markdown",
   "id": "a2482079",
   "metadata": {},
   "source": [
    "### let's see the relations between VAX_MANU & DIED\n",
    "### which type of vaccine is the most used ??\n",
    "### which type of vaccine have the highest DIED records ??\n"
   ]
  },
  {
   "cell_type": "code",
   "execution_count": 109,
   "id": "36d73234",
   "metadata": {
    "scrolled": true
   },
   "outputs": [
    {
     "data": {
      "text/plain": [
       "Text(0.5, 1.0, 'VAX_MANU VS DIED')"
      ]
     },
     "execution_count": 109,
     "metadata": {},
     "output_type": "execute_result"
    },
    {
     "data": {
      "image/png": "[encoded data removed]",
      "text/plain": [
       "<Figure size 432x288 with 1 Axes>"
      ]
     },
     "metadata": {
      "needs_background": "light"
     },
     "output_type": "display_data"
    }
   ],
   "source": [
    "#use bar plot to discover the relation between VAX_MANU & DIED records \n",
    "\n",
    "sb.countplot(data = VAXC, x = 'DIED', hue = 'VAX_MANU')\n",
    "\n",
    "plt.title('VAX_MANU VS DIED' , fontsize = 12, fontweight= 'bold')"
   ]
  },
  {
   "cell_type": "markdown",
   "id": "f66a4be6",
   "metadata": {},
   "source": [
    "# Janssen is the lest vaccine type used in my data sample\n",
    "# Moderna has the highest frequent"
   ]
  },
  {
   "cell_type": "code",
   "execution_count": 110,
   "id": "309d9323",
   "metadata": {},
   "outputs": [
    {
     "data": {
      "text/plain": [
       "MODERNA                 13342\n",
       "PFIZER\\BIONTECH          8584\n",
       "JANSSEN                  1034\n",
       "UNKNOWN MANUFACTURER       11\n",
       "Name: VAX_MANU, dtype: int64"
      ]
     },
     "execution_count": 110,
     "metadata": {},
     "output_type": "execute_result"
    }
   ],
   "source": [
    "#lets look at value counts for each type of vaccine \n",
    "\n",
    "VAXC['VAX_MANU'].value_counts()"
   ]
  },
  {
   "cell_type": "markdown",
   "id": "9d41471e",
   "metadata": {},
   "source": [
    "# Unknown manufacturer only 11 so we keep them no need to be removed"
   ]
  },
  {
   "cell_type": "code",
   "execution_count": 111,
   "id": "229a0c69",
   "metadata": {},
   "outputs": [
    {
     "data": {
      "text/plain": [
       "DIED  VAX_MANU            \n",
       "N     JANSSEN                  1019\n",
       "      MODERNA                 12512\n",
       "      PFIZER\\BIONTECH          7953\n",
       "      UNKNOWN MANUFACTURER        6\n",
       "Y     JANSSEN                    15\n",
       "      MODERNA                   830\n",
       "      PFIZER\\BIONTECH           631\n",
       "      UNKNOWN MANUFACTURER        5\n",
       "dtype: int64"
      ]
     },
     "execution_count": 111,
     "metadata": {},
     "output_type": "execute_result"
    }
   ],
   "source": [
    "#let's looke at value counts for each vaccine type whith DIED records \n",
    "\n",
    "counts2 =VAXC.groupby(['DIED', 'VAX_MANU']).size()\n",
    "counts2"
   ]
  },
  {
   "cell_type": "code",
   "execution_count": 112,
   "id": "e5eb417e",
   "metadata": {},
   "outputs": [
    {
     "data": {
      "text/plain": [
       "6.22095637835407"
      ]
     },
     "execution_count": 112,
     "metadata": {},
     "output_type": "execute_result"
    }
   ],
   "source": [
    "#% DIED WITH MODERNA\n",
    "830/(12512+830)*100"
   ]
  },
  {
   "cell_type": "code",
   "execution_count": 113,
   "id": "4d6216e2",
   "metadata": {},
   "outputs": [
    {
     "data": {
      "text/plain": [
       "7.350885368126747"
      ]
     },
     "execution_count": 113,
     "metadata": {},
     "output_type": "execute_result"
    }
   ],
   "source": [
    "#% DIED WITH PFIZER \n",
    "631/(7953+631)*100"
   ]
  },
  {
   "cell_type": "code",
   "execution_count": 114,
   "id": "d1595988",
   "metadata": {},
   "outputs": [
    {
     "data": {
      "text/plain": [
       "1.4506769825918762"
      ]
     },
     "execution_count": 114,
     "metadata": {},
     "output_type": "execute_result"
    }
   ],
   "source": [
    "#% DIED WITH JANSSEN\n",
    "15/(1019+15)*100"
   ]
  },
  {
   "cell_type": "markdown",
   "id": "e36c8955",
   "metadata": {},
   "source": [
    "# The Highist % of died recorded in PFIZER "
   ]
  },
  {
   "cell_type": "markdown",
   "id": "b497a78c",
   "metadata": {},
   "source": [
    "#  The interesting relationships  observed in this part of the investigation. \n",
    "\n",
    "###  As above visuals & statistcs the following variables seems  to have a significant impact on the died records.\n",
    "\n",
    "* CAGE_YR // \n",
    "As shown there is a strong relation between Age & Die ,, most Died people exceed 70 years old\n",
    "* SEX // \n",
    "Despite the aproximately similarity of no who  died in each gender , the % of male who died are bigger than female 3% DIED in female & 14 % in male\n",
    "* VAX MANU // \n",
    "The highist % of died recorded in PFIZER\n",
    "\n",
    "### following variables seems to have no a significant impact on the died records.\n",
    "\n",
    "* HOSPDAYS\n",
    "* LH_THREAR\n",
    "* ER_VISIT\n",
    "\n"
   ]
  },
  {
   "cell_type": "markdown",
   "id": "73f5829b",
   "metadata": {},
   "source": [
    "<a id='MU'></a>\n",
    "\n",
    "# Multivariate Exploration"
   ]
  },
  {
   "cell_type": "markdown",
   "id": "8e80095c",
   "metadata": {},
   "source": [
    "\n",
    "#### CAGE_YR VS DIED VS SEX\n",
    "### let's see if we combined SEX with CAGE_YR records  Thats will affect on DIED records or not "
   ]
  },
  {
   "cell_type": "code",
   "execution_count": 115,
   "id": "426e1ff2",
   "metadata": {},
   "outputs": [
    {
     "data": {
      "text/plain": [
       "Text(0.5, 1.0, 'impact of sex & ages together on DIED records  ')"
      ]
     },
     "execution_count": 115,
     "metadata": {},
     "output_type": "execute_result"
    },
    {
     "data": {
      "image/png": "[encoded data removed]",
      "text/plain": [
       "<Figure size 403.5x360 with 1 Axes>"
      ]
     },
     "metadata": {
      "needs_background": "light"
     },
     "output_type": "display_data"
    }
   ],
   "source": [
    "#plot violin to show the impact of sex & ages together on DIED records \n",
    "\n",
    "sb.catplot(data = VAXC, x='CAGE_YR' , y='SEX' ,hue='DIED' , kind =\"violin\")\n",
    "plt.title('impact of sex & ages together on DIED records  ' , fontsize = 12, fontweight= 'bold')"
   ]
  },
  {
   "cell_type": "markdown",
   "id": "aa30849c",
   "metadata": {},
   "source": [
    "## It seems Males & Females have the approximately the same manners "
   ]
  },
  {
   "cell_type": "code",
   "execution_count": 116,
   "id": "8ede4a51",
   "metadata": {
    "scrolled": true
   },
   "outputs": [
    {
     "data": {
      "text/plain": [
       "Text(0.5, 1.0, 'impact of sex & ages together on DIED records  ')"
      ]
     },
     "execution_count": 116,
     "metadata": {},
     "output_type": "execute_result"
    },
    {
     "data": {
      "image/png": "[encoded data removed]",
      "text/plain": [
       "<Figure size 432x288 with 1 Axes>"
      ]
     },
     "metadata": {
      "needs_background": "light"
     },
     "output_type": "display_data"
    }
   ],
   "source": [
    "\n",
    "#plot bar plot with the same above variables  for more insights \n",
    "\n",
    "sb.barplot(data = VAXC, x = 'SEX', y = 'CAGE_YR', hue = 'DIED')\n",
    "plt.title('impact of sex & ages together on DIED records  ' , fontsize = 12, fontweight= 'bold')"
   ]
  },
  {
   "cell_type": "markdown",
   "id": "00de9d3e",
   "metadata": {},
   "source": [
    "# As shown @ Violin plot & Bar plot , sex is insignificant here , in all genders we see died records near to 80 Years old"
   ]
  },
  {
   "cell_type": "markdown",
   "id": "9dc2d180",
   "metadata": {},
   "source": [
    "### CAGE_YR  VS. DIED  VS.  VAX_MANU\n",
    "### let's see the impact of CAGE_YR With VAX_MANY on DIED records "
   ]
  },
  {
   "cell_type": "code",
   "execution_count": 117,
   "id": "5c28ecc1",
   "metadata": {},
   "outputs": [
    {
     "data": {
      "text/plain": [
       "Text(0.5, 1.0, 'impact of VAX MANU & ages together on DIED records ')"
      ]
     },
     "execution_count": 117,
     "metadata": {},
     "output_type": "execute_result"
    },
    {
     "data": {
      "image/png": "[encoded data removed]",
      "text/plain": [
       "<Figure size 432x288 with 1 Axes>"
      ]
     },
     "metadata": {
      "needs_background": "light"
     },
     "output_type": "display_data"
    }
   ],
   "source": [
    "\n",
    "#plot bar plot to compare results of each combination of variables on DIED records\n",
    "\n",
    "sb.barplot(data = VAXC, x = 'CAGE_YR', y = 'DIED', hue = 'VAX_MANU')\n",
    "plt.title('impact of VAX MANU & ages together on DIED records ' , fontsize = 12, fontweight= 'bold')"
   ]
  },
  {
   "cell_type": "markdown",
   "id": "68655975",
   "metadata": {},
   "source": [
    "### As we see\" No DIED\" recorded didn't exceed   50 for moderna , Pfizer and Janssen \n",
    "### Most DIED recorded between 70 to 80"
   ]
  },
  {
   "cell_type": "code",
   "execution_count": 118,
   "id": "979216f8",
   "metadata": {},
   "outputs": [
    {
     "data": {
      "text/plain": [
       "Text(0.5, 1.0, 'impact of VAX MANU & ages together on DIED records ')"
      ]
     },
     "execution_count": 118,
     "metadata": {},
     "output_type": "execute_result"
    },
    {
     "data": {
      "image/png": "[encoded data removed]",
      "text/plain": [
       "<Figure size 403.5x360 with 1 Axes>"
      ]
     },
     "metadata": {
      "needs_background": "light"
     },
     "output_type": "display_data"
    }
   ],
   "source": [
    "\n",
    "#Try Violin plot using the same above variables  for more insights \n",
    "\n",
    "sb.catplot(data = VAXC, x='CAGE_YR' , y='VAX_MANU' ,hue='DIED' , kind =\"violin\")\n",
    "plt.title('impact of VAX MANU & ages together on DIED records ' , fontsize = 10, fontweight= 'bold')"
   ]
  },
  {
   "cell_type": "markdown",
   "id": "87d9fe27",
   "metadata": {},
   "source": [
    "### Moderna & Pfizer mostly have the same manners , Janssen slightly different , shown died records in smaller ages < 50"
   ]
  },
  {
   "cell_type": "code",
   "execution_count": 119,
   "id": "5271574b",
   "metadata": {},
   "outputs": [
    {
     "name": "stderr",
     "output_type": "stream",
     "text": [
      "C:\\Users\\engma\\AppData\\Local\\Temp/ipykernel_18972/2720803521.py:4: FutureWarning: Dropping invalid columns in DataFrameGroupBy.max is deprecated. In a future version, a TypeError will be raised. Before calling .max, select only columns which should be valid for the function.\n",
      "  X = VAXC.groupby(['DIED', 'VAX_MANU']).max()['CAGE_YR']\n"
     ]
    },
    {
     "data": {
      "text/plain": [
       "Text(0.5, 1.0, 'Distrubtion of ages over VAX_MANU for DIED records')"
      ]
     },
     "execution_count": 119,
     "metadata": {},
     "output_type": "execute_result"
    },
    {
     "data": {
      "image/png": "[encoded data removed]",
      "text/plain": [
       "<Figure size 432x288 with 2 Axes>"
      ]
     },
     "metadata": {
      "needs_background": "light"
     },
     "output_type": "display_data"
    }
   ],
   "source": [
    "\n",
    "#Try Heatmaps  plot using the same above variables  for more insights \n",
    "#using max range of age \n",
    "\n",
    "X = VAXC.groupby(['DIED', 'VAX_MANU']).max()['CAGE_YR']\n",
    "X = X.reset_index(name = 'CAGE_YR')\n",
    "X = X.pivot(index = 'DIED', columns = 'VAX_MANU',values = 'CAGE_YR')\n",
    "sb.heatmap(X, annot = True, fmt = '.3f',cbar_kws = {'label' : 'max(CAGE_YR'})\n",
    "\n",
    "plt.title('Distrubtion of ages over VAX_MANU for DIED records' , fontsize = 12, fontweight= 'bold')"
   ]
  },
  {
   "cell_type": "code",
   "execution_count": 120,
   "id": "62d787fc",
   "metadata": {},
   "outputs": [
    {
     "name": "stderr",
     "output_type": "stream",
     "text": [
      "C:\\Users\\engma\\AppData\\Local\\Temp/ipykernel_18972/2216478596.py:4: FutureWarning: Dropping invalid columns in DataFrameGroupBy.min is deprecated. In a future version, a TypeError will be raised. Before calling .min, select only columns which should be valid for the function.\n",
      "  X = VAXC.groupby(['DIED', 'VAX_MANU']).min()['CAGE_YR']\n"
     ]
    },
    {
     "data": {
      "text/plain": [
       "Text(0.5, 1.0, 'Distrubtion of ages over VAX_MANU for DIED records ')"
      ]
     },
     "execution_count": 120,
     "metadata": {},
     "output_type": "execute_result"
    },
    {
     "data": {
      "image/png": "[encoded data removed]",
      "text/plain": [
       "<Figure size 432x288 with 2 Axes>"
      ]
     },
     "metadata": {
      "needs_background": "light"
     },
     "output_type": "display_data"
    }
   ],
   "source": [
    "\n",
    "#Try Heatmaps  plot using the same above variables  for more insights \n",
    "#using min range of age \n",
    "\n",
    "X = VAXC.groupby(['DIED', 'VAX_MANU']).min()['CAGE_YR']\n",
    "X = X.reset_index(name = 'CAGE_YR')\n",
    "X = X.pivot(index = 'VAX_MANU', columns = 'DIED',values = 'CAGE_YR')\n",
    "sb.heatmap(X, annot = True, fmt = '.3f',cbar_kws = {'label' : '(CAGE_YR'})\n",
    "plt.title('Distrubtion of ages over VAX_MANU for DIED records ' , fontsize = 12, fontweight= 'bold')"
   ]
  },
  {
   "cell_type": "markdown",
   "id": "1069a073",
   "metadata": {},
   "source": [
    "# As shown moderna & pfizer seems to have the same manner regarding age and DIED records\n",
    "\n",
    "# Janssen shown some unsual points due to having higher recoreds for young people who died in 30's"
   ]
  },
  {
   "cell_type": "markdown",
   "id": "9a30ae60",
   "metadata": {},
   "source": [
    "<a id='cr'></a>\n",
    "\n",
    "# Conclusion & Recommendation "
   ]
  },
  {
   "cell_type": "markdown",
   "id": "5fc64062",
   "metadata": {},
   "source": [
    "### Conclusion\n",
    "\n",
    "* Over all the total visuals & statiscs shown that low % of DIED people after vaccinated approximately 6.4 %\n",
    "* Most of died people exceed 70 years old \n",
    "* Females has the 75 % of total data records \n",
    "* %Males who died after vaccinated is higher than females 14% males vs 3% females\n",
    "* Moderna and Pfizer seems to have the same manners \n",
    "\n",
    "### Recommendations \n",
    "* to find more insights regarding people who died we need to work with greater samples for males who exceed 60 yrs old \n",
    "* we need to work on greater samples for people who janssen vaccinated in age between 18 to 40\n",
    "\n",
    "\n",
    "\n"
   ]
  },
  {
   "cell_type": "markdown",
   "id": "ac75c27f",
   "metadata": {},
   "source": [
    "<a id='re'></a>\n",
    "\n",
    "## References \n",
    "\n",
    "#### Source of data set \n",
    "https://www.kaggle.com/ayushggarg/covid19-vaccine-adverse-reactions?select=2021VAERSSYMPTOMS.csv\n",
    "https://vaers.hhs.gov/docs/VAERSDataUseGuide_November2020.pdf\n",
    "\n",
    "#### Sources that helped to proceed this project \n",
    "\n",
    "* Stackoverflow\n",
    "* Youtube\n",
    "* Github\n",
    "* Cheat sheets shared on Linked in \n",
    "\n"
   ]
  },
  {
   "cell_type": "code",
   "execution_count": null,
   "id": "07d8469a",
   "metadata": {},
   "outputs": [],
   "source": []
  }
 ],
 "metadata": {
  "kernelspec": {
   "display_name": "Python 3 (ipykernel)",
   "language": "python",
   "name": "python3"
  },
  "language_info": {
   "codemirror_mode": {
    "name": "ipython",
    "version": 3
   },
   "file_extension": ".py",
   "mimetype": "text/x-python",
   "name": "python",
   "nbconvert_exporter": "python",
   "pygments_lexer": "ipython3",
   "version": "3.9.7"
  }
 },
 "nbformat": 4,
 "nbformat_minor": 5
}
